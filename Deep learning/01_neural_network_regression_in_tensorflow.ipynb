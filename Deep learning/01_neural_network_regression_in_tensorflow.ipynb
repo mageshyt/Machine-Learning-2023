{
 "cells": [
  {
   "cell_type": "markdown",
   "metadata": {},
   "source": [
    "## Introduction ot Regression with Neural Networks in TensorFlow\n",
    "\n",
    "There are many defination for a regression problme but in ur case,\n",
    "\n",
    "**we're going to simplify it:**\n",
    "\n",
    "  predicting a numerical variable based on some other combination of variables, even shorter... predicting a number."
   ]
  },
  {
   "cell_type": "code",
   "execution_count": 1,
   "metadata": {},
   "outputs": [
    {
     "data": {
      "text/plain": [
       "<matplotlib.collections.PathCollection at 0x153e38790>"
      ]
     },
     "execution_count": 1,
     "metadata": {},
     "output_type": "execute_result"
    },
    {
     "data": {
      "image/png": "[encoded data removed]",
      "text/plain": [
       "<Figure size 640x480 with 1 Axes>"
      ]
     },
     "metadata": {},
     "output_type": "display_data"
    }
   ],
   "source": [
    "import tensorflow as tf\n",
    "import matplotlib.pyplot as plt\n",
    "import numpy as np\n",
    "\n",
    "# create feature\n",
    "\n",
    "X=np.array([-7,-4,-1,2,5,8,11,14])\n",
    "\n",
    "# create label\n",
    "y=np.array([3,6,9,12,15,18,21,24])\n",
    "\n",
    "# visualize it\n",
    "plt.scatter(X,y)\n"
   ]
  },
  {
   "cell_type": "markdown",
   "metadata": {},
   "source": [
    "# Input and Output"
   ]
  },
  {
   "cell_type": "code",
   "execution_count": 2,
   "metadata": {},
   "outputs": [],
   "source": [
    "\n",
    "housing_info=tf.constant([\"breedroom\",\"bathroom\",\"garage\"])\n",
    "\n",
    "housing_price=tf.constant([93400])\n",
    "\n"
   ]
  },
  {
   "cell_type": "code",
   "execution_count": 3,
   "metadata": {},
   "outputs": [
    {
     "data": {
      "text/plain": [
       "(<tf.Tensor: shape=(8,), dtype=float32, numpy=array([-7., -4., -1.,  2.,  5.,  8., 11., 14.], dtype=float32)>,\n",
       " <tf.Tensor: shape=(8,), dtype=float32, numpy=array([ 3.,  6.,  9., 12., 15., 18., 21., 24.], dtype=float32)>)"
      ]
     },
     "execution_count": 3,
     "metadata": {},
     "output_type": "execute_result"
    }
   ],
   "source": [
    "# Turn x and y to Tensor\n",
    "\n",
    "X=tf.constant(X,dtype=tf.float32)\n",
    "y=tf.constant(y,dtype=tf.float32)\n",
    "X,y"
   ]
  },
  {
   "cell_type": "markdown",
   "metadata": {},
   "source": [
    "# steps in Modelling with Tenserflow 🏛️\n",
    "\n",
    "1. createa a model - define the input and output layers, as well as the hidden layers of a deep learning model.\n",
    "\n",
    "2. compile a model - define the loss function (in other words, the function which tells our model how wrong it is) and the optimizer (tells our model how to improve the patterns its learning) and evaluation metrics (what we can use to interpret the performance of our model).\n",
    "\n",
    "3. fitting a model - letting the model try to find patterns between X & y (features and labels).\n",
    "\n",
    "4. evaluate a model - how well the model is doing."
   ]
  },
  {
   "cell_type": "code",
   "execution_count": 4,
   "metadata": {},
   "outputs": [
    {
     "name": "stdout",
     "output_type": "stream",
     "text": [
      "Epoch 1/5\n"
     ]
    },
    {
     "name": "stderr",
     "output_type": "stream",
     "text": [
      "2023-07-08 17:59:25.964107: W tensorflow/tsl/platform/profile_utils/cpu_utils.cc:128] Failed to get CPU frequency: 0 Hz\n"
     ]
    },
    {
     "name": "stdout",
     "output_type": "stream",
     "text": [
      "1/1 [==============================] - 0s 280ms/step - loss: 16.4067 - mae: 16.4067\n",
      "Epoch 2/5\n",
      "1/1 [==============================] - 0s 7ms/step - loss: 16.1254 - mae: 16.1254\n",
      "Epoch 3/5\n",
      "1/1 [==============================] - 0s 6ms/step - loss: 15.8442 - mae: 15.8442\n",
      "Epoch 4/5\n",
      "1/1 [==============================] - 0s 7ms/step - loss: 15.5629 - mae: 15.5629\n",
      "Epoch 5/5\n",
      "1/1 [==============================] - 0s 6ms/step - loss: 15.2817 - mae: 15.2817\n"
     ]
    },
    {
     "data": {
      "text/plain": [
       "<keras.callbacks.History at 0x155301f90>"
      ]
     },
     "execution_count": 4,
     "metadata": {},
     "output_type": "execute_result"
    }
   ],
   "source": [
    "# set random seed\n",
    "\n",
    "tf.random.set_seed(42)\n",
    "\n",
    "# 1. create a model using sequential API\n",
    "\n",
    "model=tf.keras.Sequential([\n",
    "    tf.keras.layers.Dense(1) # one hidden Layer\n",
    "])\n",
    "\n",
    "# 2. compile the model\n",
    "model.compile(optimizer=tf.keras.optimizers.legacy.SGD(),\n",
    "              loss=tf.keras.losses.mae, # mean absolute error,\n",
    "              metrics=[\"mae\"]\n",
    "              )\n",
    "\n",
    "# 3. Fit the model\n",
    "\n",
    "model.fit(tf.expand_dims(X, axis=-1), y, epochs=5) # <- updated to expand dims"
   ]
  },
  {
   "cell_type": "code",
   "execution_count": 5,
   "metadata": {},
   "outputs": [
    {
     "data": {
      "text/plain": [
       "(<tf.Tensor: shape=(8,), dtype=float32, numpy=array([-7., -4., -1.,  2.,  5.,  8., 11., 14.], dtype=float32)>,\n",
       " <tf.Tensor: shape=(8,), dtype=float32, numpy=array([ 3.,  6.,  9., 12., 15., 18., 21., 24.], dtype=float32)>)"
      ]
     },
     "execution_count": 5,
     "metadata": {},
     "output_type": "execute_result"
    }
   ],
   "source": [
    "# check out X and y\n",
    "\n",
    "X,y"
   ]
  },
  {
   "cell_type": "code",
   "execution_count": 6,
   "metadata": {},
   "outputs": [
    {
     "name": "stdout",
     "output_type": "stream",
     "text": [
      "1/1 [==============================] - 0s 53ms/step\n"
     ]
    },
    {
     "data": {
      "text/plain": [
       "array([[-8.642612]], dtype=float32)"
      ]
     },
     "execution_count": 6,
     "metadata": {},
     "output_type": "execute_result"
    }
   ],
   "source": [
    "# Try to make prediction\n",
    "\n",
    "model.predict([20])\n"
   ]
  },
  {
   "cell_type": "markdown",
   "metadata": {},
   "source": [
    "## Improving the Model\n",
    "\n",
    "we can improve  our model by altering the steps we took to create a model.\n",
    "\n",
    "1. **Creating a model** - here we might add more layers, increase the number of hidden units (also called neurons) within each of the hidden layers, change the activation function of each layer.\n",
    "\n",
    "2. **Compiling a model** - here we might change the optimization function or perhaps the **learning rate** of the optimization function.\n",
    "\n",
    "3. **Fitting a model** - here we might fit a model for more **epochs** (leave it training for longer) or on more data (give the model more examples to learn from)."
   ]
  },
  {
   "cell_type": "code",
   "execution_count": 7,
   "metadata": {},
   "outputs": [
    {
     "name": "stdout",
     "output_type": "stream",
     "text": [
      "Epoch 1/100\n",
      "1/1 [==============================] - 0s 125ms/step - loss: 19.4958 - mae: 19.4958\n",
      "Epoch 2/100\n",
      "1/1 [==============================] - 0s 7ms/step - loss: 19.2145 - mae: 19.2145\n",
      "Epoch 3/100\n",
      "1/1 [==============================] - 0s 6ms/step - loss: 18.9333 - mae: 18.9333\n",
      "Epoch 4/100\n",
      "1/1 [==============================] - 0s 6ms/step - loss: 18.6520 - mae: 18.6520\n",
      "Epoch 5/100\n",
      "1/1 [==============================] - 0s 6ms/step - loss: 18.3708 - mae: 18.3708\n",
      "Epoch 6/100\n",
      "1/1 [==============================] - 0s 6ms/step - loss: 18.0895 - mae: 18.0895\n",
      "Epoch 7/100\n",
      "1/1 [==============================] - 0s 6ms/step - loss: 17.8083 - mae: 17.8083\n",
      "Epoch 8/100\n",
      "1/1 [==============================] - 0s 6ms/step - loss: 17.5270 - mae: 17.5270\n",
      "Epoch 9/100\n",
      "1/1 [==============================] - 0s 7ms/step - loss: 17.2458 - mae: 17.2458\n",
      "Epoch 10/100\n",
      "1/1 [==============================] - 0s 8ms/step - loss: 16.9645 - mae: 16.9645\n",
      "Epoch 11/100\n",
      "1/1 [==============================] - 0s 7ms/step - loss: 16.6833 - mae: 16.6833\n",
      "Epoch 12/100\n",
      "1/1 [==============================] - 0s 6ms/step - loss: 16.4020 - mae: 16.4020\n",
      "Epoch 13/100\n",
      "1/1 [==============================] - 0s 6ms/step - loss: 16.1208 - mae: 16.1208\n",
      "Epoch 14/100\n",
      "1/1 [==============================] - 0s 6ms/step - loss: 15.8395 - mae: 15.8395\n",
      "Epoch 15/100\n",
      "1/1 [==============================] - 0s 6ms/step - loss: 15.5583 - mae: 15.5583\n",
      "Epoch 16/100\n",
      "1/1 [==============================] - 0s 6ms/step - loss: 15.2770 - mae: 15.2770\n",
      "Epoch 17/100\n",
      "1/1 [==============================] - 0s 6ms/step - loss: 14.9958 - mae: 14.9958\n",
      "Epoch 18/100\n",
      "1/1 [==============================] - 0s 6ms/step - loss: 14.7459 - mae: 14.7459\n",
      "Epoch 19/100\n",
      "1/1 [==============================] - 0s 6ms/step - loss: 14.6134 - mae: 14.6134\n",
      "Epoch 20/100\n",
      "1/1 [==============================] - 0s 6ms/step - loss: 14.4809 - mae: 14.4809\n",
      "Epoch 21/100\n",
      "1/1 [==============================] - 0s 6ms/step - loss: 14.3484 - mae: 14.3484\n",
      "Epoch 22/100\n",
      "1/1 [==============================] - 0s 6ms/step - loss: 14.2159 - mae: 14.2159\n",
      "Epoch 23/100\n",
      "1/1 [==============================] - 0s 6ms/step - loss: 14.0834 - mae: 14.0834\n",
      "Epoch 24/100\n",
      "1/1 [==============================] - 0s 6ms/step - loss: 13.9509 - mae: 13.9509\n",
      "Epoch 25/100\n",
      "1/1 [==============================] - 0s 6ms/step - loss: 13.8184 - mae: 13.8184\n",
      "Epoch 26/100\n",
      "1/1 [==============================] - 0s 6ms/step - loss: 13.6859 - mae: 13.6859\n",
      "Epoch 27/100\n",
      "1/1 [==============================] - 0s 6ms/step - loss: 13.5534 - mae: 13.5534\n",
      "Epoch 28/100\n",
      "1/1 [==============================] - 0s 6ms/step - loss: 13.4209 - mae: 13.4209\n",
      "Epoch 29/100\n",
      "1/1 [==============================] - 0s 6ms/step - loss: 13.2884 - mae: 13.2884\n",
      "Epoch 30/100\n",
      "1/1 [==============================] - 0s 6ms/step - loss: 13.1559 - mae: 13.1559\n",
      "Epoch 31/100\n",
      "1/1 [==============================] - 0s 6ms/step - loss: 13.0234 - mae: 13.0234\n",
      "Epoch 32/100\n",
      "1/1 [==============================] - 0s 6ms/step - loss: 12.8909 - mae: 12.8909\n",
      "Epoch 33/100\n",
      "1/1 [==============================] - 0s 6ms/step - loss: 12.7584 - mae: 12.7584\n",
      "Epoch 34/100\n",
      "1/1 [==============================] - 0s 6ms/step - loss: 12.6259 - mae: 12.6259\n",
      "Epoch 35/100\n",
      "1/1 [==============================] - 0s 6ms/step - loss: 12.4934 - mae: 12.4934\n",
      "Epoch 36/100\n",
      "1/1 [==============================] - 0s 5ms/step - loss: 12.3609 - mae: 12.3609\n",
      "Epoch 37/100\n",
      "1/1 [==============================] - 0s 6ms/step - loss: 12.2284 - mae: 12.2284\n",
      "Epoch 38/100\n",
      "1/1 [==============================] - 0s 6ms/step - loss: 12.0959 - mae: 12.0959\n",
      "Epoch 39/100\n",
      "1/1 [==============================] - 0s 5ms/step - loss: 11.9634 - mae: 11.9634\n",
      "Epoch 40/100\n",
      "1/1 [==============================] - 0s 6ms/step - loss: 11.8309 - mae: 11.8309\n",
      "Epoch 41/100\n",
      "1/1 [==============================] - 0s 6ms/step - loss: 11.6984 - mae: 11.6984\n",
      "Epoch 42/100\n",
      "1/1 [==============================] - 0s 6ms/step - loss: 11.5659 - mae: 11.5659\n",
      "Epoch 43/100\n",
      "1/1 [==============================] - 0s 6ms/step - loss: 11.4334 - mae: 11.4334\n",
      "Epoch 44/100\n",
      "1/1 [==============================] - 0s 6ms/step - loss: 11.3009 - mae: 11.3009\n",
      "Epoch 45/100\n",
      "1/1 [==============================] - 0s 6ms/step - loss: 11.1684 - mae: 11.1684\n",
      "Epoch 46/100\n",
      "1/1 [==============================] - 0s 6ms/step - loss: 11.0359 - mae: 11.0359\n",
      "Epoch 47/100\n",
      "1/1 [==============================] - 0s 6ms/step - loss: 10.9034 - mae: 10.9034\n",
      "Epoch 48/100\n",
      "1/1 [==============================] - 0s 6ms/step - loss: 10.7709 - mae: 10.7709\n",
      "Epoch 49/100\n",
      "1/1 [==============================] - 0s 6ms/step - loss: 10.6384 - mae: 10.6384\n",
      "Epoch 50/100\n",
      "1/1 [==============================] - 0s 6ms/step - loss: 10.5059 - mae: 10.5059\n",
      "Epoch 51/100\n",
      "1/1 [==============================] - 0s 6ms/step - loss: 10.3734 - mae: 10.3734\n",
      "Epoch 52/100\n",
      "1/1 [==============================] - 0s 6ms/step - loss: 10.2409 - mae: 10.2409\n",
      "Epoch 53/100\n",
      "1/1 [==============================] - 0s 6ms/step - loss: 10.1084 - mae: 10.1084\n",
      "Epoch 54/100\n",
      "1/1 [==============================] - 0s 6ms/step - loss: 9.9759 - mae: 9.9759\n",
      "Epoch 55/100\n",
      "1/1 [==============================] - 0s 6ms/step - loss: 9.8434 - mae: 9.8434\n",
      "Epoch 56/100\n",
      "1/1 [==============================] - 0s 6ms/step - loss: 9.7109 - mae: 9.7109\n",
      "Epoch 57/100\n",
      "1/1 [==============================] - 0s 6ms/step - loss: 9.5784 - mae: 9.5784\n",
      "Epoch 58/100\n",
      "1/1 [==============================] - 0s 6ms/step - loss: 9.4459 - mae: 9.4459\n",
      "Epoch 59/100\n",
      "1/1 [==============================] - 0s 6ms/step - loss: 9.3134 - mae: 9.3134\n",
      "Epoch 60/100\n",
      "1/1 [==============================] - 0s 6ms/step - loss: 9.1809 - mae: 9.1809\n",
      "Epoch 61/100\n",
      "1/1 [==============================] - 0s 6ms/step - loss: 9.0484 - mae: 9.0484\n",
      "Epoch 62/100\n",
      "1/1 [==============================] - 0s 6ms/step - loss: 8.9159 - mae: 8.9159\n",
      "Epoch 63/100\n",
      "1/1 [==============================] - 0s 6ms/step - loss: 8.7834 - mae: 8.7834\n",
      "Epoch 64/100\n",
      "1/1 [==============================] - 0s 6ms/step - loss: 8.6509 - mae: 8.6509\n",
      "Epoch 65/100\n",
      "1/1 [==============================] - 0s 6ms/step - loss: 8.5184 - mae: 8.5184\n",
      "Epoch 66/100\n",
      "1/1 [==============================] - 0s 6ms/step - loss: 8.3859 - mae: 8.3859\n",
      "Epoch 67/100\n",
      "1/1 [==============================] - 0s 6ms/step - loss: 8.2534 - mae: 8.2534\n",
      "Epoch 68/100\n",
      "1/1 [==============================] - 0s 6ms/step - loss: 8.1209 - mae: 8.1209\n",
      "Epoch 69/100\n",
      "1/1 [==============================] - 0s 6ms/step - loss: 7.9884 - mae: 7.9884\n",
      "Epoch 70/100\n",
      "1/1 [==============================] - 0s 5ms/step - loss: 7.8559 - mae: 7.8559\n",
      "Epoch 71/100\n",
      "1/1 [==============================] - 0s 6ms/step - loss: 7.7234 - mae: 7.7234\n",
      "Epoch 72/100\n",
      "1/1 [==============================] - 0s 6ms/step - loss: 7.5909 - mae: 7.5909\n",
      "Epoch 73/100\n",
      "1/1 [==============================] - 0s 6ms/step - loss: 7.4584 - mae: 7.4584\n",
      "Epoch 74/100\n",
      "1/1 [==============================] - 0s 6ms/step - loss: 7.3259 - mae: 7.3259\n",
      "Epoch 75/100\n",
      "1/1 [==============================] - 0s 5ms/step - loss: 7.1934 - mae: 7.1934\n",
      "Epoch 76/100\n",
      "1/1 [==============================] - 0s 6ms/step - loss: 7.0609 - mae: 7.0609\n",
      "Epoch 77/100\n",
      "1/1 [==============================] - 0s 5ms/step - loss: 6.9619 - mae: 6.9619\n",
      "Epoch 78/100\n",
      "1/1 [==============================] - 0s 6ms/step - loss: 6.9563 - mae: 6.9563\n",
      "Epoch 79/100\n",
      "1/1 [==============================] - 0s 6ms/step - loss: 6.9506 - mae: 6.9506\n",
      "Epoch 80/100\n",
      "1/1 [==============================] - 0s 9ms/step - loss: 6.9450 - mae: 6.9450\n",
      "Epoch 81/100\n",
      "1/1 [==============================] - 0s 8ms/step - loss: 6.9394 - mae: 6.9394\n",
      "Epoch 82/100\n",
      "1/1 [==============================] - 0s 7ms/step - loss: 6.9338 - mae: 6.9338\n",
      "Epoch 83/100\n",
      "1/1 [==============================] - 0s 6ms/step - loss: 6.9281 - mae: 6.9281\n",
      "Epoch 84/100\n",
      "1/1 [==============================] - 0s 7ms/step - loss: 6.9225 - mae: 6.9225\n",
      "Epoch 85/100\n",
      "1/1 [==============================] - 0s 6ms/step - loss: 6.9169 - mae: 6.9169\n",
      "Epoch 86/100\n",
      "1/1 [==============================] - 0s 8ms/step - loss: 6.9113 - mae: 6.9113\n",
      "Epoch 87/100\n",
      "1/1 [==============================] - 0s 6ms/step - loss: 6.9056 - mae: 6.9056\n",
      "Epoch 88/100\n",
      "1/1 [==============================] - 0s 7ms/step - loss: 6.9000 - mae: 6.9000\n",
      "Epoch 89/100\n",
      "1/1 [==============================] - 0s 7ms/step - loss: 6.8944 - mae: 6.8944\n",
      "Epoch 90/100\n",
      "1/1 [==============================] - 0s 6ms/step - loss: 6.8888 - mae: 6.8888\n",
      "Epoch 91/100\n",
      "1/1 [==============================] - 0s 6ms/step - loss: 6.8831 - mae: 6.8831\n",
      "Epoch 92/100\n",
      "1/1 [==============================] - 0s 8ms/step - loss: 6.8775 - mae: 6.8775\n",
      "Epoch 93/100\n",
      "1/1 [==============================] - 0s 6ms/step - loss: 6.8719 - mae: 6.8719\n",
      "Epoch 94/100\n",
      "1/1 [==============================] - 0s 6ms/step - loss: 6.8663 - mae: 6.8663\n",
      "Epoch 95/100\n",
      "1/1 [==============================] - 0s 6ms/step - loss: 6.8606 - mae: 6.8606\n",
      "Epoch 96/100\n",
      "1/1 [==============================] - 0s 6ms/step - loss: 6.8550 - mae: 6.8550\n",
      "Epoch 97/100\n",
      "1/1 [==============================] - 0s 6ms/step - loss: 6.8494 - mae: 6.8494\n",
      "Epoch 98/100\n",
      "1/1 [==============================] - 0s 7ms/step - loss: 6.8438 - mae: 6.8438\n",
      "Epoch 99/100\n",
      "1/1 [==============================] - 0s 8ms/step - loss: 6.8381 - mae: 6.8381\n",
      "Epoch 100/100\n",
      "1/1 [==============================] - 0s 7ms/step - loss: 6.8325 - mae: 6.8325\n"
     ]
    },
    {
     "data": {
      "text/plain": [
       "<keras.callbacks.History at 0x15596b700>"
      ]
     },
     "execution_count": 7,
     "metadata": {},
     "output_type": "execute_result"
    }
   ],
   "source": [
    "# lets rebuild the model\n",
    "\n",
    "# 1. create the model\n",
    "\n",
    "model=tf.keras.Sequential([\n",
    "    tf.keras.layers.Dense(1)\n",
    "])\n",
    "\n",
    "# 2. Compile the model\n",
    "\n",
    "model.compile(\n",
    "    loss=tf.keras.losses.mae,\n",
    "    optimizer=tf.keras.optimizers.legacy.SGD(),\n",
    "    metrics=[\"mae\"]\n",
    ")\n",
    "\n",
    "# 3. Fit the model (longer Time)\n",
    "\n",
    "model.fit(tf.expand_dims(X, axis=-1), y, epochs=100) # <- updated to expand dims\n"
   ]
  },
  {
   "cell_type": "code",
   "execution_count": 8,
   "metadata": {},
   "outputs": [
    {
     "name": "stdout",
     "output_type": "stream",
     "text": [
      "1/1 [==============================] - 0s 33ms/step\n"
     ]
    },
    {
     "data": {
      "text/plain": [
       "array([[29.331469]], dtype=float32)"
      ]
     },
     "execution_count": 8,
     "metadata": {},
     "output_type": "execute_result"
    }
   ],
   "source": [
    "model.predict([17])"
   ]
  },
  {
   "cell_type": "code",
   "execution_count": 9,
   "metadata": {},
   "outputs": [
    {
     "name": "stdout",
     "output_type": "stream",
     "text": [
      "Epoch 1/100\n"
     ]
    },
    {
     "name": "stderr",
     "output_type": "stream",
     "text": [
      "/Users/magesh/anaconda3/lib/python3.10/site-packages/keras/optimizers/legacy/adam.py:117: UserWarning: The `lr` argument is deprecated, use `learning_rate` instead.\n",
      "  super().__init__(name, **kwargs)\n"
     ]
    },
    {
     "name": "stdout",
     "output_type": "stream",
     "text": [
      "1/1 [==============================] - 0s 280ms/step - loss: 11.8118 - mae: 11.8118\n",
      "Epoch 2/100\n",
      "1/1 [==============================] - 0s 7ms/step - loss: 11.0602 - mae: 11.0602\n",
      "Epoch 3/100\n",
      "1/1 [==============================] - 0s 7ms/step - loss: 10.2961 - mae: 10.2961\n",
      "Epoch 4/100\n",
      "1/1 [==============================] - 0s 7ms/step - loss: 9.5185 - mae: 9.5185\n",
      "Epoch 5/100\n",
      "1/1 [==============================] - 0s 6ms/step - loss: 8.7258 - mae: 8.7258\n",
      "Epoch 6/100\n",
      "1/1 [==============================] - 0s 7ms/step - loss: 7.9165 - mae: 7.9165\n",
      "Epoch 7/100\n",
      "1/1 [==============================] - 0s 7ms/step - loss: 7.0883 - mae: 7.0883\n",
      "Epoch 8/100\n",
      "1/1 [==============================] - 0s 7ms/step - loss: 6.9046 - mae: 6.9046\n",
      "Epoch 9/100\n",
      "1/1 [==============================] - 0s 6ms/step - loss: 7.2380 - mae: 7.2380\n",
      "Epoch 10/100\n",
      "1/1 [==============================] - 0s 7ms/step - loss: 7.4322 - mae: 7.4322\n",
      "Epoch 11/100\n",
      "1/1 [==============================] - 0s 7ms/step - loss: 7.5572 - mae: 7.5572\n",
      "Epoch 12/100\n",
      "1/1 [==============================] - 0s 6ms/step - loss: 7.5004 - mae: 7.5004\n",
      "Epoch 13/100\n",
      "1/1 [==============================] - 0s 7ms/step - loss: 7.2710 - mae: 7.2710\n",
      "Epoch 14/100\n",
      "1/1 [==============================] - 0s 6ms/step - loss: 7.0561 - mae: 7.0561\n",
      "Epoch 15/100\n",
      "1/1 [==============================] - 0s 7ms/step - loss: 6.8069 - mae: 6.8069\n",
      "Epoch 16/100\n",
      "1/1 [==============================] - 0s 6ms/step - loss: 6.5305 - mae: 6.5305\n",
      "Epoch 17/100\n",
      "1/1 [==============================] - 0s 7ms/step - loss: 6.2462 - mae: 6.2462\n",
      "Epoch 18/100\n",
      "1/1 [==============================] - 0s 7ms/step - loss: 6.1878 - mae: 6.1878\n",
      "Epoch 19/100\n",
      "1/1 [==============================] - 0s 7ms/step - loss: 6.1256 - mae: 6.1256\n",
      "Epoch 20/100\n",
      "1/1 [==============================] - 0s 6ms/step - loss: 6.2254 - mae: 6.2254\n",
      "Epoch 21/100\n",
      "1/1 [==============================] - 0s 7ms/step - loss: 6.2334 - mae: 6.2334\n",
      "Epoch 22/100\n",
      "1/1 [==============================] - 0s 7ms/step - loss: 6.1293 - mae: 6.1293\n",
      "Epoch 23/100\n",
      "1/1 [==============================] - 0s 6ms/step - loss: 5.9273 - mae: 5.9273\n",
      "Epoch 24/100\n",
      "1/1 [==============================] - 0s 8ms/step - loss: 5.6942 - mae: 5.6942\n",
      "Epoch 25/100\n",
      "1/1 [==============================] - 0s 7ms/step - loss: 5.5856 - mae: 5.5856\n",
      "Epoch 26/100\n",
      "1/1 [==============================] - 0s 6ms/step - loss: 5.4740 - mae: 5.4740\n",
      "Epoch 27/100\n",
      "1/1 [==============================] - 0s 7ms/step - loss: 5.4278 - mae: 5.4278\n",
      "Epoch 28/100\n",
      "1/1 [==============================] - 0s 7ms/step - loss: 5.3962 - mae: 5.3962\n",
      "Epoch 29/100\n",
      "1/1 [==============================] - 0s 7ms/step - loss: 5.3125 - mae: 5.3125\n",
      "Epoch 30/100\n",
      "1/1 [==============================] - 0s 7ms/step - loss: 5.1815 - mae: 5.1815\n",
      "Epoch 31/100\n",
      "1/1 [==============================] - 0s 7ms/step - loss: 5.0075 - mae: 5.0075\n",
      "Epoch 32/100\n",
      "1/1 [==============================] - 0s 7ms/step - loss: 4.8465 - mae: 4.8465\n",
      "Epoch 33/100\n",
      "1/1 [==============================] - 0s 7ms/step - loss: 4.7442 - mae: 4.7442\n",
      "Epoch 34/100\n",
      "1/1 [==============================] - 0s 7ms/step - loss: 4.6351 - mae: 4.6351\n",
      "Epoch 35/100\n",
      "1/1 [==============================] - 0s 6ms/step - loss: 4.5190 - mae: 4.5190\n",
      "Epoch 36/100\n",
      "1/1 [==============================] - 0s 7ms/step - loss: 4.4359 - mae: 4.4359\n",
      "Epoch 37/100\n",
      "1/1 [==============================] - 0s 6ms/step - loss: 4.2552 - mae: 4.2552\n",
      "Epoch 38/100\n",
      "1/1 [==============================] - 0s 6ms/step - loss: 4.1080 - mae: 4.1080\n",
      "Epoch 39/100\n",
      "1/1 [==============================] - 0s 6ms/step - loss: 3.9538 - mae: 3.9538\n",
      "Epoch 40/100\n",
      "1/1 [==============================] - 0s 7ms/step - loss: 3.7924 - mae: 3.7924\n",
      "Epoch 41/100\n",
      "1/1 [==============================] - 0s 6ms/step - loss: 3.6236 - mae: 3.6236\n",
      "Epoch 42/100\n",
      "1/1 [==============================] - 0s 8ms/step - loss: 3.4623 - mae: 3.4623\n",
      "Epoch 43/100\n",
      "1/1 [==============================] - 0s 7ms/step - loss: 3.2956 - mae: 3.2956\n",
      "Epoch 44/100\n",
      "1/1 [==============================] - 0s 7ms/step - loss: 3.1052 - mae: 3.1052\n",
      "Epoch 45/100\n",
      "1/1 [==============================] - 0s 6ms/step - loss: 2.9259 - mae: 2.9259\n",
      "Epoch 46/100\n",
      "1/1 [==============================] - 0s 7ms/step - loss: 2.7366 - mae: 2.7366\n",
      "Epoch 47/100\n",
      "1/1 [==============================] - 0s 7ms/step - loss: 2.5370 - mae: 2.5370\n",
      "Epoch 48/100\n",
      "1/1 [==============================] - 0s 6ms/step - loss: 2.3269 - mae: 2.3269\n",
      "Epoch 49/100\n",
      "1/1 [==============================] - 0s 7ms/step - loss: 2.1064 - mae: 2.1064\n",
      "Epoch 50/100\n",
      "1/1 [==============================] - 0s 7ms/step - loss: 1.8750 - mae: 1.8750\n",
      "Epoch 51/100\n",
      "1/1 [==============================] - 0s 7ms/step - loss: 1.6326 - mae: 1.6326\n",
      "Epoch 52/100\n",
      "1/1 [==============================] - 0s 7ms/step - loss: 1.3791 - mae: 1.3791\n",
      "Epoch 53/100\n",
      "1/1 [==============================] - 0s 7ms/step - loss: 1.1487 - mae: 1.1487\n",
      "Epoch 54/100\n",
      "1/1 [==============================] - 0s 6ms/step - loss: 0.8522 - mae: 0.8522\n",
      "Epoch 55/100\n",
      "1/1 [==============================] - 0s 7ms/step - loss: 0.5774 - mae: 0.5774\n",
      "Epoch 56/100\n",
      "1/1 [==============================] - 0s 7ms/step - loss: 0.3282 - mae: 0.3282\n",
      "Epoch 57/100\n",
      "1/1 [==============================] - 0s 6ms/step - loss: 0.2303 - mae: 0.2303\n",
      "Epoch 58/100\n",
      "1/1 [==============================] - 0s 7ms/step - loss: 0.2945 - mae: 0.2945\n",
      "Epoch 59/100\n",
      "1/1 [==============================] - 0s 7ms/step - loss: 0.5180 - mae: 0.5180\n",
      "Epoch 60/100\n",
      "1/1 [==============================] - 0s 6ms/step - loss: 0.7157 - mae: 0.7157\n",
      "Epoch 61/100\n",
      "1/1 [==============================] - 0s 6ms/step - loss: 0.7734 - mae: 0.7734\n",
      "Epoch 62/100\n",
      "1/1 [==============================] - 0s 6ms/step - loss: 0.8988 - mae: 0.8988\n",
      "Epoch 63/100\n",
      "1/1 [==============================] - 0s 6ms/step - loss: 0.8975 - mae: 0.8975\n",
      "Epoch 64/100\n",
      "1/1 [==============================] - 0s 7ms/step - loss: 0.8104 - mae: 0.8104\n",
      "Epoch 65/100\n",
      "1/1 [==============================] - 0s 7ms/step - loss: 0.8114 - mae: 0.8114\n",
      "Epoch 66/100\n",
      "1/1 [==============================] - 0s 7ms/step - loss: 0.6502 - mae: 0.6502\n",
      "Epoch 67/100\n",
      "1/1 [==============================] - 0s 7ms/step - loss: 0.5999 - mae: 0.5999\n",
      "Epoch 68/100\n",
      "1/1 [==============================] - 0s 7ms/step - loss: 0.3958 - mae: 0.3958\n",
      "Epoch 69/100\n",
      "1/1 [==============================] - 0s 6ms/step - loss: 0.4060 - mae: 0.4060\n",
      "Epoch 70/100\n",
      "1/1 [==============================] - 0s 7ms/step - loss: 0.2739 - mae: 0.2739\n",
      "Epoch 71/100\n",
      "1/1 [==============================] - 0s 7ms/step - loss: 0.1885 - mae: 0.1885\n",
      "Epoch 72/100\n",
      "1/1 [==============================] - 0s 7ms/step - loss: 0.3654 - mae: 0.3654\n",
      "Epoch 73/100\n",
      "1/1 [==============================] - 0s 6ms/step - loss: 0.3294 - mae: 0.3294\n",
      "Epoch 74/100\n",
      "1/1 [==============================] - 0s 6ms/step - loss: 0.3927 - mae: 0.3927\n",
      "Epoch 75/100\n",
      "1/1 [==============================] - 0s 6ms/step - loss: 0.4467 - mae: 0.4467\n",
      "Epoch 76/100\n",
      "1/1 [==============================] - 0s 7ms/step - loss: 0.2444 - mae: 0.2444\n",
      "Epoch 77/100\n",
      "1/1 [==============================] - 0s 7ms/step - loss: 0.3345 - mae: 0.3345\n",
      "Epoch 78/100\n",
      "1/1 [==============================] - 0s 6ms/step - loss: 0.2440 - mae: 0.2440\n",
      "Epoch 79/100\n",
      "1/1 [==============================] - 0s 7ms/step - loss: 0.0818 - mae: 0.0818\n",
      "Epoch 80/100\n",
      "1/1 [==============================] - 0s 7ms/step - loss: 0.0902 - mae: 0.0902\n",
      "Epoch 81/100\n",
      "1/1 [==============================] - 0s 6ms/step - loss: 0.2313 - mae: 0.2313\n",
      "Epoch 82/100\n",
      "1/1 [==============================] - 0s 7ms/step - loss: 0.2058 - mae: 0.2058\n",
      "Epoch 83/100\n",
      "1/1 [==============================] - 0s 7ms/step - loss: 0.3613 - mae: 0.3613\n",
      "Epoch 84/100\n",
      "1/1 [==============================] - 0s 6ms/step - loss: 0.2990 - mae: 0.2990\n",
      "Epoch 85/100\n",
      "1/1 [==============================] - 0s 6ms/step - loss: 0.2164 - mae: 0.2164\n",
      "Epoch 86/100\n",
      "1/1 [==============================] - 0s 7ms/step - loss: 0.2609 - mae: 0.2609\n",
      "Epoch 87/100\n",
      "1/1 [==============================] - 0s 7ms/step - loss: 0.0047 - mae: 0.0047\n",
      "Epoch 88/100\n",
      "1/1 [==============================] - 0s 7ms/step - loss: 0.5597 - mae: 0.5597\n",
      "Epoch 89/100\n",
      "1/1 [==============================] - 0s 7ms/step - loss: 0.7291 - mae: 0.7291\n",
      "Epoch 90/100\n",
      "1/1 [==============================] - 0s 6ms/step - loss: 0.5604 - mae: 0.5604\n",
      "Epoch 91/100\n",
      "1/1 [==============================] - 0s 7ms/step - loss: 0.2004 - mae: 0.2004\n",
      "Epoch 92/100\n",
      "1/1 [==============================] - 0s 7ms/step - loss: 0.5768 - mae: 0.5768\n",
      "Epoch 93/100\n",
      "1/1 [==============================] - 0s 6ms/step - loss: 0.8104 - mae: 0.8104\n",
      "Epoch 94/100\n",
      "1/1 [==============================] - 0s 7ms/step - loss: 0.7008 - mae: 0.7008\n",
      "Epoch 95/100\n",
      "1/1 [==============================] - 0s 7ms/step - loss: 0.2924 - mae: 0.2924\n",
      "Epoch 96/100\n",
      "1/1 [==============================] - 0s 6ms/step - loss: 0.3932 - mae: 0.3932\n",
      "Epoch 97/100\n",
      "1/1 [==============================] - 0s 7ms/step - loss: 0.6780 - mae: 0.6780\n",
      "Epoch 98/100\n",
      "1/1 [==============================] - 0s 6ms/step - loss: 0.6460 - mae: 0.6460\n",
      "Epoch 99/100\n",
      "1/1 [==============================] - 0s 7ms/step - loss: 0.3310 - mae: 0.3310\n",
      "Epoch 100/100\n",
      "1/1 [==============================] - 0s 7ms/step - loss: 0.2417 - mae: 0.2417\n"
     ]
    },
    {
     "data": {
      "text/plain": [
       "<keras.callbacks.History at 0x16224f6a0>"
      ]
     },
     "execution_count": 9,
     "metadata": {},
     "output_type": "execute_result"
    }
   ],
   "source": [
    "# Recreate model 2 with extra 100 layers\n",
    "\n",
    "model=tf.keras.Sequential([\n",
    "    tf.keras.layers.Dense(50,activation=None),\n",
    "    tf.keras.layers.Dense(1)\n",
    "])\n",
    "\n",
    "model.compile(\n",
    "    loss=\"mae\",\n",
    "    optimizer=tf.keras.optimizers.legacy.Adam(lr=0.01),\n",
    "    metrics=[\"mae\"]\n",
    "\n",
    ")\n",
    "\n",
    "model.fit(tf.expand_dims(X,axis=-1),y,epochs=100)\n",
    "\n"
   ]
  },
  {
   "cell_type": "code",
   "execution_count": 10,
   "metadata": {},
   "outputs": [
    {
     "name": "stdout",
     "output_type": "stream",
     "text": [
      "1/1 [==============================] - 0s 41ms/step\n"
     ]
    },
    {
     "data": {
      "text/plain": [
       "array([[28.245853]], dtype=float32)"
      ]
     },
     "execution_count": 10,
     "metadata": {},
     "output_type": "execute_result"
    }
   ],
   "source": [
    "model.predict([17])"
   ]
  },
  {
   "cell_type": "markdown",
   "metadata": {},
   "source": [
    "# Evalting a model\n",
    "\n",
    "In practice, a typical workflow you'll go through when building neural networks is:\n",
    "\n",
    "```\n",
    "Build a model -> fit it -> evaluate it -> tweak a model -> fit it -> evaluate it -> tweak a model -> fit it -> evaluate it...\n",
    "```"
   ]
  },
  {
   "cell_type": "markdown",
   "metadata": {},
   "source": [
    "when it comes to evaluation there are 3 words you should memorize:\n",
    "\n",
    ">  \"Visualize, visualize, visualize\"\n",
    "\n",
    "it's a good idea to visualize:\n",
    "\n",
    "* The data - what data are we working with? what does it look like?\n",
    "\n",
    "\n",
    "* The model itself - what does our model look like?\n",
    "\n",
    "\n",
    "* The training of a model - how does a model perform while it learns?\n",
    "\n",
    "* The Predictions of the model- how do the predictions of a model line up against the ground truth (the original labels)?\n",
    "\n",
    "Let's see some examples."
   ]
  },
  {
   "cell_type": "code",
   "execution_count": 11,
   "metadata": {},
   "outputs": [],
   "source": [
    "# make a bigger dataset\n",
    "X=tf.range(-100,100,4)\n",
    "# Make labels for the dataset\n",
    "y=X+10 # this the formulat that our model should learnl\n",
    "\n"
   ]
  },
  {
   "cell_type": "code",
   "execution_count": 12,
   "metadata": {},
   "outputs": [
    {
     "data": {
      "text/plain": [
       "<matplotlib.collections.PathCollection at 0x153ea68f0>"
      ]
     },
     "execution_count": 12,
     "metadata": {},
     "output_type": "execute_result"
    },
    {
     "data": {
      "image/png": "[encoded data removed]",
      "text/plain": [
       "<Figure size 640x480 with 1 Axes>"
      ]
     },
     "metadata": {},
     "output_type": "display_data"
    }
   ],
   "source": [
    "# visualize\n",
    "import matplotlib.pyplot as plt\n",
    "\n",
    "plt.scatter(X,y)"
   ]
  },
  {
   "cell_type": "markdown",
   "metadata": {},
   "source": [
    "the 3 sets are:\n",
    "\n",
    "* **Training set** - the model learns from this data, which is typically 70-80% of the total data you have available.\n",
    "\n",
    "* **Validation set** - the model gets tuned on this data, which is typically 10-15% of the data available.\n",
    "\n",
    "* **Test set** - the model gets evaluated on this data to test what it has learned, this set is typically 10-15% of the total data available and is only used once a model is completely trained (the model has never \"seen\" the data in the test set).\n"
   ]
  },
  {
   "cell_type": "code",
   "execution_count": 40,
   "metadata": {},
   "outputs": [
    {
     "name": "stdout",
     "output_type": "stream",
     "text": [
      "37 44\n"
     ]
    },
    {
     "data": {
      "text/plain": [
       "(37, 7, 6)"
      ]
     },
     "execution_count": 40,
     "metadata": {},
     "output_type": "execute_result"
    }
   ],
   "source": [
    "# split the dataset\n",
    "# 80% training and 20% for testing\n",
    "\n",
    "train=int(len(X) *0.75) # 75%\n",
    "valid=train+int(len(X)*0.15) # 15 %\n",
    "\n",
    "print(train,valid, )\n",
    "x_train,y_train=X[0:train],y[:train]\n",
    "x_valid,y_valid=X[train:valid],y[train:valid]\n",
    "x_test,y_test=y[valid:],y[valid:]\n",
    "\n",
    "len(x_train),len(x_valid),len(x_test)"
   ]
  },
  {
   "cell_type": "markdown",
   "metadata": {},
   "source": [
    "### Visualzing the data\n",
    "\n",
    "Now we've got our data in training and test sets...let's visualize it again\n"
   ]
  },
  {
   "cell_type": "code",
   "execution_count": 43,
   "metadata": {},
   "outputs": [
    {
     "data": {
      "text/plain": [
       "<matplotlib.legend.Legend at 0x16b365000>"
      ]
     },
     "execution_count": 43,
     "metadata": {},
     "output_type": "execute_result"
    },
    {
     "data": {
      "image/png": "[encoded data removed]",
      "text/plain": [
       "<Figure size 1000x700 with 1 Axes>"
      ]
     },
     "metadata": {},
     "output_type": "display_data"
    }
   ],
   "source": [
    "plt.figure(figsize=(10,7))\n",
    "\n",
    "# plot train\n",
    "plt.scatter(x_train,y_train,c=\"b\",label=\"Traning data\")\n",
    "\n",
    "plt.scatter(x_valid,y_valid,c=\"y\",label=\"valid data\")\n",
    "\n",
    "plt.scatter(x_test,y_test,c=\"r\",label=\"valid data\")\n",
    "\n",
    "plt.legend([\"train\",\"valid\",\"test\"])"
   ]
  },
  {
   "cell_type": "code",
   "execution_count": 47,
   "metadata": {},
   "outputs": [],
   "source": [
    "# let build\n",
    "\n",
    "\n",
    "# 1. create the model\n",
    "model=tf.keras.Sequential([\n",
    "    tf.keras.layers.Dense(1)\n",
    "])\n",
    "\n",
    "# 2. compile\n",
    "\n",
    "model.compile(\n",
    "    optimizer=tf.keras.optimizers.legacy.SGD(),\n",
    "    loss=tf.keras.losses.mae,\n",
    "    metrics=[\"mae\"]\n",
    ")\n",
    "\n",
    "# 3. Fit the model\n",
    "# model.fit(tf.expand_dims(x_train,axis=-1),y_train,epochs=100)"
   ]
  },
  {
   "cell_type": "code",
   "execution_count": 48,
   "metadata": {},
   "outputs": [],
   "source": [
    "# lets create the model which build automatically  by defining the input_shape\n",
    "\n",
    "# 1. creat a model\n",
    "\n",
    "model=tf.keras.Sequential([\n",
    "    tf.keras.layers.Dense(1,input_shape=[1])\n",
    "])\n",
    "\n",
    "# 2. compile\n",
    "\n",
    "model.compile(\n",
    "    optimizer=tf.keras.optimizers.legacy.SGD(),\n",
    "    loss=tf.keras.losses.mae,\n",
    "    metrics=[\"mae\"]\n",
    ")\n",
    "\n"
   ]
  },
  {
   "cell_type": "code",
   "execution_count": 49,
   "metadata": {},
   "outputs": [
    {
     "name": "stdout",
     "output_type": "stream",
     "text": [
      "Model: \"sequential_7\"\n",
      "_________________________________________________________________\n",
      " Layer (type)                Output Shape              Param #   \n",
      "=================================================================\n",
      " dense_8 (Dense)             (None, 1)                 2         \n",
      "                                                                 \n",
      "=================================================================\n",
      "Total params: 2\n",
      "Trainable params: 2\n",
      "Non-trainable params: 0\n",
      "_________________________________________________________________\n"
     ]
    }
   ],
   "source": [
    "model.summary()"
   ]
  },
  {
   "cell_type": "markdown",
   "metadata": {},
   "source": [
    "* Total params - total number of parameters in the model.\n",
    "\n",
    "* Trainable parameters - these are the parameters (patterns) the model can update as it trains.\n",
    "\n",
    "* Non-trainable parameters - these parameters aren't updated during training (this is typical when you bring in already learn patterns or parameters from other models during **transfer learning**)."
   ]
  },
  {
   "cell_type": "code",
   "execution_count": null,
   "metadata": {},
   "outputs": [],
   "source": []
  }
 ],
 "metadata": {
  "kernelspec": {
   "display_name": "base",
   "language": "python",
   "name": "python3"
  },
  "language_info": {
   "codemirror_mode": {
    "name": "ipython",
    "version": 3
   },
   "file_extension": ".py",
   "mimetype": "text/x-python",
   "name": "python",
   "nbconvert_exporter": "python",
   "pygments_lexer": "ipython3",
   "version": "3.10.9"
  },
  "orig_nbformat": 4
 },
 "nbformat": 4,
 "nbformat_minor": 2
}
