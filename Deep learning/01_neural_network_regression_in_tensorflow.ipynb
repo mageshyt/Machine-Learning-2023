{
 "cells": [
  {
   "cell_type": "markdown",
   "metadata": {},
   "source": [
    "## Introduction ot Regression with Neural Networks in TensorFlow\n",
    "\n",
    "There are many defination for a regression problme but in ur case,\n",
    "\n",
    "**we're going to simplify it:**\n",
    "\n",
    "  predicting a numerical variable based on some other combination of variables, even shorter... predicting a number."
   ]
  },
  {
   "cell_type": "code",
   "execution_count": 1,
   "metadata": {},
   "outputs": [
    {
     "data": {
      "text/plain": [
       "<matplotlib.collections.PathCollection at 0x280ffbfd0>"
      ]
     },
     "execution_count": 1,
     "metadata": {},
     "output_type": "execute_result"
    },
    {
     "data": {
      "image/png": "[encoded data removed]",
      "text/plain": [
       "<Figure size 640x480 with 1 Axes>"
      ]
     },
     "metadata": {},
     "output_type": "display_data"
    }
   ],
   "source": [
    "import tensorflow as tf\n",
    "import matplotlib.pyplot as plt\n",
    "import numpy as np\n",
    "\n",
    "# create feature\n",
    "\n",
    "X=np.array([-7,-4,-1,2,5,8,11,14])\n",
    "\n",
    "# create label\n",
    "y=np.array([3,6,9,12,15,18,21,24])\n",
    "\n",
    "# visualize it\n",
    "plt.scatter(X,y)\n"
   ]
  },
  {
   "cell_type": "markdown",
   "metadata": {},
   "source": [
    "# Input and Output"
   ]
  },
  {
   "cell_type": "code",
   "execution_count": 2,
   "metadata": {},
   "outputs": [],
   "source": [
    "\n",
    "housing_info=tf.constant([\"breedroom\",\"bathroom\",\"garage\"])\n",
    "\n",
    "housing_price=tf.constant([93400])\n",
    "\n"
   ]
  },
  {
   "cell_type": "code",
   "execution_count": 3,
   "metadata": {},
   "outputs": [
    {
     "data": {
      "text/plain": [
       "(<tf.Tensor: shape=(8,), dtype=float32, numpy=array([-7., -4., -1.,  2.,  5.,  8., 11., 14.], dtype=float32)>,\n",
       " <tf.Tensor: shape=(8,), dtype=float32, numpy=array([ 3.,  6.,  9., 12., 15., 18., 21., 24.], dtype=float32)>)"
      ]
     },
     "execution_count": 3,
     "metadata": {},
     "output_type": "execute_result"
    }
   ],
   "source": [
    "# Turn x and y to Tensor\n",
    "\n",
    "X=tf.constant(X,dtype=tf.float32)\n",
    "y=tf.constant(y,dtype=tf.float32)\n",
    "X,y"
   ]
  },
  {
   "cell_type": "markdown",
   "metadata": {},
   "source": [
    "# steps in Modelling with Tenserflow 🏛️\n",
    "\n",
    "1. createa a model - define the input and output layers, as well as the hidden layers of a deep learning model.\n",
    "\n",
    "2. compile a model - define the loss function (in other words, the function which tells our model how wrong it is) and the optimizer (tells our model how to improve the patterns its learning) and evaluation metrics (what we can use to interpret the performance of our model).\n",
    "\n",
    "3. fitting a model - letting the model try to find patterns between X & y (features and labels).\n",
    "\n",
    "4. evaluate a model - how well the model is doing."
   ]
  },
  {
   "cell_type": "code",
   "execution_count": 4,
   "metadata": {},
   "outputs": [
    {
     "name": "stdout",
     "output_type": "stream",
     "text": [
      "Epoch 1/5\n"
     ]
    },
    {
     "name": "stderr",
     "output_type": "stream",
     "text": [
      "2023-07-07 08:44:51.149986: W tensorflow/tsl/platform/profile_utils/cpu_utils.cc:128] Failed to get CPU frequency: 0 Hz\n"
     ]
    },
    {
     "name": "stdout",
     "output_type": "stream",
     "text": [
      "1/1 [==============================] - 0s 307ms/step - loss: 16.6172 - mae: 16.6172\n",
      "Epoch 2/5\n",
      "1/1 [==============================] - 0s 7ms/step - loss: 16.3359 - mae: 16.3359\n",
      "Epoch 3/5\n",
      "1/1 [==============================] - 0s 6ms/step - loss: 16.0547 - mae: 16.0547\n",
      "Epoch 4/5\n",
      "1/1 [==============================] - 0s 7ms/step - loss: 15.7734 - mae: 15.7734\n",
      "Epoch 5/5\n",
      "1/1 [==============================] - 0s 6ms/step - loss: 15.4922 - mae: 15.4922\n"
     ]
    },
    {
     "data": {
      "text/plain": [
       "<keras.callbacks.History at 0x2832e2260>"
      ]
     },
     "execution_count": 4,
     "metadata": {},
     "output_type": "execute_result"
    }
   ],
   "source": [
    "# set random seed\n",
    "\n",
    "tf.random.set_seed(42)\n",
    "\n",
    "# 1. create a model using sequential API\n",
    "\n",
    "model=tf.keras.Sequential([\n",
    "    tf.keras.layers.Dense(1) # one hidden Layer\n",
    "])\n",
    "\n",
    "# 2. compile the model\n",
    "model.compile(optimizer=tf.keras.optimizers.legacy.SGD(),\n",
    "              loss=tf.keras.losses.mae, # mean absolute error,\n",
    "              metrics=[\"mae\"]\n",
    "              )\n",
    "\n",
    "# 3. Fit the model\n",
    "\n",
    "model.fit(tf.expand_dims(X, axis=-1), y, epochs=5) # <- updated to expand dims"
   ]
  },
  {
   "cell_type": "code",
   "execution_count": 5,
   "metadata": {},
   "outputs": [
    {
     "data": {
      "text/plain": [
       "(<tf.Tensor: shape=(8,), dtype=float32, numpy=array([-7., -4., -1.,  2.,  5.,  8., 11., 14.], dtype=float32)>,\n",
       " <tf.Tensor: shape=(8,), dtype=float32, numpy=array([ 3.,  6.,  9., 12., 15., 18., 21., 24.], dtype=float32)>)"
      ]
     },
     "execution_count": 5,
     "metadata": {},
     "output_type": "execute_result"
    }
   ],
   "source": [
    "# check out X and y\n",
    "\n",
    "X,y"
   ]
  },
  {
   "cell_type": "code",
   "execution_count": 6,
   "metadata": {},
   "outputs": [
    {
     "name": "stdout",
     "output_type": "stream",
     "text": [
      "1/1 [==============================] - 0s 68ms/step\n"
     ]
    },
    {
     "data": {
      "text/plain": [
       "array([[-9.444559]], dtype=float32)"
      ]
     },
     "execution_count": 6,
     "metadata": {},
     "output_type": "execute_result"
    }
   ],
   "source": [
    "# Try to make prediction\n",
    "\n",
    "model.predict([20])\n"
   ]
  },
  {
   "cell_type": "markdown",
   "metadata": {},
   "source": [
    "## Improving the Model\n",
    "\n",
    "we can improve  our model by altering the steps we took to create a model.\n",
    "\n",
    "1. **Creating a model** - here we might add more layers, increase the number of hidden units (also called neurons) within each of the hidden layers, change the activation function of each layer.\n",
    "\n",
    "2. **Compiling a model** - here we might change the optimization function or perhaps the **learning rate** of the optimization function.\n",
    "\n",
    "3. **Fitting a model** - here we might fit a model for more **epochs** (leave it training for longer) or on more data (give the model more examples to learn from)."
   ]
  },
  {
   "cell_type": "code",
   "execution_count": 7,
   "metadata": {},
   "outputs": [
    {
     "name": "stdout",
     "output_type": "stream",
     "text": [
      "Epoch 1/100\n",
      "1/1 [==============================] - 0s 146ms/step - loss: 19.3487 - mae: 19.3487\n",
      "Epoch 2/100\n",
      "1/1 [==============================] - 0s 7ms/step - loss: 19.0675 - mae: 19.0675\n",
      "Epoch 3/100\n",
      "1/1 [==============================] - 0s 7ms/step - loss: 18.7862 - mae: 18.7862\n",
      "Epoch 4/100\n",
      "1/1 [==============================] - 0s 14ms/step - loss: 18.5050 - mae: 18.5050\n",
      "Epoch 5/100\n",
      "1/1 [==============================] - 0s 8ms/step - loss: 18.2237 - mae: 18.2237\n",
      "Epoch 6/100\n",
      "1/1 [==============================] - 0s 6ms/step - loss: 17.9425 - mae: 17.9425\n",
      "Epoch 7/100\n",
      "1/1 [==============================] - 0s 8ms/step - loss: 17.6612 - mae: 17.6612\n",
      "Epoch 8/100\n",
      "1/1 [==============================] - 0s 6ms/step - loss: 17.3800 - mae: 17.3800\n",
      "Epoch 9/100\n",
      "1/1 [==============================] - 0s 6ms/step - loss: 17.0987 - mae: 17.0987\n",
      "Epoch 10/100\n",
      "1/1 [==============================] - 0s 7ms/step - loss: 16.8175 - mae: 16.8175\n",
      "Epoch 11/100\n",
      "1/1 [==============================] - 0s 8ms/step - loss: 16.5362 - mae: 16.5362\n",
      "Epoch 12/100\n",
      "1/1 [==============================] - 0s 8ms/step - loss: 16.2550 - mae: 16.2550\n",
      "Epoch 13/100\n",
      "1/1 [==============================] - 0s 7ms/step - loss: 15.9737 - mae: 15.9737\n",
      "Epoch 14/100\n",
      "1/1 [==============================] - 0s 6ms/step - loss: 15.6925 - mae: 15.6925\n",
      "Epoch 15/100\n",
      "1/1 [==============================] - 0s 8ms/step - loss: 15.4112 - mae: 15.4112\n",
      "Epoch 16/100\n",
      "1/1 [==============================] - 0s 5ms/step - loss: 15.1300 - mae: 15.1300\n",
      "Epoch 17/100\n",
      "1/1 [==============================] - 0s 8ms/step - loss: 14.8487 - mae: 14.8487\n",
      "Epoch 18/100\n",
      "1/1 [==============================] - 0s 6ms/step - loss: 14.6479 - mae: 14.6479\n",
      "Epoch 19/100\n",
      "1/1 [==============================] - 0s 9ms/step - loss: 14.5154 - mae: 14.5154\n",
      "Epoch 20/100\n",
      "1/1 [==============================] - 0s 6ms/step - loss: 14.3829 - mae: 14.3829\n",
      "Epoch 21/100\n",
      "1/1 [==============================] - 0s 7ms/step - loss: 14.2504 - mae: 14.2504\n",
      "Epoch 22/100\n",
      "1/1 [==============================] - 0s 7ms/step - loss: 14.1179 - mae: 14.1179\n",
      "Epoch 23/100\n",
      "1/1 [==============================] - 0s 7ms/step - loss: 13.9854 - mae: 13.9854\n",
      "Epoch 24/100\n",
      "1/1 [==============================] - 0s 7ms/step - loss: 13.8529 - mae: 13.8529\n",
      "Epoch 25/100\n",
      "1/1 [==============================] - 0s 7ms/step - loss: 13.7204 - mae: 13.7204\n",
      "Epoch 26/100\n",
      "1/1 [==============================] - 0s 8ms/step - loss: 13.5879 - mae: 13.5879\n",
      "Epoch 27/100\n",
      "1/1 [==============================] - 0s 6ms/step - loss: 13.4554 - mae: 13.4554\n",
      "Epoch 28/100\n",
      "1/1 [==============================] - 0s 6ms/step - loss: 13.3229 - mae: 13.3229\n",
      "Epoch 29/100\n",
      "1/1 [==============================] - 0s 7ms/step - loss: 13.1904 - mae: 13.1904\n",
      "Epoch 30/100\n",
      "1/1 [==============================] - 0s 7ms/step - loss: 13.0579 - mae: 13.0579\n",
      "Epoch 31/100\n",
      "1/1 [==============================] - 0s 8ms/step - loss: 12.9254 - mae: 12.9254\n",
      "Epoch 32/100\n",
      "1/1 [==============================] - 0s 7ms/step - loss: 12.7929 - mae: 12.7929\n",
      "Epoch 33/100\n",
      "1/1 [==============================] - 0s 6ms/step - loss: 12.6604 - mae: 12.6604\n",
      "Epoch 34/100\n",
      "1/1 [==============================] - 0s 7ms/step - loss: 12.5279 - mae: 12.5279\n",
      "Epoch 35/100\n",
      "1/1 [==============================] - 0s 6ms/step - loss: 12.3954 - mae: 12.3954\n",
      "Epoch 36/100\n",
      "1/1 [==============================] - 0s 7ms/step - loss: 12.2629 - mae: 12.2629\n",
      "Epoch 37/100\n",
      "1/1 [==============================] - 0s 6ms/step - loss: 12.1304 - mae: 12.1304\n",
      "Epoch 38/100\n",
      "1/1 [==============================] - 0s 7ms/step - loss: 11.9979 - mae: 11.9979\n",
      "Epoch 39/100\n",
      "1/1 [==============================] - 0s 7ms/step - loss: 11.8654 - mae: 11.8654\n",
      "Epoch 40/100\n",
      "1/1 [==============================] - 0s 8ms/step - loss: 11.7329 - mae: 11.7329\n",
      "Epoch 41/100\n",
      "1/1 [==============================] - 0s 6ms/step - loss: 11.6004 - mae: 11.6004\n",
      "Epoch 42/100\n",
      "1/1 [==============================] - 0s 8ms/step - loss: 11.4679 - mae: 11.4679\n",
      "Epoch 43/100\n",
      "1/1 [==============================] - 0s 6ms/step - loss: 11.3354 - mae: 11.3354\n",
      "Epoch 44/100\n",
      "1/1 [==============================] - 0s 7ms/step - loss: 11.2029 - mae: 11.2029\n",
      "Epoch 45/100\n",
      "1/1 [==============================] - 0s 6ms/step - loss: 11.0704 - mae: 11.0704\n",
      "Epoch 46/100\n",
      "1/1 [==============================] - 0s 7ms/step - loss: 10.9379 - mae: 10.9379\n",
      "Epoch 47/100\n",
      "1/1 [==============================] - 0s 7ms/step - loss: 10.8054 - mae: 10.8054\n",
      "Epoch 48/100\n",
      "1/1 [==============================] - 0s 7ms/step - loss: 10.6729 - mae: 10.6729\n",
      "Epoch 49/100\n",
      "1/1 [==============================] - 0s 6ms/step - loss: 10.5404 - mae: 10.5404\n",
      "Epoch 50/100\n",
      "1/1 [==============================] - 0s 7ms/step - loss: 10.4079 - mae: 10.4079\n",
      "Epoch 51/100\n",
      "1/1 [==============================] - 0s 6ms/step - loss: 10.2754 - mae: 10.2754\n",
      "Epoch 52/100\n",
      "1/1 [==============================] - 0s 7ms/step - loss: 10.1429 - mae: 10.1429\n",
      "Epoch 53/100\n",
      "1/1 [==============================] - 0s 6ms/step - loss: 10.0104 - mae: 10.0104\n",
      "Epoch 54/100\n",
      "1/1 [==============================] - 0s 7ms/step - loss: 9.8779 - mae: 9.8779\n",
      "Epoch 55/100\n",
      "1/1 [==============================] - 0s 7ms/step - loss: 9.7454 - mae: 9.7454\n",
      "Epoch 56/100\n",
      "1/1 [==============================] - 0s 6ms/step - loss: 9.6129 - mae: 9.6129\n",
      "Epoch 57/100\n",
      "1/1 [==============================] - 0s 7ms/step - loss: 9.4804 - mae: 9.4804\n",
      "Epoch 58/100\n",
      "1/1 [==============================] - 0s 7ms/step - loss: 9.3479 - mae: 9.3479\n",
      "Epoch 59/100\n",
      "1/1 [==============================] - 0s 7ms/step - loss: 9.2154 - mae: 9.2154\n",
      "Epoch 60/100\n",
      "1/1 [==============================] - 0s 6ms/step - loss: 9.0829 - mae: 9.0829\n",
      "Epoch 61/100\n",
      "1/1 [==============================] - 0s 6ms/step - loss: 8.9504 - mae: 8.9504\n",
      "Epoch 62/100\n",
      "1/1 [==============================] - 0s 7ms/step - loss: 8.8179 - mae: 8.8179\n",
      "Epoch 63/100\n",
      "1/1 [==============================] - 0s 7ms/step - loss: 8.6854 - mae: 8.6854\n",
      "Epoch 64/100\n",
      "1/1 [==============================] - 0s 6ms/step - loss: 8.5529 - mae: 8.5529\n",
      "Epoch 65/100\n",
      "1/1 [==============================] - 0s 7ms/step - loss: 8.4204 - mae: 8.4204\n",
      "Epoch 66/100\n",
      "1/1 [==============================] - 0s 6ms/step - loss: 8.2879 - mae: 8.2879\n",
      "Epoch 67/100\n",
      "1/1 [==============================] - 0s 8ms/step - loss: 8.1554 - mae: 8.1554\n",
      "Epoch 68/100\n",
      "1/1 [==============================] - 0s 7ms/step - loss: 8.0229 - mae: 8.0229\n",
      "Epoch 69/100\n",
      "1/1 [==============================] - 0s 6ms/step - loss: 7.8904 - mae: 7.8904\n",
      "Epoch 70/100\n",
      "1/1 [==============================] - 0s 6ms/step - loss: 7.7579 - mae: 7.7579\n",
      "Epoch 71/100\n",
      "1/1 [==============================] - 0s 7ms/step - loss: 7.6254 - mae: 7.6254\n",
      "Epoch 72/100\n",
      "1/1 [==============================] - 0s 6ms/step - loss: 7.4929 - mae: 7.4929\n",
      "Epoch 73/100\n",
      "1/1 [==============================] - 0s 7ms/step - loss: 7.3604 - mae: 7.3604\n",
      "Epoch 74/100\n",
      "1/1 [==============================] - 0s 5ms/step - loss: 7.2279 - mae: 7.2279\n",
      "Epoch 75/100\n",
      "1/1 [==============================] - 0s 8ms/step - loss: 7.0954 - mae: 7.0954\n",
      "Epoch 76/100\n",
      "1/1 [==============================] - 0s 6ms/step - loss: 6.9694 - mae: 6.9694\n",
      "Epoch 77/100\n",
      "1/1 [==============================] - 0s 7ms/step - loss: 6.9638 - mae: 6.9638\n",
      "Epoch 78/100\n",
      "1/1 [==============================] - 0s 8ms/step - loss: 6.9581 - mae: 6.9581\n",
      "Epoch 79/100\n",
      "1/1 [==============================] - 0s 7ms/step - loss: 6.9525 - mae: 6.9525\n",
      "Epoch 80/100\n",
      "1/1 [==============================] - 0s 6ms/step - loss: 6.9469 - mae: 6.9469\n",
      "Epoch 81/100\n",
      "1/1 [==============================] - 0s 7ms/step - loss: 6.9413 - mae: 6.9413\n",
      "Epoch 82/100\n",
      "1/1 [==============================] - 0s 7ms/step - loss: 6.9356 - mae: 6.9356\n",
      "Epoch 83/100\n",
      "1/1 [==============================] - 0s 6ms/step - loss: 6.9300 - mae: 6.9300\n",
      "Epoch 84/100\n",
      "1/1 [==============================] - 0s 7ms/step - loss: 6.9244 - mae: 6.9244\n",
      "Epoch 85/100\n",
      "1/1 [==============================] - 0s 6ms/step - loss: 6.9188 - mae: 6.9188\n",
      "Epoch 86/100\n",
      "1/1 [==============================] - 0s 6ms/step - loss: 6.9131 - mae: 6.9131\n",
      "Epoch 87/100\n",
      "1/1 [==============================] - 0s 7ms/step - loss: 6.9075 - mae: 6.9075\n",
      "Epoch 88/100\n",
      "1/1 [==============================] - 0s 6ms/step - loss: 6.9019 - mae: 6.9019\n",
      "Epoch 89/100\n",
      "1/1 [==============================] - 0s 7ms/step - loss: 6.8963 - mae: 6.8963\n",
      "Epoch 90/100\n",
      "1/1 [==============================] - 0s 6ms/step - loss: 6.8906 - mae: 6.8906\n",
      "Epoch 91/100\n",
      "1/1 [==============================] - 0s 7ms/step - loss: 6.8850 - mae: 6.8850\n",
      "Epoch 92/100\n",
      "1/1 [==============================] - 0s 6ms/step - loss: 6.8794 - mae: 6.8794\n",
      "Epoch 93/100\n",
      "1/1 [==============================] - 0s 7ms/step - loss: 6.8738 - mae: 6.8738\n",
      "Epoch 94/100\n",
      "1/1 [==============================] - 0s 6ms/step - loss: 6.8681 - mae: 6.8681\n",
      "Epoch 95/100\n",
      "1/1 [==============================] - 0s 7ms/step - loss: 6.8625 - mae: 6.8625\n",
      "Epoch 96/100\n",
      "1/1 [==============================] - 0s 6ms/step - loss: 6.8569 - mae: 6.8569\n",
      "Epoch 97/100\n",
      "1/1 [==============================] - 0s 8ms/step - loss: 6.8513 - mae: 6.8513\n",
      "Epoch 98/100\n",
      "1/1 [==============================] - 0s 6ms/step - loss: 6.8456 - mae: 6.8456\n",
      "Epoch 99/100\n",
      "1/1 [==============================] - 0s 7ms/step - loss: 6.8400 - mae: 6.8400\n",
      "Epoch 100/100\n",
      "1/1 [==============================] - 0s 6ms/step - loss: 6.8344 - mae: 6.8344\n"
     ]
    },
    {
     "data": {
      "text/plain": [
       "<keras.callbacks.History at 0x283d5f6d0>"
      ]
     },
     "execution_count": 7,
     "metadata": {},
     "output_type": "execute_result"
    }
   ],
   "source": [
    "# lets rebuild the model\n",
    "\n",
    "# 1. create the model\n",
    "\n",
    "model=tf.keras.Sequential([\n",
    "    tf.keras.layers.Dense(1)\n",
    "])\n",
    "\n",
    "# 2. Compile the model\n",
    "\n",
    "model.compile(\n",
    "    loss=tf.keras.losses.mae,\n",
    "    optimizer=tf.keras.optimizers.legacy.SGD(),\n",
    "    metrics=[\"mae\"]\n",
    ")\n",
    "\n",
    "# 3. Fit the model (longer Time)\n",
    "\n",
    "model.fit(tf.expand_dims(X, axis=-1), y, epochs=100) # <- updated to expand dims\n"
   ]
  },
  {
   "cell_type": "code",
   "execution_count": 8,
   "metadata": {},
   "outputs": [
    {
     "name": "stdout",
     "output_type": "stream",
     "text": [
      "1/1 [==============================] - 0s 34ms/step\n"
     ]
    },
    {
     "data": {
      "text/plain": [
       "array([[29.210154]], dtype=float32)"
      ]
     },
     "execution_count": 8,
     "metadata": {},
     "output_type": "execute_result"
    }
   ],
   "source": [
    "model.predict([17])"
   ]
  },
  {
   "cell_type": "code",
   "execution_count": 9,
   "metadata": {},
   "outputs": [
    {
     "name": "stdout",
     "output_type": "stream",
     "text": [
      "Epoch 1/100\n"
     ]
    },
    {
     "name": "stderr",
     "output_type": "stream",
     "text": [
      "/Users/magesh/anaconda3/lib/python3.10/site-packages/keras/optimizers/legacy/adam.py:117: UserWarning: The `lr` argument is deprecated, use `learning_rate` instead.\n",
      "  super().__init__(name, **kwargs)\n"
     ]
    },
    {
     "name": "stdout",
     "output_type": "stream",
     "text": [
      "1/1 [==============================] - 0s 262ms/step - loss: 13.9537 - mae: 13.9537\n",
      "Epoch 2/100\n",
      "1/1 [==============================] - 0s 7ms/step - loss: 13.2694 - mae: 13.2694\n",
      "Epoch 3/100\n",
      "1/1 [==============================] - 0s 9ms/step - loss: 12.5851 - mae: 12.5851\n",
      "Epoch 4/100\n",
      "1/1 [==============================] - 0s 8ms/step - loss: 11.8998 - mae: 11.8998\n",
      "Epoch 5/100\n",
      "1/1 [==============================] - 0s 7ms/step - loss: 11.2119 - mae: 11.2119\n",
      "Epoch 6/100\n",
      "1/1 [==============================] - 0s 8ms/step - loss: 10.5201 - mae: 10.5201\n",
      "Epoch 7/100\n",
      "1/1 [==============================] - 0s 9ms/step - loss: 9.8229 - mae: 9.8229\n",
      "Epoch 8/100\n",
      "1/1 [==============================] - 0s 8ms/step - loss: 9.1184 - mae: 9.1184\n",
      "Epoch 9/100\n",
      "1/1 [==============================] - 0s 7ms/step - loss: 8.4042 - mae: 8.4042\n",
      "Epoch 10/100\n",
      "1/1 [==============================] - 0s 9ms/step - loss: 7.6778 - mae: 7.6778\n",
      "Epoch 11/100\n",
      "1/1 [==============================] - 0s 8ms/step - loss: 6.9363 - mae: 6.9363\n",
      "Epoch 12/100\n",
      "1/1 [==============================] - 0s 8ms/step - loss: 6.6938 - mae: 6.6938\n",
      "Epoch 13/100\n",
      "1/1 [==============================] - 0s 8ms/step - loss: 7.0322 - mae: 7.0322\n",
      "Epoch 14/100\n",
      "1/1 [==============================] - 0s 8ms/step - loss: 7.3220 - mae: 7.3220\n",
      "Epoch 15/100\n",
      "1/1 [==============================] - 0s 9ms/step - loss: 7.6902 - mae: 7.6902\n",
      "Epoch 16/100\n",
      "1/1 [==============================] - 0s 8ms/step - loss: 7.8151 - mae: 7.8151\n",
      "Epoch 17/100\n",
      "1/1 [==============================] - 0s 8ms/step - loss: 7.7458 - mae: 7.7458\n",
      "Epoch 18/100\n",
      "1/1 [==============================] - 0s 10ms/step - loss: 7.5287 - mae: 7.5287\n",
      "Epoch 19/100\n",
      "1/1 [==============================] - 0s 7ms/step - loss: 7.1990 - mae: 7.1990\n",
      "Epoch 20/100\n",
      "1/1 [==============================] - 0s 8ms/step - loss: 6.8546 - mae: 6.8546\n",
      "Epoch 21/100\n",
      "1/1 [==============================] - 0s 7ms/step - loss: 6.5833 - mae: 6.5833\n",
      "Epoch 22/100\n",
      "1/1 [==============================] - 0s 36ms/step - loss: 6.3030 - mae: 6.3030\n",
      "Epoch 23/100\n",
      "1/1 [==============================] - 0s 18ms/step - loss: 6.0704 - mae: 6.0704\n",
      "Epoch 24/100\n",
      "1/1 [==============================] - 0s 8ms/step - loss: 6.0310 - mae: 6.0310\n",
      "Epoch 25/100\n",
      "1/1 [==============================] - 0s 7ms/step - loss: 6.0278 - mae: 6.0278\n",
      "Epoch 26/100\n",
      "1/1 [==============================] - 0s 8ms/step - loss: 6.1150 - mae: 6.1150\n",
      "Epoch 27/100\n",
      "1/1 [==============================] - 0s 7ms/step - loss: 6.1062 - mae: 6.1062\n",
      "Epoch 28/100\n",
      "1/1 [==============================] - 0s 8ms/step - loss: 6.0135 - mae: 6.0135\n",
      "Epoch 29/100\n",
      "1/1 [==============================] - 0s 7ms/step - loss: 5.8455 - mae: 5.8455\n",
      "Epoch 30/100\n",
      "1/1 [==============================] - 0s 9ms/step - loss: 5.6130 - mae: 5.6130\n",
      "Epoch 31/100\n",
      "1/1 [==============================] - 0s 8ms/step - loss: 5.5167 - mae: 5.5167\n",
      "Epoch 32/100\n",
      "1/1 [==============================] - 0s 7ms/step - loss: 5.4176 - mae: 5.4176\n",
      "Epoch 33/100\n",
      "1/1 [==============================] - 0s 8ms/step - loss: 5.3156 - mae: 5.3156\n",
      "Epoch 34/100\n",
      "1/1 [==============================] - 0s 9ms/step - loss: 5.2681 - mae: 5.2681\n",
      "Epoch 35/100\n",
      "1/1 [==============================] - 0s 8ms/step - loss: 5.2343 - mae: 5.2343\n",
      "Epoch 36/100\n",
      "1/1 [==============================] - 0s 9ms/step - loss: 5.1628 - mae: 5.1628\n",
      "Epoch 37/100\n",
      "1/1 [==============================] - 0s 9ms/step - loss: 5.0568 - mae: 5.0568\n",
      "Epoch 38/100\n",
      "1/1 [==============================] - 0s 11ms/step - loss: 4.9191 - mae: 4.9191\n",
      "Epoch 39/100\n",
      "1/1 [==============================] - 0s 11ms/step - loss: 4.7524 - mae: 4.7524\n",
      "Epoch 40/100\n",
      "1/1 [==============================] - 0s 10ms/step - loss: 4.6685 - mae: 4.6685\n",
      "Epoch 41/100\n",
      "1/1 [==============================] - 0s 15ms/step - loss: 4.5797 - mae: 4.5797\n",
      "Epoch 42/100\n",
      "1/1 [==============================] - 0s 11ms/step - loss: 4.4839 - mae: 4.4839\n",
      "Epoch 43/100\n",
      "1/1 [==============================] - 0s 10ms/step - loss: 4.4135 - mae: 4.4135\n",
      "Epoch 44/100\n",
      "1/1 [==============================] - 0s 9ms/step - loss: 4.2845 - mae: 4.2845\n",
      "Epoch 45/100\n",
      "1/1 [==============================] - 0s 7ms/step - loss: 4.1231 - mae: 4.1231\n",
      "Epoch 46/100\n",
      "1/1 [==============================] - 0s 7ms/step - loss: 3.9798 - mae: 3.9798\n",
      "Epoch 47/100\n",
      "1/1 [==============================] - 0s 8ms/step - loss: 3.8298 - mae: 3.8298\n",
      "Epoch 48/100\n",
      "1/1 [==============================] - 0s 8ms/step - loss: 3.7106 - mae: 3.7106\n",
      "Epoch 49/100\n",
      "1/1 [==============================] - 0s 8ms/step - loss: 3.6010 - mae: 3.6010\n",
      "Epoch 50/100\n",
      "1/1 [==============================] - 0s 7ms/step - loss: 3.4449 - mae: 3.4449\n",
      "Epoch 51/100\n",
      "1/1 [==============================] - 0s 9ms/step - loss: 3.2447 - mae: 3.2447\n",
      "Epoch 52/100\n",
      "1/1 [==============================] - 0s 7ms/step - loss: 3.0799 - mae: 3.0799\n",
      "Epoch 53/100\n",
      "1/1 [==============================] - 0s 8ms/step - loss: 2.9243 - mae: 2.9243\n",
      "Epoch 54/100\n",
      "1/1 [==============================] - 0s 8ms/step - loss: 2.7881 - mae: 2.7881\n",
      "Epoch 55/100\n",
      "1/1 [==============================] - 0s 7ms/step - loss: 2.5712 - mae: 2.5712\n",
      "Epoch 56/100\n",
      "1/1 [==============================] - 0s 8ms/step - loss: 2.3567 - mae: 2.3567\n",
      "Epoch 57/100\n",
      "1/1 [==============================] - 0s 8ms/step - loss: 2.2047 - mae: 2.2047\n",
      "Epoch 58/100\n",
      "1/1 [==============================] - 0s 9ms/step - loss: 2.0486 - mae: 2.0486\n",
      "Epoch 59/100\n",
      "1/1 [==============================] - 0s 7ms/step - loss: 1.8310 - mae: 1.8310\n",
      "Epoch 60/100\n",
      "1/1 [==============================] - 0s 8ms/step - loss: 1.5543 - mae: 1.5543\n",
      "Epoch 61/100\n",
      "1/1 [==============================] - 0s 8ms/step - loss: 1.2731 - mae: 1.2731\n",
      "Epoch 62/100\n",
      "1/1 [==============================] - 0s 8ms/step - loss: 1.1423 - mae: 1.1423\n",
      "Epoch 63/100\n",
      "1/1 [==============================] - 0s 8ms/step - loss: 0.8810 - mae: 0.8810\n",
      "Epoch 64/100\n",
      "1/1 [==============================] - 0s 8ms/step - loss: 0.5130 - mae: 0.5130\n",
      "Epoch 65/100\n",
      "1/1 [==============================] - 0s 8ms/step - loss: 0.3138 - mae: 0.3138\n",
      "Epoch 66/100\n",
      "1/1 [==============================] - 0s 7ms/step - loss: 0.0561 - mae: 0.0561\n",
      "Epoch 67/100\n",
      "1/1 [==============================] - 0s 8ms/step - loss: 0.3110 - mae: 0.3110\n",
      "Epoch 68/100\n",
      "1/1 [==============================] - 0s 7ms/step - loss: 0.4360 - mae: 0.4360\n",
      "Epoch 69/100\n",
      "1/1 [==============================] - 0s 9ms/step - loss: 0.5381 - mae: 0.5381\n",
      "Epoch 70/100\n",
      "1/1 [==============================] - 0s 8ms/step - loss: 0.6476 - mae: 0.6476\n",
      "Epoch 71/100\n",
      "1/1 [==============================] - 0s 8ms/step - loss: 0.6198 - mae: 0.6198\n",
      "Epoch 72/100\n",
      "1/1 [==============================] - 0s 9ms/step - loss: 0.6278 - mae: 0.6278\n",
      "Epoch 73/100\n",
      "1/1 [==============================] - 0s 7ms/step - loss: 0.5642 - mae: 0.5642\n",
      "Epoch 74/100\n",
      "1/1 [==============================] - 0s 8ms/step - loss: 0.4729 - mae: 0.4729\n",
      "Epoch 75/100\n",
      "1/1 [==============================] - 0s 8ms/step - loss: 0.3512 - mae: 0.3512\n",
      "Epoch 76/100\n",
      "1/1 [==============================] - 0s 8ms/step - loss: 0.2162 - mae: 0.2162\n",
      "Epoch 77/100\n",
      "1/1 [==============================] - 0s 8ms/step - loss: 0.0709 - mae: 0.0709\n",
      "Epoch 78/100\n",
      "1/1 [==============================] - 0s 7ms/step - loss: 0.2307 - mae: 0.2307\n",
      "Epoch 79/100\n",
      "1/1 [==============================] - 0s 7ms/step - loss: 0.3204 - mae: 0.3204\n",
      "Epoch 80/100\n",
      "1/1 [==============================] - 0s 8ms/step - loss: 0.2955 - mae: 0.2955\n",
      "Epoch 81/100\n",
      "1/1 [==============================] - 0s 19ms/step - loss: 0.3794 - mae: 0.3794\n",
      "Epoch 82/100\n",
      "1/1 [==============================] - 0s 13ms/step - loss: 0.3210 - mae: 0.3210\n",
      "Epoch 83/100\n",
      "1/1 [==============================] - 0s 7ms/step - loss: 0.3434 - mae: 0.3434\n",
      "Epoch 84/100\n",
      "1/1 [==============================] - 0s 8ms/step - loss: 0.2463 - mae: 0.2463\n",
      "Epoch 85/100\n",
      "1/1 [==============================] - 0s 7ms/step - loss: 0.1690 - mae: 0.1690\n",
      "Epoch 86/100\n",
      "1/1 [==============================] - 0s 8ms/step - loss: 0.1399 - mae: 0.1399\n",
      "Epoch 87/100\n",
      "1/1 [==============================] - 0s 7ms/step - loss: 0.0520 - mae: 0.0520\n",
      "Epoch 88/100\n",
      "1/1 [==============================] - 0s 8ms/step - loss: 0.2521 - mae: 0.2521\n",
      "Epoch 89/100\n",
      "1/1 [==============================] - 0s 8ms/step - loss: 0.2693 - mae: 0.2693\n",
      "Epoch 90/100\n",
      "1/1 [==============================] - 0s 9ms/step - loss: 0.1961 - mae: 0.1961\n",
      "Epoch 91/100\n",
      "1/1 [==============================] - 0s 9ms/step - loss: 0.1668 - mae: 0.1668\n",
      "Epoch 92/100\n",
      "1/1 [==============================] - 0s 8ms/step - loss: 0.2105 - mae: 0.2105\n",
      "Epoch 93/100\n",
      "1/1 [==============================] - 0s 8ms/step - loss: 0.1827 - mae: 0.1827\n",
      "Epoch 94/100\n",
      "1/1 [==============================] - 0s 7ms/step - loss: 0.1398 - mae: 0.1398\n",
      "Epoch 95/100\n",
      "1/1 [==============================] - 0s 10ms/step - loss: 0.1633 - mae: 0.1633\n",
      "Epoch 96/100\n",
      "1/1 [==============================] - 0s 8ms/step - loss: 0.1817 - mae: 0.1817\n",
      "Epoch 97/100\n",
      "1/1 [==============================] - 0s 8ms/step - loss: 0.1317 - mae: 0.1317\n",
      "Epoch 98/100\n",
      "1/1 [==============================] - 0s 11ms/step - loss: 0.1772 - mae: 0.1772\n",
      "Epoch 99/100\n",
      "1/1 [==============================] - 0s 10ms/step - loss: 0.1019 - mae: 0.1019\n",
      "Epoch 100/100\n",
      "1/1 [==============================] - 0s 14ms/step - loss: 0.1391 - mae: 0.1391\n"
     ]
    },
    {
     "data": {
      "text/plain": [
       "<keras.callbacks.History at 0x286d4fd00>"
      ]
     },
     "execution_count": 9,
     "metadata": {},
     "output_type": "execute_result"
    }
   ],
   "source": [
    "# Recreate model 2 with extra 100 layers\n",
    "\n",
    "model=tf.keras.Sequential([\n",
    "    tf.keras.layers.Dense(50,activation=None),\n",
    "    tf.keras.layers.Dense(1)\n",
    "])\n",
    "\n",
    "model.compile(\n",
    "    loss=\"mae\",\n",
    "    optimizer=tf.keras.optimizers.legacy.Adam(lr=0.01),\n",
    "    metrics=[\"mae\"]\n",
    "\n",
    ")\n",
    "\n",
    "model.fit(tf.expand_dims(X,axis=-1),y,epochs=100)\n",
    "\n"
   ]
  },
  {
   "cell_type": "code",
   "execution_count": 10,
   "metadata": {},
   "outputs": [
    {
     "name": "stdout",
     "output_type": "stream",
     "text": [
      "1/1 [==============================] - 0s 53ms/step\n"
     ]
    },
    {
     "data": {
      "text/plain": [
       "array([[27.069542]], dtype=float32)"
      ]
     },
     "execution_count": 10,
     "metadata": {},
     "output_type": "execute_result"
    }
   ],
   "source": [
    "model.predict([17])"
   ]
  },
  {
   "cell_type": "markdown",
   "metadata": {},
   "source": [
    "# Evalting a model\n",
    "\n",
    "In practice, a typical workflow you'll go through when building neural networks is:\n",
    "\n",
    "```\n",
    "Build a model -> fit it -> evaluate it -> tweak a model -> fit it -> evaluate it -> tweak a model -> fit it -> evaluate it...\n",
    "```"
   ]
  },
  {
   "cell_type": "markdown",
   "metadata": {},
   "source": [
    "when it comes to evaluation there are 3 words you should memorize:\n",
    "\n",
    ">  \"Visualize, visualize, visualize\"\n",
    "\n",
    "it's a good idea to visualize:\n",
    "\n",
    "* The data - what data are we working with? what does it look like?\n",
    "\n",
    "\n",
    "* The model itself - what does our model look like?\n",
    "\n",
    "\n",
    "* The training of a model - how does a model perform while it learns?\n",
    "\n",
    "* The Predictions of the model- how do the predictions of a model line up against the ground truth (the original labels)?\n",
    "\n",
    "Let's see some examples."
   ]
  },
  {
   "cell_type": "code",
   "execution_count": 17,
   "metadata": {},
   "outputs": [],
   "source": [
    "# make a bigger dataset\n",
    "X=tf.range(-100,100,4)\n",
    "# Make labels for the dataset\n",
    "y=X+10 # this the formulat that our model should learnl\n",
    "\n"
   ]
  },
  {
   "cell_type": "code",
   "execution_count": 18,
   "metadata": {},
   "outputs": [
    {
     "data": {
      "text/plain": [
       "<matplotlib.collections.PathCollection at 0x283d5f790>"
      ]
     },
     "execution_count": 18,
     "metadata": {},
     "output_type": "execute_result"
    },
    {
     "data": {
      "image/png": "[encoded data removed]",
      "text/plain": [
       "<Figure size 640x480 with 1 Axes>"
      ]
     },
     "metadata": {},
     "output_type": "display_data"
    }
   ],
   "source": [
    "# visualize\n",
    "import matplotlib.pyplot as plt\n",
    "\n",
    "plt.scatter(X,y)"
   ]
  },
  {
   "cell_type": "code",
   "execution_count": 28,
   "metadata": {},
   "outputs": [],
   "source": [
    "# split the dataset\n",
    "# 80% training and 20% for testing\n",
    "\n",
    "train=int(len(X) *0.8)\n",
    "test=int(len(X)-train)\n",
    "\n",
    "x_train,x_test=X[0:train],X[test:]\n",
    "\n",
    "x_train,x_test=y[0:train],y[test:]\n"
   ]
  },
  {
   "cell_type": "code",
   "execution_count": null,
   "metadata": {},
   "outputs": [],
   "source": []
  }
 ],
 "metadata": {
  "kernelspec": {
   "display_name": "base",
   "language": "python",
   "name": "python3"
  },
  "language_info": {
   "codemirror_mode": {
    "name": "ipython",
    "version": 3
   },
   "file_extension": ".py",
   "mimetype": "text/x-python",
   "name": "python",
   "nbconvert_exporter": "python",
   "pygments_lexer": "ipython3",
   "version": "3.10.9"
  },
  "orig_nbformat": 4
 },
 "nbformat": 4,
 "nbformat_minor": 2
}
