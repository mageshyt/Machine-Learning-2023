{
 "cells": [
  {
   "cell_type": "markdown",
   "metadata": {},
   "source": [
    "## Introduction ot Regression with Neural Networks in TensorFlow\n",
    "\n",
    "There are many defination for a regression problme but in ur case,\n",
    "\n",
    "**we're going to simplify it:**\n",
    "\n",
    "  predicting a numerical variable based on some other combination of variables, even shorter... predicting a number."
   ]
  },
  {
   "cell_type": "code",
   "execution_count": 1,
   "metadata": {},
   "outputs": [
    {
     "data": {
      "text/plain": [
       "<matplotlib.collections.PathCollection at 0x17caf7fa0>"
      ]
     },
     "execution_count": 1,
     "metadata": {},
     "output_type": "execute_result"
    },
    {
     "data": {
      "image/png": "[encoded data removed]",
      "text/plain": [
       "<Figure size 640x480 with 1 Axes>"
      ]
     },
     "metadata": {},
     "output_type": "display_data"
    }
   ],
   "source": [
    "import tensorflow as tf\n",
    "import matplotlib.pyplot as plt\n",
    "import numpy as np\n",
    "\n",
    "# create feature\n",
    "\n",
    "X=np.array([-7,-4,-1,2,5,8,11,14])\n",
    "\n",
    "# create label\n",
    "y=np.array([3,6,9,12,15,18,21,24])\n",
    "\n",
    "# visualize it\n",
    "plt.scatter(X,y)\n"
   ]
  },
  {
   "cell_type": "markdown",
   "metadata": {},
   "source": [
    "# Input and Output"
   ]
  },
  {
   "cell_type": "code",
   "execution_count": 2,
   "metadata": {},
   "outputs": [],
   "source": [
    "\n",
    "housing_info=tf.constant([\"breedroom\",\"bathroom\",\"garage\"])\n",
    "\n",
    "housing_price=tf.constant([93400])\n",
    "\n"
   ]
  },
  {
   "cell_type": "code",
   "execution_count": 3,
   "metadata": {},
   "outputs": [
    {
     "data": {
      "text/plain": [
       "(<tf.Tensor: shape=(8,), dtype=float32, numpy=array([-7., -4., -1.,  2.,  5.,  8., 11., 14.], dtype=float32)>,\n",
       " <tf.Tensor: shape=(8,), dtype=float32, numpy=array([ 3.,  6.,  9., 12., 15., 18., 21., 24.], dtype=float32)>)"
      ]
     },
     "execution_count": 3,
     "metadata": {},
     "output_type": "execute_result"
    }
   ],
   "source": [
    "# Turn x and y to Tensor\n",
    "\n",
    "X=tf.constant(X,dtype=tf.float32)\n",
    "y=tf.constant(y,dtype=tf.float32)\n",
    "X,y"
   ]
  },
  {
   "cell_type": "markdown",
   "metadata": {},
   "source": [
    "# steps in Modelling with Tenserflow 🏛️\n",
    "\n",
    "1. createa a model - define the input and output layers, as well as the hidden layers of a deep learning model.\n",
    "\n",
    "2. compile a model - define the loss function (in other words, the function which tells our model how wrong it is) and the optimizer (tells our model how to improve the patterns its learning) and evaluation metrics (what we can use to interpret the performance of our model).\n",
    "\n",
    "3. fitting a model - letting the model try to find patterns between X & y (features and labels).\n",
    "\n",
    "4. evaluate a model - how well the model is doing."
   ]
  },
  {
   "cell_type": "code",
   "execution_count": 4,
   "metadata": {},
   "outputs": [
    {
     "name": "stdout",
     "output_type": "stream",
     "text": [
      "Epoch 1/5\n"
     ]
    },
    {
     "name": "stderr",
     "output_type": "stream",
     "text": [
      "2023-07-10 08:29:44.482197: W tensorflow/tsl/platform/profile_utils/cpu_utils.cc:128] Failed to get CPU frequency: 0 Hz\n"
     ]
    },
    {
     "name": "stdout",
     "output_type": "stream",
     "text": [
      "1/1 [==============================] - 0s 285ms/step - loss: 10.6185 - mae: 10.6185\n",
      "Epoch 2/5\n",
      "1/1 [==============================] - 0s 6ms/step - loss: 10.4860 - mae: 10.4860\n",
      "Epoch 3/5\n",
      "1/1 [==============================] - 0s 6ms/step - loss: 10.3535 - mae: 10.3535\n",
      "Epoch 4/5\n",
      "1/1 [==============================] - 0s 6ms/step - loss: 10.2210 - mae: 10.2210\n",
      "Epoch 5/5\n",
      "1/1 [==============================] - 0s 6ms/step - loss: 10.0885 - mae: 10.0885\n"
     ]
    },
    {
     "data": {
      "text/plain": [
       "<keras.callbacks.History at 0x17ebb61a0>"
      ]
     },
     "execution_count": 4,
     "metadata": {},
     "output_type": "execute_result"
    }
   ],
   "source": [
    "# set random seed\n",
    "\n",
    "tf.random.set_seed(42)\n",
    "\n",
    "# 1. create a model using sequential API\n",
    "\n",
    "model=tf.keras.Sequential([\n",
    "    tf.keras.layers.Dense(1) # one hidden Layer\n",
    "])\n",
    "\n",
    "# 2. compile the model\n",
    "model.compile(optimizer=tf.keras.optimizers.legacy.SGD(),\n",
    "              loss=tf.keras.losses.mae, # mean absolute error,\n",
    "              metrics=[\"mae\"]\n",
    "              )\n",
    "\n",
    "# 3. Fit the model\n",
    "\n",
    "model.fit(tf.expand_dims(X, axis=-1), y, epochs=5) # <- updated to expand dims"
   ]
  },
  {
   "cell_type": "code",
   "execution_count": 5,
   "metadata": {},
   "outputs": [
    {
     "data": {
      "text/plain": [
       "(<tf.Tensor: shape=(8,), dtype=float32, numpy=array([-7., -4., -1.,  2.,  5.,  8., 11., 14.], dtype=float32)>,\n",
       " <tf.Tensor: shape=(8,), dtype=float32, numpy=array([ 3.,  6.,  9., 12., 15., 18., 21., 24.], dtype=float32)>)"
      ]
     },
     "execution_count": 5,
     "metadata": {},
     "output_type": "execute_result"
    }
   ],
   "source": [
    "# check out X and y\n",
    "\n",
    "X,y"
   ]
  },
  {
   "cell_type": "code",
   "execution_count": 6,
   "metadata": {},
   "outputs": [
    {
     "name": "stdout",
     "output_type": "stream",
     "text": [
      "1/1 [==============================] - 0s 62ms/step\n"
     ]
    },
    {
     "data": {
      "text/plain": [
       "array([[20.015682]], dtype=float32)"
      ]
     },
     "execution_count": 6,
     "metadata": {},
     "output_type": "execute_result"
    }
   ],
   "source": [
    "# Try to make prediction\n",
    "\n",
    "model.predict([20])\n"
   ]
  },
  {
   "cell_type": "markdown",
   "metadata": {},
   "source": [
    "## Improving the Model\n",
    "\n",
    "we can improve  our model by altering the steps we took to create a model.\n",
    "\n",
    "1. **Creating a model** - here we might add more layers, increase the number of hidden units (also called neurons) within each of the hidden layers, change the activation function of each layer.\n",
    "\n",
    "2. **Compiling a model** - here we might change the optimization function or perhaps the **learning rate** of the optimization function.\n",
    "\n",
    "3. **Fitting a model** - here we might fit a model for more **epochs** (leave it training for longer) or on more data (give the model more examples to learn from)."
   ]
  },
  {
   "cell_type": "code",
   "execution_count": 7,
   "metadata": {},
   "outputs": [
    {
     "name": "stdout",
     "output_type": "stream",
     "text": [
      "Epoch 1/100\n",
      "1/1 [==============================] - 0s 126ms/step - loss: 10.6239 - mae: 10.6239\n",
      "Epoch 2/100\n",
      "1/1 [==============================] - 0s 7ms/step - loss: 10.4914 - mae: 10.4914\n",
      "Epoch 3/100\n",
      "1/1 [==============================] - 0s 6ms/step - loss: 10.3589 - mae: 10.3589\n",
      "Epoch 4/100\n",
      "1/1 [==============================] - 0s 6ms/step - loss: 10.2264 - mae: 10.2264\n",
      "Epoch 5/100\n",
      "1/1 [==============================] - 0s 5ms/step - loss: 10.0939 - mae: 10.0939\n",
      "Epoch 6/100\n",
      "1/1 [==============================] - 0s 6ms/step - loss: 9.9614 - mae: 9.9614\n",
      "Epoch 7/100\n",
      "1/1 [==============================] - 0s 6ms/step - loss: 9.8289 - mae: 9.8289\n",
      "Epoch 8/100\n",
      "1/1 [==============================] - 0s 6ms/step - loss: 9.6964 - mae: 9.6964\n",
      "Epoch 9/100\n",
      "1/1 [==============================] - 0s 6ms/step - loss: 9.5639 - mae: 9.5639\n",
      "Epoch 10/100\n",
      "1/1 [==============================] - 0s 6ms/step - loss: 9.4314 - mae: 9.4314\n",
      "Epoch 11/100\n",
      "1/1 [==============================] - 0s 5ms/step - loss: 9.2989 - mae: 9.2989\n",
      "Epoch 12/100\n",
      "1/1 [==============================] - 0s 6ms/step - loss: 9.1664 - mae: 9.1664\n",
      "Epoch 13/100\n",
      "1/1 [==============================] - 0s 6ms/step - loss: 9.0339 - mae: 9.0339\n",
      "Epoch 14/100\n",
      "1/1 [==============================] - 0s 6ms/step - loss: 8.9014 - mae: 8.9014\n",
      "Epoch 15/100\n",
      "1/1 [==============================] - 0s 6ms/step - loss: 8.7689 - mae: 8.7689\n",
      "Epoch 16/100\n",
      "1/1 [==============================] - 0s 6ms/step - loss: 8.6364 - mae: 8.6364\n",
      "Epoch 17/100\n",
      "1/1 [==============================] - 0s 6ms/step - loss: 8.5039 - mae: 8.5039\n",
      "Epoch 18/100\n",
      "1/1 [==============================] - 0s 6ms/step - loss: 8.3714 - mae: 8.3714\n",
      "Epoch 19/100\n",
      "1/1 [==============================] - 0s 6ms/step - loss: 8.2389 - mae: 8.2389\n",
      "Epoch 20/100\n",
      "1/1 [==============================] - 0s 6ms/step - loss: 8.1064 - mae: 8.1064\n",
      "Epoch 21/100\n",
      "1/1 [==============================] - 0s 6ms/step - loss: 7.9739 - mae: 7.9739\n",
      "Epoch 22/100\n",
      "1/1 [==============================] - 0s 5ms/step - loss: 7.8414 - mae: 7.8414\n",
      "Epoch 23/100\n",
      "1/1 [==============================] - 0s 5ms/step - loss: 7.7089 - mae: 7.7089\n",
      "Epoch 24/100\n",
      "1/1 [==============================] - 0s 7ms/step - loss: 7.5764 - mae: 7.5764\n",
      "Epoch 25/100\n",
      "1/1 [==============================] - 0s 6ms/step - loss: 7.4439 - mae: 7.4439\n",
      "Epoch 26/100\n",
      "1/1 [==============================] - 0s 6ms/step - loss: 7.3125 - mae: 7.3125\n",
      "Epoch 27/100\n",
      "1/1 [==============================] - 0s 6ms/step - loss: 7.3069 - mae: 7.3069\n",
      "Epoch 28/100\n",
      "1/1 [==============================] - 0s 6ms/step - loss: 7.3012 - mae: 7.3012\n",
      "Epoch 29/100\n",
      "1/1 [==============================] - 0s 6ms/step - loss: 7.2956 - mae: 7.2956\n",
      "Epoch 30/100\n",
      "1/1 [==============================] - 0s 6ms/step - loss: 7.2900 - mae: 7.2900\n",
      "Epoch 31/100\n",
      "1/1 [==============================] - 0s 6ms/step - loss: 7.2844 - mae: 7.2844\n",
      "Epoch 32/100\n",
      "1/1 [==============================] - 0s 6ms/step - loss: 7.2787 - mae: 7.2787\n",
      "Epoch 33/100\n",
      "1/1 [==============================] - 0s 6ms/step - loss: 7.2731 - mae: 7.2731\n",
      "Epoch 34/100\n",
      "1/1 [==============================] - 0s 6ms/step - loss: 7.2675 - mae: 7.2675\n",
      "Epoch 35/100\n",
      "1/1 [==============================] - 0s 5ms/step - loss: 7.2619 - mae: 7.2619\n",
      "Epoch 36/100\n",
      "1/1 [==============================] - 0s 6ms/step - loss: 7.2563 - mae: 7.2563\n",
      "Epoch 37/100\n",
      "1/1 [==============================] - 0s 6ms/step - loss: 7.2506 - mae: 7.2506\n",
      "Epoch 38/100\n",
      "1/1 [==============================] - 0s 5ms/step - loss: 7.2450 - mae: 7.2450\n",
      "Epoch 39/100\n",
      "1/1 [==============================] - 0s 6ms/step - loss: 7.2394 - mae: 7.2394\n",
      "Epoch 40/100\n",
      "1/1 [==============================] - 0s 6ms/step - loss: 7.2338 - mae: 7.2338\n",
      "Epoch 41/100\n",
      "1/1 [==============================] - 0s 6ms/step - loss: 7.2281 - mae: 7.2281\n",
      "Epoch 42/100\n",
      "1/1 [==============================] - 0s 6ms/step - loss: 7.2225 - mae: 7.2225\n",
      "Epoch 43/100\n",
      "1/1 [==============================] - 0s 6ms/step - loss: 7.2169 - mae: 7.2169\n",
      "Epoch 44/100\n",
      "1/1 [==============================] - 0s 6ms/step - loss: 7.2112 - mae: 7.2112\n",
      "Epoch 45/100\n",
      "1/1 [==============================] - 0s 6ms/step - loss: 7.2056 - mae: 7.2056\n",
      "Epoch 46/100\n",
      "1/1 [==============================] - 0s 6ms/step - loss: 7.2000 - mae: 7.2000\n",
      "Epoch 47/100\n",
      "1/1 [==============================] - 0s 6ms/step - loss: 7.1944 - mae: 7.1944\n",
      "Epoch 48/100\n",
      "1/1 [==============================] - 0s 7ms/step - loss: 7.1888 - mae: 7.1888\n",
      "Epoch 49/100\n",
      "1/1 [==============================] - 0s 6ms/step - loss: 7.1831 - mae: 7.1831\n",
      "Epoch 50/100\n",
      "1/1 [==============================] - 0s 6ms/step - loss: 7.1775 - mae: 7.1775\n",
      "Epoch 51/100\n",
      "1/1 [==============================] - 0s 6ms/step - loss: 7.1719 - mae: 7.1719\n",
      "Epoch 52/100\n",
      "1/1 [==============================] - 0s 6ms/step - loss: 7.1663 - mae: 7.1663\n",
      "Epoch 53/100\n",
      "1/1 [==============================] - 0s 6ms/step - loss: 7.1606 - mae: 7.1606\n",
      "Epoch 54/100\n",
      "1/1 [==============================] - 0s 6ms/step - loss: 7.1550 - mae: 7.1550\n",
      "Epoch 55/100\n",
      "1/1 [==============================] - 0s 6ms/step - loss: 7.1494 - mae: 7.1494\n",
      "Epoch 56/100\n",
      "1/1 [==============================] - 0s 7ms/step - loss: 7.1438 - mae: 7.1438\n",
      "Epoch 57/100\n",
      "1/1 [==============================] - 0s 6ms/step - loss: 7.1381 - mae: 7.1381\n",
      "Epoch 58/100\n",
      "1/1 [==============================] - 0s 5ms/step - loss: 7.1325 - mae: 7.1325\n",
      "Epoch 59/100\n",
      "1/1 [==============================] - 0s 6ms/step - loss: 7.1269 - mae: 7.1269\n",
      "Epoch 60/100\n",
      "1/1 [==============================] - 0s 6ms/step - loss: 7.1213 - mae: 7.1213\n",
      "Epoch 61/100\n",
      "1/1 [==============================] - 0s 6ms/step - loss: 7.1156 - mae: 7.1156\n",
      "Epoch 62/100\n",
      "1/1 [==============================] - 0s 6ms/step - loss: 7.1100 - mae: 7.1100\n",
      "Epoch 63/100\n",
      "1/1 [==============================] - 0s 6ms/step - loss: 7.1044 - mae: 7.1044\n",
      "Epoch 64/100\n",
      "1/1 [==============================] - 0s 5ms/step - loss: 7.0988 - mae: 7.0988\n",
      "Epoch 65/100\n",
      "1/1 [==============================] - 0s 6ms/step - loss: 7.0931 - mae: 7.0931\n",
      "Epoch 66/100\n",
      "1/1 [==============================] - 0s 5ms/step - loss: 7.0875 - mae: 7.0875\n",
      "Epoch 67/100\n",
      "1/1 [==============================] - 0s 6ms/step - loss: 7.0819 - mae: 7.0819\n",
      "Epoch 68/100\n",
      "1/1 [==============================] - 0s 5ms/step - loss: 7.0763 - mae: 7.0763\n",
      "Epoch 69/100\n",
      "1/1 [==============================] - 0s 6ms/step - loss: 7.0706 - mae: 7.0706\n",
      "Epoch 70/100\n",
      "1/1 [==============================] - 0s 6ms/step - loss: 7.0650 - mae: 7.0650\n",
      "Epoch 71/100\n",
      "1/1 [==============================] - 0s 5ms/step - loss: 7.0594 - mae: 7.0594\n",
      "Epoch 72/100\n",
      "1/1 [==============================] - 0s 6ms/step - loss: 7.0538 - mae: 7.0538\n",
      "Epoch 73/100\n",
      "1/1 [==============================] - 0s 6ms/step - loss: 7.0481 - mae: 7.0481\n",
      "Epoch 74/100\n",
      "1/1 [==============================] - 0s 6ms/step - loss: 7.0425 - mae: 7.0425\n",
      "Epoch 75/100\n",
      "1/1 [==============================] - 0s 6ms/step - loss: 7.0369 - mae: 7.0369\n",
      "Epoch 76/100\n",
      "1/1 [==============================] - 0s 6ms/step - loss: 7.0312 - mae: 7.0312\n",
      "Epoch 77/100\n",
      "1/1 [==============================] - 0s 6ms/step - loss: 7.0256 - mae: 7.0256\n",
      "Epoch 78/100\n",
      "1/1 [==============================] - 0s 6ms/step - loss: 7.0200 - mae: 7.0200\n",
      "Epoch 79/100\n",
      "1/1 [==============================] - 0s 6ms/step - loss: 7.0144 - mae: 7.0144\n",
      "Epoch 80/100\n",
      "1/1 [==============================] - 0s 6ms/step - loss: 7.0087 - mae: 7.0087\n",
      "Epoch 81/100\n",
      "1/1 [==============================] - 0s 5ms/step - loss: 7.0031 - mae: 7.0031\n",
      "Epoch 82/100\n",
      "1/1 [==============================] - 0s 6ms/step - loss: 6.9975 - mae: 6.9975\n",
      "Epoch 83/100\n",
      "1/1 [==============================] - 0s 6ms/step - loss: 6.9919 - mae: 6.9919\n",
      "Epoch 84/100\n",
      "1/1 [==============================] - 0s 5ms/step - loss: 6.9863 - mae: 6.9863\n",
      "Epoch 85/100\n",
      "1/1 [==============================] - 0s 6ms/step - loss: 6.9806 - mae: 6.9806\n",
      "Epoch 86/100\n",
      "1/1 [==============================] - 0s 6ms/step - loss: 6.9750 - mae: 6.9750\n",
      "Epoch 87/100\n",
      "1/1 [==============================] - 0s 6ms/step - loss: 6.9694 - mae: 6.9694\n",
      "Epoch 88/100\n",
      "1/1 [==============================] - 0s 6ms/step - loss: 6.9638 - mae: 6.9638\n",
      "Epoch 89/100\n",
      "1/1 [==============================] - 0s 6ms/step - loss: 6.9581 - mae: 6.9581\n",
      "Epoch 90/100\n",
      "1/1 [==============================] - 0s 6ms/step - loss: 6.9525 - mae: 6.9525\n",
      "Epoch 91/100\n",
      "1/1 [==============================] - 0s 6ms/step - loss: 6.9469 - mae: 6.9469\n",
      "Epoch 92/100\n",
      "1/1 [==============================] - 0s 6ms/step - loss: 6.9413 - mae: 6.9413\n",
      "Epoch 93/100\n",
      "1/1 [==============================] - 0s 6ms/step - loss: 6.9356 - mae: 6.9356\n",
      "Epoch 94/100\n",
      "1/1 [==============================] - 0s 6ms/step - loss: 6.9300 - mae: 6.9300\n",
      "Epoch 95/100\n",
      "1/1 [==============================] - 0s 6ms/step - loss: 6.9244 - mae: 6.9244\n",
      "Epoch 96/100\n",
      "1/1 [==============================] - 0s 6ms/step - loss: 6.9188 - mae: 6.9188\n",
      "Epoch 97/100\n",
      "1/1 [==============================] - 0s 6ms/step - loss: 6.9131 - mae: 6.9131\n",
      "Epoch 98/100\n",
      "1/1 [==============================] - 0s 6ms/step - loss: 6.9075 - mae: 6.9075\n",
      "Epoch 99/100\n",
      "1/1 [==============================] - 0s 6ms/step - loss: 6.9019 - mae: 6.9019\n",
      "Epoch 100/100\n",
      "1/1 [==============================] - 0s 6ms/step - loss: 6.8963 - mae: 6.8963\n"
     ]
    },
    {
     "data": {
      "text/plain": [
       "<keras.callbacks.History at 0x17f8573a0>"
      ]
     },
     "execution_count": 7,
     "metadata": {},
     "output_type": "execute_result"
    }
   ],
   "source": [
    "# lets rebuild the model\n",
    "\n",
    "# 1. create the model\n",
    "\n",
    "model=tf.keras.Sequential([\n",
    "    tf.keras.layers.Dense(1)\n",
    "])\n",
    "\n",
    "# 2. Compile the model\n",
    "\n",
    "model.compile(\n",
    "    loss=tf.keras.losses.mae,\n",
    "    optimizer=tf.keras.optimizers.legacy.SGD(),\n",
    "    metrics=[\"mae\"]\n",
    ")\n",
    "\n",
    "# 3. Fit the model (longer Time)\n",
    "\n",
    "model.fit(tf.expand_dims(X, axis=-1), y, epochs=100) # <- updated to expand dims\n"
   ]
  },
  {
   "cell_type": "code",
   "execution_count": 8,
   "metadata": {},
   "outputs": [
    {
     "name": "stdout",
     "output_type": "stream",
     "text": [
      "1/1 [==============================] - 0s 48ms/step\n"
     ]
    },
    {
     "data": {
      "text/plain": [
       "array([[29.657356]], dtype=float32)"
      ]
     },
     "execution_count": 8,
     "metadata": {},
     "output_type": "execute_result"
    }
   ],
   "source": [
    "model.predict([17])"
   ]
  },
  {
   "cell_type": "code",
   "execution_count": 9,
   "metadata": {},
   "outputs": [
    {
     "name": "stdout",
     "output_type": "stream",
     "text": [
      "Epoch 1/100\n"
     ]
    },
    {
     "name": "stderr",
     "output_type": "stream",
     "text": [
      "/Users/magesh/anaconda3/lib/python3.10/site-packages/keras/optimizers/legacy/adam.py:117: UserWarning: The `lr` argument is deprecated, use `learning_rate` instead.\n",
      "  super().__init__(name, **kwargs)\n"
     ]
    },
    {
     "name": "stdout",
     "output_type": "stream",
     "text": [
      "1/1 [==============================] - 0s 244ms/step - loss: 14.6910 - mae: 14.6910\n",
      "Epoch 2/100\n",
      "1/1 [==============================] - 0s 6ms/step - loss: 13.9054 - mae: 13.9054\n",
      "Epoch 3/100\n",
      "1/1 [==============================] - 0s 7ms/step - loss: 13.1142 - mae: 13.1142\n",
      "Epoch 4/100\n",
      "1/1 [==============================] - 0s 7ms/step - loss: 12.3163 - mae: 12.3163\n",
      "Epoch 5/100\n",
      "1/1 [==============================] - 0s 7ms/step - loss: 11.5111 - mae: 11.5111\n",
      "Epoch 6/100\n",
      "1/1 [==============================] - 0s 7ms/step - loss: 10.6972 - mae: 10.6972\n",
      "Epoch 7/100\n",
      "1/1 [==============================] - 0s 7ms/step - loss: 9.8731 - mae: 9.8731\n",
      "Epoch 8/100\n",
      "1/1 [==============================] - 0s 6ms/step - loss: 9.0368 - mae: 9.0368\n",
      "Epoch 9/100\n",
      "1/1 [==============================] - 0s 6ms/step - loss: 8.1864 - mae: 8.1864\n",
      "Epoch 10/100\n",
      "1/1 [==============================] - 0s 7ms/step - loss: 7.3201 - mae: 7.3201\n",
      "Epoch 11/100\n",
      "1/1 [==============================] - 0s 6ms/step - loss: 6.5747 - mae: 6.5747\n",
      "Epoch 12/100\n",
      "1/1 [==============================] - 0s 7ms/step - loss: 6.6797 - mae: 6.6797\n",
      "Epoch 13/100\n",
      "1/1 [==============================] - 0s 7ms/step - loss: 7.0051 - mae: 7.0051\n",
      "Epoch 14/100\n",
      "1/1 [==============================] - 0s 7ms/step - loss: 7.3163 - mae: 7.3163\n",
      "Epoch 15/100\n",
      "1/1 [==============================] - 0s 7ms/step - loss: 7.4517 - mae: 7.4517\n",
      "Epoch 16/100\n",
      "1/1 [==============================] - 0s 7ms/step - loss: 7.3676 - mae: 7.3676\n",
      "Epoch 17/100\n",
      "1/1 [==============================] - 0s 6ms/step - loss: 7.1167 - mae: 7.1167\n",
      "Epoch 18/100\n",
      "1/1 [==============================] - 0s 7ms/step - loss: 6.7390 - mae: 6.7390\n",
      "Epoch 19/100\n",
      "1/1 [==============================] - 0s 7ms/step - loss: 6.4660 - mae: 6.4660\n",
      "Epoch 20/100\n",
      "1/1 [==============================] - 0s 6ms/step - loss: 6.1720 - mae: 6.1720\n",
      "Epoch 21/100\n",
      "1/1 [==============================] - 0s 6ms/step - loss: 5.8612 - mae: 5.8612\n",
      "Epoch 22/100\n",
      "1/1 [==============================] - 0s 7ms/step - loss: 5.7734 - mae: 5.7734\n",
      "Epoch 23/100\n",
      "1/1 [==============================] - 0s 6ms/step - loss: 5.7985 - mae: 5.7985\n",
      "Epoch 24/100\n",
      "1/1 [==============================] - 0s 6ms/step - loss: 5.9128 - mae: 5.9128\n",
      "Epoch 25/100\n",
      "1/1 [==============================] - 0s 7ms/step - loss: 5.9119 - mae: 5.9119\n",
      "Epoch 26/100\n",
      "1/1 [==============================] - 0s 6ms/step - loss: 5.8107 - mae: 5.8107\n",
      "Epoch 27/100\n",
      "1/1 [==============================] - 0s 7ms/step - loss: 5.6203 - mae: 5.6203\n",
      "Epoch 28/100\n",
      "1/1 [==============================] - 0s 7ms/step - loss: 5.3491 - mae: 5.3491\n",
      "Epoch 29/100\n",
      "1/1 [==============================] - 0s 6ms/step - loss: 5.1614 - mae: 5.1614\n",
      "Epoch 30/100\n",
      "1/1 [==============================] - 0s 6ms/step - loss: 5.0434 - mae: 5.0434\n",
      "Epoch 31/100\n",
      "1/1 [==============================] - 0s 7ms/step - loss: 5.0330 - mae: 5.0330\n",
      "Epoch 32/100\n",
      "1/1 [==============================] - 0s 8ms/step - loss: 5.0323 - mae: 5.0323\n",
      "Epoch 33/100\n",
      "1/1 [==============================] - 0s 7ms/step - loss: 4.9820 - mae: 4.9820\n",
      "Epoch 34/100\n",
      "1/1 [==============================] - 0s 7ms/step - loss: 4.8861 - mae: 4.8861\n",
      "Epoch 35/100\n",
      "1/1 [==============================] - 0s 7ms/step - loss: 4.7485 - mae: 4.7485\n",
      "Epoch 36/100\n",
      "1/1 [==============================] - 0s 6ms/step - loss: 4.5729 - mae: 4.5729\n",
      "Epoch 37/100\n",
      "1/1 [==============================] - 0s 7ms/step - loss: 4.3627 - mae: 4.3627\n",
      "Epoch 38/100\n",
      "1/1 [==============================] - 0s 7ms/step - loss: 4.1827 - mae: 4.1827\n",
      "Epoch 39/100\n",
      "1/1 [==============================] - 0s 7ms/step - loss: 4.0789 - mae: 4.0789\n",
      "Epoch 40/100\n",
      "1/1 [==============================] - 0s 7ms/step - loss: 3.9754 - mae: 3.9754\n",
      "Epoch 41/100\n",
      "1/1 [==============================] - 0s 6ms/step - loss: 3.8795 - mae: 3.8795\n",
      "Epoch 42/100\n",
      "1/1 [==============================] - 0s 7ms/step - loss: 3.6965 - mae: 3.6965\n",
      "Epoch 43/100\n",
      "1/1 [==============================] - 0s 7ms/step - loss: 3.5471 - mae: 3.5471\n",
      "Epoch 44/100\n",
      "1/1 [==============================] - 0s 6ms/step - loss: 3.3915 - mae: 3.3915\n",
      "Epoch 45/100\n",
      "1/1 [==============================] - 0s 7ms/step - loss: 3.2293 - mae: 3.2293\n",
      "Epoch 46/100\n",
      "1/1 [==============================] - 0s 7ms/step - loss: 3.1165 - mae: 3.1165\n",
      "Epoch 47/100\n",
      "1/1 [==============================] - 0s 7ms/step - loss: 2.9732 - mae: 2.9732\n",
      "Epoch 48/100\n",
      "1/1 [==============================] - 0s 7ms/step - loss: 2.7779 - mae: 2.7779\n",
      "Epoch 49/100\n",
      "1/1 [==============================] - 0s 7ms/step - loss: 2.5736 - mae: 2.5736\n",
      "Epoch 50/100\n",
      "1/1 [==============================] - 0s 6ms/step - loss: 2.4042 - mae: 2.4042\n",
      "Epoch 51/100\n",
      "1/1 [==============================] - 0s 6ms/step - loss: 2.2257 - mae: 2.2257\n",
      "Epoch 52/100\n",
      "1/1 [==============================] - 0s 6ms/step - loss: 2.0253 - mae: 2.0253\n",
      "Epoch 53/100\n",
      "1/1 [==============================] - 0s 6ms/step - loss: 1.8166 - mae: 1.8166\n",
      "Epoch 54/100\n",
      "1/1 [==============================] - 0s 6ms/step - loss: 1.6157 - mae: 1.6157\n",
      "Epoch 55/100\n",
      "1/1 [==============================] - 0s 6ms/step - loss: 1.3975 - mae: 1.3975\n",
      "Epoch 56/100\n",
      "1/1 [==============================] - 0s 6ms/step - loss: 1.1705 - mae: 1.1705\n",
      "Epoch 57/100\n",
      "1/1 [==============================] - 0s 7ms/step - loss: 0.9937 - mae: 0.9937\n",
      "Epoch 58/100\n",
      "1/1 [==============================] - 0s 7ms/step - loss: 0.6980 - mae: 0.6980\n",
      "Epoch 59/100\n",
      "1/1 [==============================] - 0s 7ms/step - loss: 0.4768 - mae: 0.4768\n",
      "Epoch 60/100\n",
      "1/1 [==============================] - 0s 7ms/step - loss: 0.2253 - mae: 0.2253\n",
      "Epoch 61/100\n",
      "1/1 [==============================] - 0s 7ms/step - loss: 0.2635 - mae: 0.2635\n",
      "Epoch 62/100\n",
      "1/1 [==============================] - 0s 6ms/step - loss: 0.3213 - mae: 0.3213\n",
      "Epoch 63/100\n",
      "1/1 [==============================] - 0s 7ms/step - loss: 0.5927 - mae: 0.5927\n",
      "Epoch 64/100\n",
      "1/1 [==============================] - 0s 7ms/step - loss: 0.7071 - mae: 0.7071\n",
      "Epoch 65/100\n",
      "1/1 [==============================] - 0s 6ms/step - loss: 0.6700 - mae: 0.6700\n",
      "Epoch 66/100\n",
      "1/1 [==============================] - 0s 6ms/step - loss: 0.7343 - mae: 0.7343\n",
      "Epoch 67/100\n",
      "1/1 [==============================] - 0s 6ms/step - loss: 0.7018 - mae: 0.7018\n",
      "Epoch 68/100\n",
      "1/1 [==============================] - 0s 6ms/step - loss: 0.7393 - mae: 0.7393\n",
      "Epoch 69/100\n",
      "1/1 [==============================] - 0s 7ms/step - loss: 0.6386 - mae: 0.6386\n",
      "Epoch 70/100\n",
      "1/1 [==============================] - 0s 7ms/step - loss: 0.5774 - mae: 0.5774\n",
      "Epoch 71/100\n",
      "1/1 [==============================] - 0s 6ms/step - loss: 0.4851 - mae: 0.4851\n",
      "Epoch 72/100\n",
      "1/1 [==============================] - 0s 7ms/step - loss: 0.3061 - mae: 0.3061\n",
      "Epoch 73/100\n",
      "1/1 [==============================] - 0s 6ms/step - loss: 0.1709 - mae: 0.1709\n",
      "Epoch 74/100\n",
      "1/1 [==============================] - 0s 6ms/step - loss: 0.1792 - mae: 0.1792\n",
      "Epoch 75/100\n",
      "1/1 [==============================] - 0s 7ms/step - loss: 0.1587 - mae: 0.1587\n",
      "Epoch 76/100\n",
      "1/1 [==============================] - 0s 6ms/step - loss: 0.4286 - mae: 0.4286\n",
      "Epoch 77/100\n",
      "1/1 [==============================] - 0s 6ms/step - loss: 0.4666 - mae: 0.4666\n",
      "Epoch 78/100\n",
      "1/1 [==============================] - 0s 6ms/step - loss: 0.3369 - mae: 0.3369\n",
      "Epoch 79/100\n",
      "1/1 [==============================] - 0s 7ms/step - loss: 0.4807 - mae: 0.4807\n",
      "Epoch 80/100\n",
      "1/1 [==============================] - 0s 6ms/step - loss: 0.4698 - mae: 0.4698\n",
      "Epoch 81/100\n",
      "1/1 [==============================] - 0s 7ms/step - loss: 0.3056 - mae: 0.3056\n",
      "Epoch 82/100\n",
      "1/1 [==============================] - 0s 6ms/step - loss: 0.4347 - mae: 0.4347\n",
      "Epoch 83/100\n",
      "1/1 [==============================] - 0s 7ms/step - loss: 0.4294 - mae: 0.4294\n",
      "Epoch 84/100\n",
      "1/1 [==============================] - 0s 7ms/step - loss: 0.1535 - mae: 0.1535\n",
      "Epoch 85/100\n",
      "1/1 [==============================] - 0s 6ms/step - loss: 0.3876 - mae: 0.3876\n",
      "Epoch 86/100\n",
      "1/1 [==============================] - 0s 7ms/step - loss: 0.5478 - mae: 0.5478\n",
      "Epoch 87/100\n",
      "1/1 [==============================] - 0s 7ms/step - loss: 0.3929 - mae: 0.3929\n",
      "Epoch 88/100\n",
      "1/1 [==============================] - 0s 6ms/step - loss: 0.2862 - mae: 0.2862\n",
      "Epoch 89/100\n",
      "1/1 [==============================] - 0s 7ms/step - loss: 0.4193 - mae: 0.4193\n",
      "Epoch 90/100\n",
      "1/1 [==============================] - 0s 6ms/step - loss: 0.3865 - mae: 0.3865\n",
      "Epoch 91/100\n",
      "1/1 [==============================] - 0s 6ms/step - loss: 0.2069 - mae: 0.2069\n",
      "Epoch 92/100\n",
      "1/1 [==============================] - 0s 7ms/step - loss: 0.2696 - mae: 0.2696\n",
      "Epoch 93/100\n",
      "1/1 [==============================] - 0s 6ms/step - loss: 0.2810 - mae: 0.2810\n",
      "Epoch 94/100\n",
      "1/1 [==============================] - 0s 7ms/step - loss: 0.0988 - mae: 0.0988\n",
      "Epoch 95/100\n",
      "1/1 [==============================] - 0s 6ms/step - loss: 0.4235 - mae: 0.4235\n",
      "Epoch 96/100\n",
      "1/1 [==============================] - 0s 7ms/step - loss: 0.5114 - mae: 0.5114\n",
      "Epoch 97/100\n",
      "1/1 [==============================] - 0s 6ms/step - loss: 0.3221 - mae: 0.3221\n",
      "Epoch 98/100\n",
      "1/1 [==============================] - 0s 7ms/step - loss: 0.2548 - mae: 0.2548\n",
      "Epoch 99/100\n",
      "1/1 [==============================] - 0s 6ms/step - loss: 0.3942 - mae: 0.3942\n",
      "Epoch 100/100\n",
      "1/1 [==============================] - 0s 6ms/step - loss: 0.3461 - mae: 0.3461\n"
     ]
    },
    {
     "data": {
      "text/plain": [
       "<keras.callbacks.History at 0x2816e3550>"
      ]
     },
     "execution_count": 9,
     "metadata": {},
     "output_type": "execute_result"
    }
   ],
   "source": [
    "# Recreate model 2 with extra 100 layers\n",
    "\n",
    "model=tf.keras.Sequential([\n",
    "    tf.keras.layers.Dense(50,activation=None),\n",
    "    tf.keras.layers.Dense(1)\n",
    "])\n",
    "\n",
    "model.compile(\n",
    "    loss=\"mae\",\n",
    "    optimizer=tf.keras.optimizers.legacy.Adam(lr=0.01),\n",
    "    metrics=[\"mae\"]\n",
    "\n",
    ")\n",
    "\n",
    "model.fit(tf.expand_dims(X,axis=-1),y,epochs=100)\n",
    "\n"
   ]
  },
  {
   "cell_type": "code",
   "execution_count": 10,
   "metadata": {},
   "outputs": [
    {
     "name": "stdout",
     "output_type": "stream",
     "text": [
      "1/1 [==============================] - 0s 51ms/step\n"
     ]
    },
    {
     "data": {
      "text/plain": [
       "array([[26.917425]], dtype=float32)"
      ]
     },
     "execution_count": 10,
     "metadata": {},
     "output_type": "execute_result"
    }
   ],
   "source": [
    "model.predict([17])"
   ]
  },
  {
   "cell_type": "markdown",
   "metadata": {},
   "source": [
    "# Evalting a model\n",
    "\n",
    "In practice, a typical workflow you'll go through when building neural networks is:\n",
    "\n",
    "```\n",
    "Build a model -> fit it -> evaluate it -> tweak a model -> fit it -> evaluate it -> tweak a model -> fit it -> evaluate it...\n",
    "```"
   ]
  },
  {
   "cell_type": "markdown",
   "metadata": {},
   "source": [
    "when it comes to evaluation there are 3 words you should memorize:\n",
    "\n",
    ">  \"Visualize, visualize, visualize\"\n",
    "\n",
    "it's a good idea to visualize:\n",
    "\n",
    "* The data - what data are we working with? what does it look like?\n",
    "\n",
    "\n",
    "* The model itself - what does our model look like?\n",
    "\n",
    "\n",
    "* The training of a model - how does a model perform while it learns?\n",
    "\n",
    "* The Predictions of the model- how do the predictions of a model line up against the ground truth (the original labels)?\n",
    "\n",
    "Let's see some examples."
   ]
  },
  {
   "cell_type": "code",
   "execution_count": 11,
   "metadata": {},
   "outputs": [],
   "source": [
    "# make a bigger dataset\n",
    "X=tf.range(-100,100,4)\n",
    "# Make labels for the dataset\n",
    "y=X+10 # this the formulat that our model should learnl\n",
    "\n"
   ]
  },
  {
   "cell_type": "code",
   "execution_count": 12,
   "metadata": {},
   "outputs": [
    {
     "data": {
      "text/plain": [
       "<matplotlib.collections.PathCollection at 0x28474e2c0>"
      ]
     },
     "execution_count": 12,
     "metadata": {},
     "output_type": "execute_result"
    },
    {
     "data": {
      "image/png": "[encoded data removed]",
      "text/plain": [
       "<Figure size 640x480 with 1 Axes>"
      ]
     },
     "metadata": {},
     "output_type": "display_data"
    }
   ],
   "source": [
    "# visualize\n",
    "import matplotlib.pyplot as plt\n",
    "\n",
    "plt.scatter(X,y)"
   ]
  },
  {
   "cell_type": "markdown",
   "metadata": {},
   "source": [
    "the 3 sets are:\n",
    "\n",
    "* **Training set** - the model learns from this data, which is typically 70-80% of the total data you have available.\n",
    "\n",
    "* **Validation set** - the model gets tuned on this data, which is typically 10-15% of the data available.\n",
    "\n",
    "* **Test set** - the model gets evaluated on this data to test what it has learned, this set is typically 10-15% of the total data available and is only used once a model is completely trained (the model has never \"seen\" the data in the test set).\n"
   ]
  },
  {
   "cell_type": "code",
   "execution_count": 72,
   "metadata": {},
   "outputs": [
    {
     "name": "stdout",
     "output_type": "stream",
     "text": [
      "37 44\n"
     ]
    },
    {
     "data": {
      "text/plain": [
       "37"
      ]
     },
     "execution_count": 72,
     "metadata": {},
     "output_type": "execute_result"
    }
   ],
   "source": [
    "# split the dataset\n",
    "# 80% training and 20% for testing\n",
    "\n",
    "train=int(len(X) *0.75) # 75%\n",
    "valid=train+int(len(X)*0.15) # 15 %\n",
    "\n",
    "print(train,valid, )\n",
    "x_train,y_train=X[0:train],y[:train]\n",
    "# x_valid,y_valid=X[train:valid],y[train:valid]\n",
    "x_test,y_test=X[train:],y[train:]\n",
    "\n",
    "# len(x_train),len(x_test)\n",
    "train"
   ]
  },
  {
   "cell_type": "markdown",
   "metadata": {},
   "source": [
    "### Visualzing the data\n",
    "\n",
    "Now we've got our data in training and test sets...let's visualize it again\n"
   ]
  },
  {
   "cell_type": "code",
   "execution_count": 73,
   "metadata": {},
   "outputs": [
    {
     "data": {
      "text/plain": [
       "<matplotlib.legend.Legend at 0x2974de6b0>"
      ]
     },
     "execution_count": 73,
     "metadata": {},
     "output_type": "execute_result"
    },
    {
     "data": {
      "image/png": "[encoded data removed]",
      "text/plain": [
       "<Figure size 1000x700 with 1 Axes>"
      ]
     },
     "metadata": {},
     "output_type": "display_data"
    }
   ],
   "source": [
    "plt.figure(figsize=(10,7))\n",
    "\n",
    "# plot train\n",
    "plt.scatter(x_train,y_train,c=\"b\",label=\"Traning data\")\n",
    "\n",
    "# plt.scatter(x_valid,y_valid,c=\"y\",label=\"valid data\")\n",
    "\n",
    "plt.scatter(x_test,y_test,c=\"r\",label=\"valid data\")\n",
    "\n",
    "plt.legend([\"train\",\"valid\",\"test\"])"
   ]
  },
  {
   "cell_type": "code",
   "execution_count": 74,
   "metadata": {},
   "outputs": [],
   "source": [
    "# let build\n",
    "\n",
    "\n",
    "# 1. create the model\n",
    "model=tf.keras.Sequential([\n",
    "    tf.keras.layers.Dense(1)\n",
    "])\n",
    "\n",
    "# 2. compile\n",
    "\n",
    "model.compile(\n",
    "    optimizer=tf.keras.optimizers.legacy.SGD(),\n",
    "    loss=tf.keras.losses.mae,\n",
    "    metrics=[\"mae\"]\n",
    ")\n",
    "\n",
    "# 3. Fit the model\n",
    "# model.fit(tf.expand_dims(x_train,axis=-1),y_train,epochs=100)"
   ]
  },
  {
   "cell_type": "code",
   "execution_count": 108,
   "metadata": {},
   "outputs": [],
   "source": [
    "# lets create the model which build automatically  by defining the input_shape\n",
    "\n",
    "# 1. creat a model\n",
    "\n",
    "model=tf.keras.Sequential([\n",
    "    tf.keras.layers.Dense(50,activation=None),\n",
    "    tf.keras.layers.Dense(1)\n",
    "])\n",
    "\n",
    "model.compile(\n",
    "    loss=\"mae\",\n",
    "    optimizer=tf.keras.optimizers.legacy.Adam(lr=0.01),\n",
    "    metrics=[\"mae\"]\n",
    "\n",
    ")\n",
    "\n",
    "\n"
   ]
  },
  {
   "cell_type": "code",
   "execution_count": 109,
   "metadata": {},
   "outputs": [
    {
     "ename": "ValueError",
     "evalue": "This model has not yet been built. Build the model first by calling `build()` or by calling the model on a batch of data.",
     "output_type": "error",
     "traceback": [
      "\u001b[0;31m---------------------------------------------------------------------------\u001b[0m",
      "\u001b[0;31mValueError\u001b[0m                                Traceback (most recent call last)",
      "Cell \u001b[0;32mIn[109], line 1\u001b[0m\n\u001b[0;32m----> 1\u001b[0m model\u001b[39m.\u001b[39;49msummary()\n",
      "File \u001b[0;32m~/anaconda3/lib/python3.10/site-packages/keras/engine/training.py:3229\u001b[0m, in \u001b[0;36mModel.summary\u001b[0;34m(self, line_length, positions, print_fn, expand_nested, show_trainable, layer_range)\u001b[0m\n\u001b[1;32m   3198\u001b[0m \u001b[39m\"\"\"Prints a string summary of the network.\u001b[39;00m\n\u001b[1;32m   3199\u001b[0m \n\u001b[1;32m   3200\u001b[0m \u001b[39mArgs:\u001b[39;00m\n\u001b[0;32m   (...)\u001b[0m\n\u001b[1;32m   3226\u001b[0m \u001b[39m    ValueError: if `summary()` is called before the model is built.\u001b[39;00m\n\u001b[1;32m   3227\u001b[0m \u001b[39m\"\"\"\u001b[39;00m\n\u001b[1;32m   3228\u001b[0m \u001b[39mif\u001b[39;00m \u001b[39mnot\u001b[39;00m \u001b[39mself\u001b[39m\u001b[39m.\u001b[39mbuilt:\n\u001b[0;32m-> 3229\u001b[0m     \u001b[39mraise\u001b[39;00m \u001b[39mValueError\u001b[39;00m(\n\u001b[1;32m   3230\u001b[0m         \u001b[39m\"\u001b[39m\u001b[39mThis model has not yet been built. \u001b[39m\u001b[39m\"\u001b[39m\n\u001b[1;32m   3231\u001b[0m         \u001b[39m\"\u001b[39m\u001b[39mBuild the model first by calling `build()` or by calling \u001b[39m\u001b[39m\"\u001b[39m\n\u001b[1;32m   3232\u001b[0m         \u001b[39m\"\u001b[39m\u001b[39mthe model on a batch of data.\u001b[39m\u001b[39m\"\u001b[39m\n\u001b[1;32m   3233\u001b[0m     )\n\u001b[1;32m   3234\u001b[0m layer_utils\u001b[39m.\u001b[39mprint_summary(\n\u001b[1;32m   3235\u001b[0m     \u001b[39mself\u001b[39m,\n\u001b[1;32m   3236\u001b[0m     line_length\u001b[39m=\u001b[39mline_length,\n\u001b[0;32m   (...)\u001b[0m\n\u001b[1;32m   3241\u001b[0m     layer_range\u001b[39m=\u001b[39mlayer_range,\n\u001b[1;32m   3242\u001b[0m )\n",
      "\u001b[0;31mValueError\u001b[0m: This model has not yet been built. Build the model first by calling `build()` or by calling the model on a batch of data."
     ]
    }
   ],
   "source": [
    "model.summary()"
   ]
  },
  {
   "cell_type": "markdown",
   "metadata": {},
   "source": [
    "* Total params - total number of parameters in the model.\n",
    "\n",
    "* Trainable parameters - these are the parameters (patterns) the model can update as it trains.\n",
    "\n",
    "* Non-trainable parameters - these parameters aren't updated during training (this is typical when you bring in already learn patterns or parameters from other models during **transfer learning**)."
   ]
  },
  {
   "cell_type": "code",
   "execution_count": null,
   "metadata": {},
   "outputs": [],
   "source": [
    "tf.expand_dims(x_train,axis=-1),y_train"
   ]
  },
  {
   "cell_type": "code",
   "execution_count": 110,
   "metadata": {},
   "outputs": [
    {
     "name": "stdout",
     "output_type": "stream",
     "text": [
      "Epoch 1/100\n",
      "2/2 - 0s - loss: 35.1353 - mae: 35.1353 - 398ms/epoch - 199ms/step\n",
      "Epoch 2/100\n",
      "2/2 - 0s - loss: 22.1644 - mae: 22.1644 - 11ms/epoch - 6ms/step\n",
      "Epoch 3/100\n",
      "2/2 - 0s - loss: 9.9897 - mae: 9.9897 - 15ms/epoch - 7ms/step\n",
      "Epoch 4/100\n",
      "2/2 - 0s - loss: 12.2750 - mae: 12.2750 - 11ms/epoch - 6ms/step\n",
      "Epoch 5/100\n",
      "2/2 - 0s - loss: 15.5620 - mae: 15.5620 - 13ms/epoch - 7ms/step\n",
      "Epoch 6/100\n",
      "2/2 - 0s - loss: 15.3009 - mae: 15.3009 - 13ms/epoch - 7ms/step\n",
      "Epoch 7/100\n",
      "2/2 - 0s - loss: 12.9776 - mae: 12.9776 - 10ms/epoch - 5ms/step\n",
      "Epoch 8/100\n",
      "2/2 - 0s - loss: 9.2808 - mae: 9.2808 - 10ms/epoch - 5ms/step\n",
      "Epoch 9/100\n",
      "2/2 - 0s - loss: 7.3085 - mae: 7.3085 - 11ms/epoch - 6ms/step\n",
      "Epoch 10/100\n",
      "2/2 - 0s - loss: 10.1509 - mae: 10.1509 - 11ms/epoch - 6ms/step\n",
      "Epoch 11/100\n",
      "2/2 - 0s - loss: 10.6674 - mae: 10.6674 - 11ms/epoch - 6ms/step\n",
      "Epoch 12/100\n",
      "2/2 - 0s - loss: 9.1662 - mae: 9.1662 - 11ms/epoch - 5ms/step\n",
      "Epoch 13/100\n",
      "2/2 - 0s - loss: 6.8819 - mae: 6.8819 - 11ms/epoch - 5ms/step\n",
      "Epoch 14/100\n",
      "2/2 - 0s - loss: 6.5876 - mae: 6.5876 - 11ms/epoch - 6ms/step\n",
      "Epoch 15/100\n",
      "2/2 - 0s - loss: 6.3600 - mae: 6.3600 - 13ms/epoch - 7ms/step\n",
      "Epoch 16/100\n",
      "2/2 - 0s - loss: 6.3296 - mae: 6.3296 - 11ms/epoch - 6ms/step\n",
      "Epoch 17/100\n",
      "2/2 - 0s - loss: 6.9361 - mae: 6.9361 - 11ms/epoch - 6ms/step\n",
      "Epoch 18/100\n",
      "2/2 - 0s - loss: 6.3928 - mae: 6.3928 - 18ms/epoch - 9ms/step\n",
      "Epoch 19/100\n",
      "2/2 - 0s - loss: 5.8970 - mae: 5.8970 - 11ms/epoch - 6ms/step\n",
      "Epoch 20/100\n",
      "2/2 - 0s - loss: 5.8551 - mae: 5.8551 - 11ms/epoch - 5ms/step\n",
      "Epoch 21/100\n",
      "2/2 - 0s - loss: 5.9404 - mae: 5.9404 - 11ms/epoch - 6ms/step\n",
      "Epoch 22/100\n",
      "2/2 - 0s - loss: 6.3887 - mae: 6.3887 - 10ms/epoch - 5ms/step\n",
      "Epoch 23/100\n",
      "2/2 - 0s - loss: 6.0031 - mae: 6.0031 - 10ms/epoch - 5ms/step\n",
      "Epoch 24/100\n",
      "2/2 - 0s - loss: 5.5278 - mae: 5.5278 - 11ms/epoch - 5ms/step\n",
      "Epoch 25/100\n",
      "2/2 - 0s - loss: 5.4665 - mae: 5.4665 - 12ms/epoch - 6ms/step\n",
      "Epoch 26/100\n",
      "2/2 - 0s - loss: 5.3495 - mae: 5.3495 - 12ms/epoch - 6ms/step\n",
      "Epoch 27/100\n",
      "2/2 - 0s - loss: 5.1671 - mae: 5.1671 - 10ms/epoch - 5ms/step\n",
      "Epoch 28/100\n",
      "2/2 - 0s - loss: 5.2530 - mae: 5.2530 - 10ms/epoch - 5ms/step\n",
      "Epoch 29/100\n",
      "2/2 - 0s - loss: 4.8928 - mae: 4.8928 - 10ms/epoch - 5ms/step\n",
      "Epoch 30/100\n",
      "2/2 - 0s - loss: 4.9417 - mae: 4.9417 - 10ms/epoch - 5ms/step\n",
      "Epoch 31/100\n",
      "2/2 - 0s - loss: 4.9675 - mae: 4.9675 - 37ms/epoch - 18ms/step\n",
      "Epoch 32/100\n",
      "2/2 - 0s - loss: 5.3634 - mae: 5.3634 - 18ms/epoch - 9ms/step\n",
      "Epoch 33/100\n",
      "2/2 - 0s - loss: 4.7248 - mae: 4.7248 - 12ms/epoch - 6ms/step\n",
      "Epoch 34/100\n",
      "2/2 - 0s - loss: 4.5299 - mae: 4.5299 - 10ms/epoch - 5ms/step\n",
      "Epoch 35/100\n",
      "2/2 - 0s - loss: 4.3429 - mae: 4.3429 - 11ms/epoch - 5ms/step\n",
      "Epoch 36/100\n",
      "2/2 - 0s - loss: 4.2679 - mae: 4.2679 - 10ms/epoch - 5ms/step\n",
      "Epoch 37/100\n",
      "2/2 - 0s - loss: 4.0289 - mae: 4.0289 - 11ms/epoch - 6ms/step\n",
      "Epoch 38/100\n",
      "2/2 - 0s - loss: 4.4187 - mae: 4.4187 - 10ms/epoch - 5ms/step\n",
      "Epoch 39/100\n",
      "2/2 - 0s - loss: 3.6538 - mae: 3.6538 - 11ms/epoch - 5ms/step\n",
      "Epoch 40/100\n",
      "2/2 - 0s - loss: 4.0732 - mae: 4.0732 - 11ms/epoch - 6ms/step\n",
      "Epoch 41/100\n",
      "2/2 - 0s - loss: 3.4948 - mae: 3.4948 - 11ms/epoch - 6ms/step\n",
      "Epoch 42/100\n",
      "2/2 - 0s - loss: 3.7415 - mae: 3.7415 - 11ms/epoch - 5ms/step\n",
      "Epoch 43/100\n",
      "2/2 - 0s - loss: 3.1709 - mae: 3.1709 - 12ms/epoch - 6ms/step\n",
      "Epoch 44/100\n",
      "2/2 - 0s - loss: 3.2789 - mae: 3.2789 - 12ms/epoch - 6ms/step\n",
      "Epoch 45/100\n",
      "2/2 - 0s - loss: 2.7815 - mae: 2.7815 - 11ms/epoch - 5ms/step\n",
      "Epoch 46/100\n",
      "2/2 - 0s - loss: 3.5529 - mae: 3.5529 - 11ms/epoch - 6ms/step\n",
      "Epoch 47/100\n",
      "2/2 - 0s - loss: 2.8257 - mae: 2.8257 - 11ms/epoch - 6ms/step\n",
      "Epoch 48/100\n",
      "2/2 - 0s - loss: 2.6041 - mae: 2.6041 - 11ms/epoch - 6ms/step\n",
      "Epoch 49/100\n",
      "2/2 - 0s - loss: 2.2376 - mae: 2.2376 - 10ms/epoch - 5ms/step\n",
      "Epoch 50/100\n",
      "2/2 - 0s - loss: 1.9652 - mae: 1.9652 - 10ms/epoch - 5ms/step\n",
      "Epoch 51/100\n",
      "2/2 - 0s - loss: 2.7237 - mae: 2.7237 - 11ms/epoch - 5ms/step\n",
      "Epoch 52/100\n",
      "2/2 - 0s - loss: 1.8169 - mae: 1.8169 - 10ms/epoch - 5ms/step\n",
      "Epoch 53/100\n",
      "2/2 - 0s - loss: 2.6547 - mae: 2.6547 - 11ms/epoch - 5ms/step\n",
      "Epoch 54/100\n",
      "2/2 - 0s - loss: 1.8769 - mae: 1.8769 - 11ms/epoch - 5ms/step\n",
      "Epoch 55/100\n",
      "2/2 - 0s - loss: 2.1318 - mae: 2.1318 - 11ms/epoch - 5ms/step\n",
      "Epoch 56/100\n",
      "2/2 - 0s - loss: 1.1283 - mae: 1.1283 - 11ms/epoch - 5ms/step\n",
      "Epoch 57/100\n",
      "2/2 - 0s - loss: 2.2433 - mae: 2.2433 - 10ms/epoch - 5ms/step\n",
      "Epoch 58/100\n",
      "2/2 - 0s - loss: 0.7583 - mae: 0.7583 - 16ms/epoch - 8ms/step\n",
      "Epoch 59/100\n",
      "2/2 - 0s - loss: 2.7647 - mae: 2.7647 - 11ms/epoch - 6ms/step\n",
      "Epoch 60/100\n",
      "2/2 - 0s - loss: 0.8232 - mae: 0.8232 - 11ms/epoch - 5ms/step\n",
      "Epoch 61/100\n",
      "2/2 - 0s - loss: 3.8305 - mae: 3.8305 - 11ms/epoch - 5ms/step\n",
      "Epoch 62/100\n",
      "2/2 - 0s - loss: 2.3963 - mae: 2.3963 - 11ms/epoch - 6ms/step\n",
      "Epoch 63/100\n",
      "2/2 - 0s - loss: 2.4992 - mae: 2.4992 - 11ms/epoch - 6ms/step\n",
      "Epoch 64/100\n",
      "2/2 - 0s - loss: 3.2489 - mae: 3.2489 - 11ms/epoch - 6ms/step\n",
      "Epoch 65/100\n",
      "2/2 - 0s - loss: 0.5123 - mae: 0.5123 - 10ms/epoch - 5ms/step\n",
      "Epoch 66/100\n",
      "2/2 - 0s - loss: 4.4374 - mae: 4.4374 - 10ms/epoch - 5ms/step\n",
      "Epoch 67/100\n",
      "2/2 - 0s - loss: 3.6021 - mae: 3.6021 - 10ms/epoch - 5ms/step\n",
      "Epoch 68/100\n",
      "2/2 - 0s - loss: 0.9725 - mae: 0.9725 - 10ms/epoch - 5ms/step\n",
      "Epoch 69/100\n",
      "2/2 - 0s - loss: 3.0350 - mae: 3.0350 - 11ms/epoch - 5ms/step\n",
      "Epoch 70/100\n",
      "2/2 - 0s - loss: 1.5865 - mae: 1.5865 - 11ms/epoch - 5ms/step\n",
      "Epoch 71/100\n",
      "2/2 - 0s - loss: 1.1272 - mae: 1.1272 - 11ms/epoch - 6ms/step\n",
      "Epoch 72/100\n",
      "2/2 - 0s - loss: 0.3471 - mae: 0.3471 - 12ms/epoch - 6ms/step\n",
      "Epoch 73/100\n",
      "2/2 - 0s - loss: 1.6059 - mae: 1.6059 - 12ms/epoch - 6ms/step\n",
      "Epoch 74/100\n",
      "2/2 - 0s - loss: 0.6897 - mae: 0.6897 - 11ms/epoch - 6ms/step\n",
      "Epoch 75/100\n",
      "2/2 - 0s - loss: 0.7571 - mae: 0.7571 - 13ms/epoch - 6ms/step\n",
      "Epoch 76/100\n",
      "2/2 - 0s - loss: 0.4925 - mae: 0.4925 - 11ms/epoch - 5ms/step\n",
      "Epoch 77/100\n",
      "2/2 - 0s - loss: 0.5165 - mae: 0.5165 - 12ms/epoch - 6ms/step\n",
      "Epoch 78/100\n",
      "2/2 - 0s - loss: 0.5234 - mae: 0.5234 - 11ms/epoch - 6ms/step\n",
      "Epoch 79/100\n",
      "2/2 - 0s - loss: 0.9046 - mae: 0.9046 - 18ms/epoch - 9ms/step\n",
      "Epoch 80/100\n",
      "2/2 - 0s - loss: 0.5128 - mae: 0.5128 - 11ms/epoch - 6ms/step\n",
      "Epoch 81/100\n",
      "2/2 - 0s - loss: 1.8953 - mae: 1.8953 - 12ms/epoch - 6ms/step\n",
      "Epoch 82/100\n",
      "2/2 - 0s - loss: 0.6786 - mae: 0.6786 - 11ms/epoch - 6ms/step\n",
      "Epoch 83/100\n",
      "2/2 - 0s - loss: 1.9651 - mae: 1.9651 - 14ms/epoch - 7ms/step\n",
      "Epoch 84/100\n",
      "2/2 - 0s - loss: 0.6003 - mae: 0.6003 - 12ms/epoch - 6ms/step\n",
      "Epoch 85/100\n",
      "2/2 - 0s - loss: 2.0616 - mae: 2.0616 - 11ms/epoch - 5ms/step\n",
      "Epoch 86/100\n",
      "2/2 - 0s - loss: 0.4179 - mae: 0.4179 - 12ms/epoch - 6ms/step\n",
      "Epoch 87/100\n",
      "2/2 - 0s - loss: 3.6484 - mae: 3.6484 - 12ms/epoch - 6ms/step\n",
      "Epoch 88/100\n",
      "2/2 - 0s - loss: 3.8203 - mae: 3.8203 - 14ms/epoch - 7ms/step\n",
      "Epoch 89/100\n",
      "2/2 - 0s - loss: 1.1440 - mae: 1.1440 - 12ms/epoch - 6ms/step\n",
      "Epoch 90/100\n",
      "2/2 - 0s - loss: 2.6953 - mae: 2.6953 - 13ms/epoch - 6ms/step\n",
      "Epoch 91/100\n",
      "2/2 - 0s - loss: 1.7464 - mae: 1.7464 - 12ms/epoch - 6ms/step\n",
      "Epoch 92/100\n",
      "2/2 - 0s - loss: 2.2811 - mae: 2.2811 - 11ms/epoch - 6ms/step\n",
      "Epoch 93/100\n",
      "2/2 - 0s - loss: 3.2181 - mae: 3.2181 - 11ms/epoch - 5ms/step\n",
      "Epoch 94/100\n",
      "2/2 - 0s - loss: 0.9546 - mae: 0.9546 - 11ms/epoch - 5ms/step\n",
      "Epoch 95/100\n",
      "2/2 - 0s - loss: 3.0084 - mae: 3.0084 - 12ms/epoch - 6ms/step\n",
      "Epoch 96/100\n",
      "2/2 - 0s - loss: 2.5453 - mae: 2.5453 - 11ms/epoch - 6ms/step\n",
      "Epoch 97/100\n",
      "2/2 - 0s - loss: 0.9207 - mae: 0.9207 - 16ms/epoch - 8ms/step\n",
      "Epoch 98/100\n",
      "2/2 - 0s - loss: 1.4674 - mae: 1.4674 - 11ms/epoch - 6ms/step\n",
      "Epoch 99/100\n",
      "2/2 - 0s - loss: 1.4312 - mae: 1.4312 - 11ms/epoch - 6ms/step\n",
      "Epoch 100/100\n",
      "2/2 - 0s - loss: 2.3964 - mae: 2.3964 - 11ms/epoch - 5ms/step\n"
     ]
    },
    {
     "data": {
      "text/plain": [
       "<keras.callbacks.History at 0x2c7517b80>"
      ]
     },
     "execution_count": 110,
     "metadata": {},
     "output_type": "execute_result"
    }
   ],
   "source": [
    "model.fit( tf.expand_dims(x_train,axis=-1),y_train,epochs=100,verbose=2)"
   ]
  },
  {
   "cell_type": "code",
   "execution_count": 111,
   "metadata": {},
   "outputs": [
    {
     "name": "stdout",
     "output_type": "stream",
     "text": [
      "1/1 [==============================] - 0s 37ms/step\n"
     ]
    },
    {
     "data": {
      "text/plain": [
       "array([[ 58.144615],\n",
       "       [ 62.17847 ],\n",
       "       [ 66.21232 ],\n",
       "       [ 70.246185],\n",
       "       [ 74.28003 ],\n",
       "       [ 78.31388 ],\n",
       "       [ 82.34773 ],\n",
       "       [ 86.38159 ],\n",
       "       [ 90.41545 ],\n",
       "       [ 94.4493  ],\n",
       "       [ 98.48315 ],\n",
       "       [102.517   ],\n",
       "       [106.550865]], dtype=float32)"
      ]
     },
     "execution_count": 111,
     "metadata": {},
     "output_type": "execute_result"
    }
   ],
   "source": [
    "model.predict(x_test)"
   ]
  },
  {
   "cell_type": "code",
   "execution_count": 92,
   "metadata": {},
   "outputs": [
    {
     "data": {
      "text/plain": [
       "<tf.Tensor: shape=(13,), dtype=int32, numpy=\n",
       "array([ 58,  62,  66,  70,  74,  78,  82,  86,  90,  94,  98, 102, 106],\n",
       "      dtype=int32)>"
      ]
     },
     "execution_count": 92,
     "metadata": {},
     "output_type": "execute_result"
    }
   ],
   "source": [
    "y_test"
   ]
  },
  {
   "cell_type": "code",
   "execution_count": 81,
   "metadata": {},
   "outputs": [
    {
     "name": "stdout",
     "output_type": "stream",
     "text": [
      "You must install pydot (`pip install pydot`) and install graphviz (see instructions at https://graphviz.gitlab.io/download/) for plot_model to work.\n"
     ]
    }
   ],
   "source": [
    "from tensorflow.keras.utils import plot_model\n",
    "\n",
    "plot_model(model,show_shapes=True)"
   ]
  },
  {
   "cell_type": "markdown",
   "metadata": {},
   "source": [
    "## Visualizing our model's predictions\n",
    "\n",
    "To visualize predictions,its  a good idea to plot them against the ground truth labels.\n",
    "\n",
    "Often you'll see this in the form of y_test vs. y_pred (ground truth vs. predictions).\n"
   ]
  },
  {
   "cell_type": "code",
   "execution_count": 112,
   "metadata": {},
   "outputs": [
    {
     "name": "stdout",
     "output_type": "stream",
     "text": [
      "1/1 [==============================] - 0s 20ms/step\n"
     ]
    },
    {
     "data": {
      "text/plain": [
       "array([[ 58.144615],\n",
       "       [ 62.17847 ],\n",
       "       [ 66.21232 ],\n",
       "       [ 70.246185],\n",
       "       [ 74.28003 ],\n",
       "       [ 78.31388 ],\n",
       "       [ 82.34773 ],\n",
       "       [ 86.38159 ],\n",
       "       [ 90.41545 ],\n",
       "       [ 94.4493  ],\n",
       "       [ 98.48315 ],\n",
       "       [102.517   ],\n",
       "       [106.550865]], dtype=float32)"
      ]
     },
     "execution_count": 112,
     "metadata": {},
     "output_type": "execute_result"
    }
   ],
   "source": [
    "# make some predictions\n",
    "\n",
    "y_preds=model.predict(x_test)\n",
    "y_preds"
   ]
  },
  {
   "cell_type": "code",
   "execution_count": 113,
   "metadata": {},
   "outputs": [],
   "source": [
    "# Create a plot function to visualize y_preds and y_train\n",
    "\n",
    "def plot_prediction(y_preds,train_data=x_train,train_label=y_train,test_data=x_test,test_label=y_test):\n",
    "    plt.figure(figsize=(10,7))\n",
    "    # plot train data\n",
    "    plt.scatter(train_data,train_label,c=\"b\",label=\"train data\")\n",
    "    # plot test data\n",
    "    plt.scatter(test_data,test_label,c=\"g\",label=\"train data\")\n",
    "    # plot model prediction vs actual\n",
    "    plt.scatter(test_data,y_preds,c=\"r\",label=\"predict data\")\n",
    "\n",
    "    plt.legend()"
   ]
  },
  {
   "cell_type": "code",
   "execution_count": 114,
   "metadata": {},
   "outputs": [
    {
     "data": {
      "image/png": "[encoded data removed]",
      "text/plain": [
       "<Figure size 1000x700 with 1 Axes>"
      ]
     },
     "metadata": {},
     "output_type": "display_data"
    }
   ],
   "source": [
    "plot_prediction(y_preds=y_preds)"
   ]
  },
  {
   "cell_type": "markdown",
   "metadata": {},
   "source": [
    "### Evaluating our model's predictions with regression evaluation metrics\n",
    "\n",
    "Depending on the problem you're working on, there will be different evaluation metrics to evaluate your model's performance.\n",
    "\n",
    "Since we're working on a regression, two of the main metrics:\n",
    "\n",
    "* **MAE** - mean absolute error, \"on average, how wrong is each of my model's predictions\"\n",
    "\n",
    "* **MSE** - mean square error, \"square the average errors\"\n",
    "\n"
   ]
  },
  {
   "cell_type": "code",
   "execution_count": 119,
   "metadata": {},
   "outputs": [
    {
     "name": "stdout",
     "output_type": "stream",
     "text": [
      "1/1 [==============================] - 0s 88ms/step - loss: 0.3477 - mae: 0.3477\n"
     ]
    },
    {
     "data": {
      "text/plain": [
       "[0.34773752093315125, 0.34773752093315125]"
      ]
     },
     "execution_count": 119,
     "metadata": {},
     "output_type": "execute_result"
    }
   ],
   "source": [
    "model.evaluate(x_test,y_test)"
   ]
  },
  {
   "cell_type": "code",
   "execution_count": 125,
   "metadata": {},
   "outputs": [
    {
     "data": {
      "text/plain": [
       "<tf.Tensor: shape=(), dtype=float32, numpy=0.34773755>"
      ]
     },
     "execution_count": 125,
     "metadata": {},
     "output_type": "execute_result"
    }
   ],
   "source": [
    "# want to squeez the y_pres so that our test and y_prdes are in same shape\n",
    "tf.metrics.mean_absolute_error(y_test,tf.squeeze(y_preds))"
   ]
  },
  {
   "cell_type": "code",
   "execution_count": 126,
   "metadata": {},
   "outputs": [
    {
     "data": {
      "text/plain": [
       "<tf.Tensor: shape=(), dtype=float32, numpy=0.13696635>"
      ]
     },
     "execution_count": 126,
     "metadata": {},
     "output_type": "execute_result"
    }
   ],
   "source": [
    "# Mean square erroe\n",
    "\n",
    "tf.metrics.MSE(y_test,tf.squeeze(y_preds))"
   ]
  },
  {
   "cell_type": "code",
   "execution_count": null,
   "metadata": {},
   "outputs": [],
   "source": []
  }
 ],
 "metadata": {
  "kernelspec": {
   "display_name": "base",
   "language": "python",
   "name": "python3"
  },
  "language_info": {
   "codemirror_mode": {
    "name": "ipython",
    "version": 3
   },
   "file_extension": ".py",
   "mimetype": "text/x-python",
   "name": "python",
   "nbconvert_exporter": "python",
   "pygments_lexer": "ipython3",
   "version": "3.10.9"
  },
  "orig_nbformat": 4
 },
 "nbformat": 4,
 "nbformat_minor": 2
}
