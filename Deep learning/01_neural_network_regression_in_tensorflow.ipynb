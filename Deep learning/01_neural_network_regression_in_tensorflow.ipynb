{
 "cells": [
  {
   "cell_type": "markdown",
   "metadata": {},
   "source": [
    "## Introduction ot Regression with Neural Networks in TensorFlow\n",
    "\n",
    "There are many defination for a regression problme but in ur case,\n",
    "\n",
    "**we're going to simplify it:**\n",
    "\n",
    "  predicting a numerical variable based on some other combination of variables, even shorter... predicting a number."
   ]
  },
  {
   "cell_type": "code",
   "execution_count": 1,
   "metadata": {},
   "outputs": [
    {
     "data": {
      "text/plain": [
       "<matplotlib.collections.PathCollection at 0x178134970>"
      ]
     },
     "execution_count": 1,
     "metadata": {},
     "output_type": "execute_result"
    },
    {
     "data": {
      "image/png": "[encoded data removed]",
      "text/plain": [
       "<Figure size 640x480 with 1 Axes>"
      ]
     },
     "metadata": {},
     "output_type": "display_data"
    }
   ],
   "source": [
    "import tensorflow as tf\n",
    "import matplotlib.pyplot as plt\n",
    "import numpy as np\n",
    "\n",
    "# create feature\n",
    "\n",
    "X=np.array([-7,-4,-1,2,5,8,11,14])\n",
    "\n",
    "# create label\n",
    "y=np.array([3,6,9,12,15,18,21,24])\n",
    "\n",
    "# visualize it\n",
    "plt.scatter(X,y)\n"
   ]
  },
  {
   "cell_type": "markdown",
   "metadata": {},
   "source": [
    "# Input and Output"
   ]
  },
  {
   "cell_type": "code",
   "execution_count": 2,
   "metadata": {},
   "outputs": [],
   "source": [
    "\n",
    "housing_info=tf.constant([\"breedroom\",\"bathroom\",\"garage\"])\n",
    "\n",
    "housing_price=tf.constant([93400])\n",
    "\n"
   ]
  },
  {
   "cell_type": "code",
   "execution_count": 3,
   "metadata": {},
   "outputs": [
    {
     "data": {
      "text/plain": [
       "(<tf.Tensor: shape=(8,), dtype=float32, numpy=array([-7., -4., -1.,  2.,  5.,  8., 11., 14.], dtype=float32)>,\n",
       " <tf.Tensor: shape=(8,), dtype=float32, numpy=array([ 3.,  6.,  9., 12., 15., 18., 21., 24.], dtype=float32)>)"
      ]
     },
     "execution_count": 3,
     "metadata": {},
     "output_type": "execute_result"
    }
   ],
   "source": [
    "# Turn x and y to Tensor\n",
    "\n",
    "X=tf.constant(X,dtype=tf.float32)\n",
    "y=tf.constant(y,dtype=tf.float32)\n",
    "X,y"
   ]
  },
  {
   "cell_type": "markdown",
   "metadata": {},
   "source": [
    "# steps in Modelling with Tenserflow 🏛️\n",
    "\n",
    "1. createa a model - define the input and output layers, as well as the hidden layers of a deep learning model.\n",
    "\n",
    "2. compile a model - define the loss function (in other words, the function which tells our model how wrong it is) and the optimizer (tells our model how to improve the patterns its learning) and evaluation metrics (what we can use to interpret the performance of our model).\n",
    "\n",
    "3. fitting a model - letting the model try to find patterns between X & y (features and labels).\n",
    "\n",
    "4. evaluate a model - how well the model is doing."
   ]
  },
  {
   "cell_type": "code",
   "execution_count": 32,
   "metadata": {},
   "outputs": [
    {
     "name": "stdout",
     "output_type": "stream",
     "text": [
      "Epoch 1/5\n",
      "1/1 [==============================] - 0s 149ms/step - loss: 8.9568 - mae: 8.9568\n",
      "Epoch 2/5\n",
      "1/1 [==============================] - 0s 8ms/step - loss: 8.8243 - mae: 8.8243\n",
      "Epoch 3/5\n",
      "1/1 [==============================] - 0s 8ms/step - loss: 8.6918 - mae: 8.6918\n",
      "Epoch 4/5\n",
      "1/1 [==============================] - 0s 6ms/step - loss: 8.5593 - mae: 8.5593\n",
      "Epoch 5/5\n",
      "1/1 [==============================] - 0s 8ms/step - loss: 8.4268 - mae: 8.4268\n"
     ]
    },
    {
     "data": {
      "text/plain": [
       "<keras.callbacks.History at 0x17e583ee0>"
      ]
     },
     "execution_count": 32,
     "metadata": {},
     "output_type": "execute_result"
    }
   ],
   "source": [
    "# set random seed\n",
    "\n",
    "tf.random.set_seed(42)\n",
    "\n",
    "# 1. create a model using sequential API\n",
    "\n",
    "model=tf.keras.Sequential([\n",
    "    tf.keras.layers.Dense(1) # one hidden Layer\n",
    "])\n",
    "\n",
    "# 2. compile the model\n",
    "model.compile(optimizer=tf.keras.optimizers.legacy.SGD(),\n",
    "              loss=tf.keras.losses.mae, # mean absolute error,\n",
    "              metrics=[\"mae\"]\n",
    "              )\n",
    "\n",
    "# 3. Fit the model\n",
    "\n",
    "model.fit(tf.expand_dims(X, axis=-1), y, epochs=5) # <- updated to expand dims"
   ]
  },
  {
   "cell_type": "code",
   "execution_count": 5,
   "metadata": {},
   "outputs": [
    {
     "data": {
      "text/plain": [
       "(<tf.Tensor: shape=(8,), dtype=float32, numpy=array([-7., -4., -1.,  2.,  5.,  8., 11., 14.], dtype=float32)>,\n",
       " <tf.Tensor: shape=(8,), dtype=float32, numpy=array([ 3.,  6.,  9., 12., 15., 18., 21., 24.], dtype=float32)>)"
      ]
     },
     "execution_count": 5,
     "metadata": {},
     "output_type": "execute_result"
    }
   ],
   "source": [
    "# check out X and y\n",
    "\n",
    "X,y"
   ]
  },
  {
   "cell_type": "code",
   "execution_count": 33,
   "metadata": {},
   "outputs": [
    {
     "name": "stdout",
     "output_type": "stream",
     "text": [
      "1/1 [==============================] - 0s 47ms/step\n"
     ]
    },
    {
     "data": {
      "text/plain": [
       "array([[29.510992]], dtype=float32)"
      ]
     },
     "execution_count": 33,
     "metadata": {},
     "output_type": "execute_result"
    }
   ],
   "source": [
    "# Try to make prediction\n",
    "\n",
    "model.predict([20])\n"
   ]
  },
  {
   "cell_type": "markdown",
   "metadata": {},
   "source": [
    "## Improving the Model\n",
    "\n",
    "we can improve  our model by altering the steps we took to create a model.\n",
    "\n",
    "1. **Creating a model** - here we might add more layers, increase the number of hidden units (also called neurons) within each of the hidden layers, change the activation function of each layer.\n",
    "\n",
    "2. **Compiling a model** - here we might change the optimization function or perhaps the **learning rate** of the optimization function.\n",
    "\n",
    "3. **Fitting a model** - here we might fit a model for more **epochs** (leave it training for longer) or on more data (give the model more examples to learn from)."
   ]
  },
  {
   "cell_type": "code",
   "execution_count": 37,
   "metadata": {},
   "outputs": [
    {
     "name": "stdout",
     "output_type": "stream",
     "text": [
      "Epoch 1/100\n",
      "1/1 [==============================] - 0s 135ms/step - loss: 17.2424 - mae: 17.2424\n",
      "Epoch 2/100\n",
      "1/1 [==============================] - 0s 6ms/step - loss: 16.9612 - mae: 16.9612\n",
      "Epoch 3/100\n",
      "1/1 [==============================] - 0s 9ms/step - loss: 16.6799 - mae: 16.6799\n",
      "Epoch 4/100\n",
      "1/1 [==============================] - 0s 9ms/step - loss: 16.3987 - mae: 16.3987\n",
      "Epoch 5/100\n",
      "1/1 [==============================] - 0s 7ms/step - loss: 16.1174 - mae: 16.1174\n",
      "Epoch 6/100\n",
      "1/1 [==============================] - 0s 7ms/step - loss: 15.8362 - mae: 15.8362\n",
      "Epoch 7/100\n",
      "1/1 [==============================] - 0s 7ms/step - loss: 15.5549 - mae: 15.5549\n",
      "Epoch 8/100\n",
      "1/1 [==============================] - 0s 8ms/step - loss: 15.2737 - mae: 15.2737\n",
      "Epoch 9/100\n",
      "1/1 [==============================] - 0s 6ms/step - loss: 14.9924 - mae: 14.9924\n",
      "Epoch 10/100\n",
      "1/1 [==============================] - 0s 8ms/step - loss: 14.7737 - mae: 14.7737\n",
      "Epoch 11/100\n",
      "1/1 [==============================] - 0s 7ms/step - loss: 14.6412 - mae: 14.6412\n",
      "Epoch 12/100\n",
      "1/1 [==============================] - 0s 6ms/step - loss: 14.5087 - mae: 14.5087\n",
      "Epoch 13/100\n",
      "1/1 [==============================] - 0s 8ms/step - loss: 14.3762 - mae: 14.3762\n",
      "Epoch 14/100\n",
      "1/1 [==============================] - 0s 6ms/step - loss: 14.2437 - mae: 14.2437\n",
      "Epoch 15/100\n",
      "1/1 [==============================] - 0s 7ms/step - loss: 14.1112 - mae: 14.1112\n",
      "Epoch 16/100\n",
      "1/1 [==============================] - 0s 8ms/step - loss: 13.9787 - mae: 13.9787\n",
      "Epoch 17/100\n",
      "1/1 [==============================] - 0s 7ms/step - loss: 13.8462 - mae: 13.8462\n",
      "Epoch 18/100\n",
      "1/1 [==============================] - 0s 7ms/step - loss: 13.7137 - mae: 13.7137\n",
      "Epoch 19/100\n",
      "1/1 [==============================] - 0s 7ms/step - loss: 13.5812 - mae: 13.5812\n",
      "Epoch 20/100\n",
      "1/1 [==============================] - 0s 6ms/step - loss: 13.4487 - mae: 13.4487\n",
      "Epoch 21/100\n",
      "1/1 [==============================] - 0s 7ms/step - loss: 13.3162 - mae: 13.3162\n",
      "Epoch 22/100\n",
      "1/1 [==============================] - 0s 7ms/step - loss: 13.1837 - mae: 13.1837\n",
      "Epoch 23/100\n",
      "1/1 [==============================] - 0s 7ms/step - loss: 13.0512 - mae: 13.0512\n",
      "Epoch 24/100\n",
      "1/1 [==============================] - 0s 8ms/step - loss: 12.9187 - mae: 12.9187\n",
      "Epoch 25/100\n",
      "1/1 [==============================] - 0s 7ms/step - loss: 12.7862 - mae: 12.7862\n",
      "Epoch 26/100\n",
      "1/1 [==============================] - 0s 6ms/step - loss: 12.6537 - mae: 12.6537\n",
      "Epoch 27/100\n",
      "1/1 [==============================] - 0s 7ms/step - loss: 12.5212 - mae: 12.5212\n",
      "Epoch 28/100\n",
      "1/1 [==============================] - 0s 6ms/step - loss: 12.3887 - mae: 12.3887\n",
      "Epoch 29/100\n",
      "1/1 [==============================] - 0s 10ms/step - loss: 12.2562 - mae: 12.2562\n",
      "Epoch 30/100\n",
      "1/1 [==============================] - 0s 8ms/step - loss: 12.1237 - mae: 12.1237\n",
      "Epoch 31/100\n",
      "1/1 [==============================] - 0s 7ms/step - loss: 11.9912 - mae: 11.9912\n",
      "Epoch 32/100\n",
      "1/1 [==============================] - 0s 9ms/step - loss: 11.8587 - mae: 11.8587\n",
      "Epoch 33/100\n",
      "1/1 [==============================] - 0s 6ms/step - loss: 11.7262 - mae: 11.7262\n",
      "Epoch 34/100\n",
      "1/1 [==============================] - 0s 8ms/step - loss: 11.5937 - mae: 11.5937\n",
      "Epoch 35/100\n",
      "1/1 [==============================] - 0s 7ms/step - loss: 11.4612 - mae: 11.4612\n",
      "Epoch 36/100\n",
      "1/1 [==============================] - 0s 7ms/step - loss: 11.3287 - mae: 11.3287\n",
      "Epoch 37/100\n",
      "1/1 [==============================] - 0s 7ms/step - loss: 11.1962 - mae: 11.1962\n",
      "Epoch 38/100\n",
      "1/1 [==============================] - 0s 7ms/step - loss: 11.0637 - mae: 11.0637\n",
      "Epoch 39/100\n",
      "1/1 [==============================] - 0s 7ms/step - loss: 10.9312 - mae: 10.9312\n",
      "Epoch 40/100\n",
      "1/1 [==============================] - 0s 7ms/step - loss: 10.7987 - mae: 10.7987\n",
      "Epoch 41/100\n",
      "1/1 [==============================] - 0s 7ms/step - loss: 10.6662 - mae: 10.6662\n",
      "Epoch 42/100\n",
      "1/1 [==============================] - 0s 7ms/step - loss: 10.5337 - mae: 10.5337\n",
      "Epoch 43/100\n",
      "1/1 [==============================] - 0s 7ms/step - loss: 10.4012 - mae: 10.4012\n",
      "Epoch 44/100\n",
      "1/1 [==============================] - 0s 7ms/step - loss: 10.2687 - mae: 10.2687\n",
      "Epoch 45/100\n",
      "1/1 [==============================] - 0s 7ms/step - loss: 10.1362 - mae: 10.1362\n",
      "Epoch 46/100\n",
      "1/1 [==============================] - 0s 8ms/step - loss: 10.0037 - mae: 10.0037\n",
      "Epoch 47/100\n",
      "1/1 [==============================] - 0s 7ms/step - loss: 9.8712 - mae: 9.8712\n",
      "Epoch 48/100\n",
      "1/1 [==============================] - 0s 7ms/step - loss: 9.7387 - mae: 9.7387\n",
      "Epoch 49/100\n",
      "1/1 [==============================] - 0s 7ms/step - loss: 9.6062 - mae: 9.6062\n",
      "Epoch 50/100\n",
      "1/1 [==============================] - 0s 7ms/step - loss: 9.4737 - mae: 9.4737\n",
      "Epoch 51/100\n",
      "1/1 [==============================] - 0s 7ms/step - loss: 9.3412 - mae: 9.3412\n",
      "Epoch 52/100\n",
      "1/1 [==============================] - 0s 7ms/step - loss: 9.2087 - mae: 9.2087\n",
      "Epoch 53/100\n",
      "1/1 [==============================] - 0s 7ms/step - loss: 9.0762 - mae: 9.0762\n",
      "Epoch 54/100\n",
      "1/1 [==============================] - 0s 6ms/step - loss: 8.9437 - mae: 8.9437\n",
      "Epoch 55/100\n",
      "1/1 [==============================] - 0s 6ms/step - loss: 8.8112 - mae: 8.8112\n",
      "Epoch 56/100\n",
      "1/1 [==============================] - 0s 6ms/step - loss: 8.6787 - mae: 8.6787\n",
      "Epoch 57/100\n",
      "1/1 [==============================] - 0s 8ms/step - loss: 8.5462 - mae: 8.5462\n",
      "Epoch 58/100\n",
      "1/1 [==============================] - 0s 7ms/step - loss: 8.4137 - mae: 8.4137\n",
      "Epoch 59/100\n",
      "1/1 [==============================] - 0s 6ms/step - loss: 8.2812 - mae: 8.2812\n",
      "Epoch 60/100\n",
      "1/1 [==============================] - 0s 6ms/step - loss: 8.1487 - mae: 8.1487\n",
      "Epoch 61/100\n",
      "1/1 [==============================] - 0s 10ms/step - loss: 8.0162 - mae: 8.0162\n",
      "Epoch 62/100\n",
      "1/1 [==============================] - 0s 6ms/step - loss: 7.8837 - mae: 7.8837\n",
      "Epoch 63/100\n",
      "1/1 [==============================] - 0s 9ms/step - loss: 7.7512 - mae: 7.7512\n",
      "Epoch 64/100\n",
      "1/1 [==============================] - 0s 7ms/step - loss: 7.6187 - mae: 7.6187\n",
      "Epoch 65/100\n",
      "1/1 [==============================] - 0s 8ms/step - loss: 7.4862 - mae: 7.4862\n",
      "Epoch 66/100\n",
      "1/1 [==============================] - 0s 6ms/step - loss: 7.3537 - mae: 7.3537\n",
      "Epoch 67/100\n",
      "1/1 [==============================] - 0s 7ms/step - loss: 7.2212 - mae: 7.2212\n",
      "Epoch 68/100\n",
      "1/1 [==============================] - 0s 7ms/step - loss: 7.0887 - mae: 7.0887\n",
      "Epoch 69/100\n",
      "1/1 [==============================] - 0s 7ms/step - loss: 7.0069 - mae: 7.0069\n",
      "Epoch 70/100\n",
      "1/1 [==============================] - 0s 7ms/step - loss: 7.0013 - mae: 7.0013\n",
      "Epoch 71/100\n",
      "1/1 [==============================] - 0s 6ms/step - loss: 6.9956 - mae: 6.9956\n",
      "Epoch 72/100\n",
      "1/1 [==============================] - 0s 27ms/step - loss: 6.9900 - mae: 6.9900\n",
      "Epoch 73/100\n",
      "1/1 [==============================] - 0s 14ms/step - loss: 6.9844 - mae: 6.9844\n",
      "Epoch 74/100\n",
      "1/1 [==============================] - 0s 6ms/step - loss: 6.9788 - mae: 6.9788\n",
      "Epoch 75/100\n",
      "1/1 [==============================] - 0s 6ms/step - loss: 6.9731 - mae: 6.9731\n",
      "Epoch 76/100\n",
      "1/1 [==============================] - 0s 8ms/step - loss: 6.9675 - mae: 6.9675\n",
      "Epoch 77/100\n",
      "1/1 [==============================] - 0s 7ms/step - loss: 6.9619 - mae: 6.9619\n",
      "Epoch 78/100\n",
      "1/1 [==============================] - 0s 6ms/step - loss: 6.9563 - mae: 6.9563\n",
      "Epoch 79/100\n",
      "1/1 [==============================] - 0s 7ms/step - loss: 6.9506 - mae: 6.9506\n",
      "Epoch 80/100\n",
      "1/1 [==============================] - 0s 7ms/step - loss: 6.9450 - mae: 6.9450\n",
      "Epoch 81/100\n",
      "1/1 [==============================] - 0s 6ms/step - loss: 6.9394 - mae: 6.9394\n",
      "Epoch 82/100\n",
      "1/1 [==============================] - 0s 7ms/step - loss: 6.9338 - mae: 6.9338\n",
      "Epoch 83/100\n",
      "1/1 [==============================] - 0s 6ms/step - loss: 6.9281 - mae: 6.9281\n",
      "Epoch 84/100\n",
      "1/1 [==============================] - 0s 7ms/step - loss: 6.9225 - mae: 6.9225\n",
      "Epoch 85/100\n",
      "1/1 [==============================] - 0s 7ms/step - loss: 6.9169 - mae: 6.9169\n",
      "Epoch 86/100\n",
      "1/1 [==============================] - 0s 6ms/step - loss: 6.9113 - mae: 6.9113\n",
      "Epoch 87/100\n",
      "1/1 [==============================] - 0s 6ms/step - loss: 6.9056 - mae: 6.9056\n",
      "Epoch 88/100\n",
      "1/1 [==============================] - 0s 11ms/step - loss: 6.9000 - mae: 6.9000\n",
      "Epoch 89/100\n",
      "1/1 [==============================] - 0s 7ms/step - loss: 6.8944 - mae: 6.8944\n",
      "Epoch 90/100\n",
      "1/1 [==============================] - 0s 7ms/step - loss: 6.8888 - mae: 6.8888\n",
      "Epoch 91/100\n",
      "1/1 [==============================] - 0s 7ms/step - loss: 6.8831 - mae: 6.8831\n",
      "Epoch 92/100\n",
      "1/1 [==============================] - 0s 6ms/step - loss: 6.8775 - mae: 6.8775\n",
      "Epoch 93/100\n",
      "1/1 [==============================] - 0s 7ms/step - loss: 6.8719 - mae: 6.8719\n",
      "Epoch 94/100\n",
      "1/1 [==============================] - 0s 7ms/step - loss: 6.8663 - mae: 6.8663\n",
      "Epoch 95/100\n",
      "1/1 [==============================] - 0s 7ms/step - loss: 6.8606 - mae: 6.8606\n",
      "Epoch 96/100\n",
      "1/1 [==============================] - 0s 6ms/step - loss: 6.8550 - mae: 6.8550\n",
      "Epoch 97/100\n",
      "1/1 [==============================] - 0s 6ms/step - loss: 6.8494 - mae: 6.8494\n",
      "Epoch 98/100\n",
      "1/1 [==============================] - 0s 7ms/step - loss: 6.8438 - mae: 6.8438\n",
      "Epoch 99/100\n",
      "1/1 [==============================] - 0s 7ms/step - loss: 6.8381 - mae: 6.8381\n",
      "Epoch 100/100\n",
      "1/1 [==============================] - 0s 7ms/step - loss: 6.8325 - mae: 6.8325\n"
     ]
    },
    {
     "data": {
      "text/plain": [
       "<keras.callbacks.History at 0x28f0727a0>"
      ]
     },
     "execution_count": 37,
     "metadata": {},
     "output_type": "execute_result"
    }
   ],
   "source": [
    "# lets rebuild the model\n",
    "\n",
    "# 1. create the model\n",
    "\n",
    "model=tf.keras.Sequential([\n",
    "    tf.keras.layers.Dense(1)\n",
    "])\n",
    "\n",
    "# 2. Compile the model\n",
    "\n",
    "model.compile(\n",
    "    loss=tf.keras.losses.mae,\n",
    "    optimizer=tf.keras.optimizers.legacy.SGD(),\n",
    "    metrics=[\"mae\"]\n",
    ")\n",
    "\n",
    "# 3. Fit the model (longer Time)\n",
    "\n",
    "model.fit(tf.expand_dims(X, axis=-1), y, epochs=100) # <- updated to expand dims\n"
   ]
  },
  {
   "cell_type": "code",
   "execution_count": 48,
   "metadata": {},
   "outputs": [
    {
     "name": "stdout",
     "output_type": "stream",
     "text": [
      "1/1 [==============================] - 0s 30ms/step\n"
     ]
    },
    {
     "data": {
      "text/plain": [
       "array([[29.488098]], dtype=float32)"
      ]
     },
     "execution_count": 48,
     "metadata": {},
     "output_type": "execute_result"
    }
   ],
   "source": [
    "model.predict([17])"
   ]
  },
  {
   "cell_type": "code",
   "execution_count": 74,
   "metadata": {},
   "outputs": [
    {
     "name": "stdout",
     "output_type": "stream",
     "text": [
      "Epoch 1/100\n"
     ]
    },
    {
     "name": "stderr",
     "output_type": "stream",
     "text": [
      "/Users/magesh/anaconda3/lib/python3.10/site-packages/keras/optimizers/legacy/adam.py:117: UserWarning: The `lr` argument is deprecated, use `learning_rate` instead.\n",
      "  super().__init__(name, **kwargs)\n"
     ]
    },
    {
     "name": "stdout",
     "output_type": "stream",
     "text": [
      "1/1 [==============================] - 0s 202ms/step - loss: 12.9805 - mae: 12.9805\n",
      "Epoch 2/100\n",
      "1/1 [==============================] - 0s 9ms/step - loss: 12.3440 - mae: 12.3440\n",
      "Epoch 3/100\n",
      "1/1 [==============================] - 0s 10ms/step - loss: 11.7141 - mae: 11.7141\n",
      "Epoch 4/100\n",
      "1/1 [==============================] - 0s 8ms/step - loss: 11.0883 - mae: 11.0883\n",
      "Epoch 5/100\n",
      "1/1 [==============================] - 0s 8ms/step - loss: 10.4622 - mae: 10.4622\n",
      "Epoch 6/100\n",
      "1/1 [==============================] - 0s 11ms/step - loss: 9.8311 - mae: 9.8311\n",
      "Epoch 7/100\n",
      "1/1 [==============================] - 0s 10ms/step - loss: 9.1900 - mae: 9.1900\n",
      "Epoch 8/100\n",
      "1/1 [==============================] - 0s 11ms/step - loss: 8.5341 - mae: 8.5341\n",
      "Epoch 9/100\n",
      "1/1 [==============================] - 0s 10ms/step - loss: 7.8585 - mae: 7.8585\n",
      "Epoch 10/100\n",
      "1/1 [==============================] - 0s 10ms/step - loss: 7.1589 - mae: 7.1589\n",
      "Epoch 11/100\n",
      "1/1 [==============================] - 0s 10ms/step - loss: 6.8016 - mae: 6.8016\n",
      "Epoch 12/100\n",
      "1/1 [==============================] - 0s 9ms/step - loss: 6.9956 - mae: 6.9956\n",
      "Epoch 13/100\n",
      "1/1 [==============================] - 0s 9ms/step - loss: 7.2641 - mae: 7.2641\n",
      "Epoch 14/100\n",
      "1/1 [==============================] - 0s 7ms/step - loss: 7.4675 - mae: 7.4675\n",
      "Epoch 15/100\n",
      "1/1 [==============================] - 0s 10ms/step - loss: 7.5547 - mae: 7.5547\n",
      "Epoch 16/100\n",
      "1/1 [==============================] - 0s 9ms/step - loss: 7.4513 - mae: 7.4513\n",
      "Epoch 17/100\n",
      "1/1 [==============================] - 0s 9ms/step - loss: 7.2062 - mae: 7.2062\n",
      "Epoch 18/100\n",
      "1/1 [==============================] - 0s 10ms/step - loss: 6.9679 - mae: 6.9679\n",
      "Epoch 19/100\n",
      "1/1 [==============================] - 0s 8ms/step - loss: 6.7272 - mae: 6.7272\n",
      "Epoch 20/100\n",
      "1/1 [==============================] - 0s 8ms/step - loss: 6.4733 - mae: 6.4733\n",
      "Epoch 21/100\n",
      "1/1 [==============================] - 0s 9ms/step - loss: 6.2192 - mae: 6.2192\n",
      "Epoch 22/100\n",
      "1/1 [==============================] - 0s 8ms/step - loss: 6.1802 - mae: 6.1802\n",
      "Epoch 23/100\n",
      "1/1 [==============================] - 0s 7ms/step - loss: 6.1370 - mae: 6.1370\n",
      "Epoch 24/100\n",
      "1/1 [==============================] - 0s 9ms/step - loss: 6.1886 - mae: 6.1886\n",
      "Epoch 25/100\n",
      "1/1 [==============================] - 0s 8ms/step - loss: 6.2185 - mae: 6.2185\n",
      "Epoch 26/100\n",
      "1/1 [==============================] - 0s 7ms/step - loss: 6.1565 - mae: 6.1565\n",
      "Epoch 27/100\n",
      "1/1 [==============================] - 0s 8ms/step - loss: 6.0134 - mae: 6.0134\n",
      "Epoch 28/100\n",
      "1/1 [==============================] - 0s 9ms/step - loss: 5.7967 - mae: 5.7967\n",
      "Epoch 29/100\n",
      "1/1 [==============================] - 0s 8ms/step - loss: 5.6849 - mae: 5.6849\n",
      "Epoch 30/100\n",
      "1/1 [==============================] - 0s 7ms/step - loss: 5.5799 - mae: 5.5799\n",
      "Epoch 31/100\n",
      "1/1 [==============================] - 0s 7ms/step - loss: 5.4943 - mae: 5.4943\n",
      "Epoch 32/100\n",
      "1/1 [==============================] - 0s 8ms/step - loss: 5.4882 - mae: 5.4882\n",
      "Epoch 33/100\n",
      "1/1 [==============================] - 0s 7ms/step - loss: 5.4425 - mae: 5.4425\n",
      "Epoch 34/100\n",
      "1/1 [==============================] - 0s 7ms/step - loss: 5.3600 - mae: 5.3600\n",
      "Epoch 35/100\n",
      "1/1 [==============================] - 0s 9ms/step - loss: 5.2438 - mae: 5.2438\n",
      "Epoch 36/100\n",
      "1/1 [==============================] - 0s 21ms/step - loss: 5.0969 - mae: 5.0969\n",
      "Epoch 37/100\n",
      "1/1 [==============================] - 0s 18ms/step - loss: 4.9220 - mae: 4.9220\n",
      "Epoch 38/100\n",
      "1/1 [==============================] - 0s 9ms/step - loss: 4.8321 - mae: 4.8321\n",
      "Epoch 39/100\n",
      "1/1 [==============================] - 0s 8ms/step - loss: 4.7425 - mae: 4.7425\n",
      "Epoch 40/100\n",
      "1/1 [==============================] - 0s 7ms/step - loss: 4.6446 - mae: 4.6446\n",
      "Epoch 41/100\n",
      "1/1 [==============================] - 0s 7ms/step - loss: 4.5793 - mae: 4.5793\n",
      "Epoch 42/100\n",
      "1/1 [==============================] - 0s 12ms/step - loss: 4.4506 - mae: 4.4506\n",
      "Epoch 43/100\n",
      "1/1 [==============================] - 0s 9ms/step - loss: 4.2697 - mae: 4.2697\n",
      "Epoch 44/100\n",
      "1/1 [==============================] - 0s 8ms/step - loss: 4.1190 - mae: 4.1190\n",
      "Epoch 45/100\n",
      "1/1 [==============================] - 0s 8ms/step - loss: 3.9607 - mae: 3.9607\n",
      "Epoch 46/100\n",
      "1/1 [==============================] - 0s 8ms/step - loss: 3.8048 - mae: 3.8048\n",
      "Epoch 47/100\n",
      "1/1 [==============================] - 0s 8ms/step - loss: 3.6843 - mae: 3.6843\n",
      "Epoch 48/100\n",
      "1/1 [==============================] - 0s 8ms/step - loss: 3.5161 - mae: 3.5161\n",
      "Epoch 49/100\n",
      "1/1 [==============================] - 0s 7ms/step - loss: 3.3123 - mae: 3.3123\n",
      "Epoch 50/100\n",
      "1/1 [==============================] - 0s 9ms/step - loss: 3.1422 - mae: 3.1422\n",
      "Epoch 51/100\n",
      "1/1 [==============================] - 0s 8ms/step - loss: 2.9607 - mae: 2.9607\n",
      "Epoch 52/100\n",
      "1/1 [==============================] - 0s 8ms/step - loss: 2.7677 - mae: 2.7677\n",
      "Epoch 53/100\n",
      "1/1 [==============================] - 0s 8ms/step - loss: 2.5628 - mae: 2.5628\n",
      "Epoch 54/100\n",
      "1/1 [==============================] - 0s 8ms/step - loss: 2.3460 - mae: 2.3460\n",
      "Epoch 55/100\n",
      "1/1 [==============================] - 0s 8ms/step - loss: 2.1172 - mae: 2.1172\n",
      "Epoch 56/100\n",
      "1/1 [==============================] - 0s 7ms/step - loss: 1.8760 - mae: 1.8760\n",
      "Epoch 57/100\n",
      "1/1 [==============================] - 0s 9ms/step - loss: 1.6274 - mae: 1.6274\n",
      "Epoch 58/100\n",
      "1/1 [==============================] - 0s 8ms/step - loss: 1.3694 - mae: 1.3694\n",
      "Epoch 59/100\n",
      "1/1 [==============================] - 0s 9ms/step - loss: 1.1025 - mae: 1.1025\n",
      "Epoch 60/100\n",
      "1/1 [==============================] - 0s 8ms/step - loss: 0.8260 - mae: 0.8260\n",
      "Epoch 61/100\n",
      "1/1 [==============================] - 0s 9ms/step - loss: 0.5825 - mae: 0.5825\n",
      "Epoch 62/100\n",
      "1/1 [==============================] - 0s 9ms/step - loss: 0.2678 - mae: 0.2678\n",
      "Epoch 63/100\n",
      "1/1 [==============================] - 0s 8ms/step - loss: 0.3178 - mae: 0.3178\n",
      "Epoch 64/100\n",
      "1/1 [==============================] - 0s 10ms/step - loss: 0.4040 - mae: 0.4040\n",
      "Epoch 65/100\n",
      "1/1 [==============================] - 0s 8ms/step - loss: 0.6897 - mae: 0.6897\n",
      "Epoch 66/100\n",
      "1/1 [==============================] - 0s 9ms/step - loss: 0.8841 - mae: 0.8841\n",
      "Epoch 67/100\n",
      "1/1 [==============================] - 0s 10ms/step - loss: 0.8425 - mae: 0.8425\n",
      "Epoch 68/100\n",
      "1/1 [==============================] - 0s 9ms/step - loss: 0.8795 - mae: 0.8795\n",
      "Epoch 69/100\n",
      "1/1 [==============================] - 0s 13ms/step - loss: 1.0296 - mae: 1.0296\n",
      "Epoch 70/100\n",
      "1/1 [==============================] - 0s 14ms/step - loss: 0.9407 - mae: 0.9407\n",
      "Epoch 71/100\n",
      "1/1 [==============================] - 0s 8ms/step - loss: 0.6903 - mae: 0.6903\n",
      "Epoch 72/100\n",
      "1/1 [==============================] - 0s 8ms/step - loss: 0.7409 - mae: 0.7409\n",
      "Epoch 73/100\n",
      "1/1 [==============================] - 0s 9ms/step - loss: 0.6993 - mae: 0.6993\n",
      "Epoch 74/100\n",
      "1/1 [==============================] - 0s 8ms/step - loss: 0.4759 - mae: 0.4759\n",
      "Epoch 75/100\n",
      "1/1 [==============================] - 0s 8ms/step - loss: 0.1086 - mae: 0.1086\n",
      "Epoch 76/100\n",
      "1/1 [==============================] - 0s 8ms/step - loss: 0.3304 - mae: 0.3304\n",
      "Epoch 77/100\n",
      "1/1 [==============================] - 0s 9ms/step - loss: 0.4122 - mae: 0.4122\n",
      "Epoch 78/100\n",
      "1/1 [==============================] - 0s 9ms/step - loss: 0.3618 - mae: 0.3618\n",
      "Epoch 79/100\n",
      "1/1 [==============================] - 0s 8ms/step - loss: 0.6133 - mae: 0.6133\n",
      "Epoch 80/100\n",
      "1/1 [==============================] - 0s 8ms/step - loss: 0.7796 - mae: 0.7796\n",
      "Epoch 81/100\n",
      "1/1 [==============================] - 0s 8ms/step - loss: 0.6734 - mae: 0.6734\n",
      "Epoch 82/100\n",
      "1/1 [==============================] - 0s 8ms/step - loss: 0.4696 - mae: 0.4696\n",
      "Epoch 83/100\n",
      "1/1 [==============================] - 0s 7ms/step - loss: 0.5960 - mae: 0.5960\n",
      "Epoch 84/100\n",
      "1/1 [==============================] - 0s 8ms/step - loss: 0.6348 - mae: 0.6348\n",
      "Epoch 85/100\n",
      "1/1 [==============================] - 0s 8ms/step - loss: 0.5170 - mae: 0.5170\n",
      "Epoch 86/100\n",
      "1/1 [==============================] - 0s 8ms/step - loss: 0.2569 - mae: 0.2569\n",
      "Epoch 87/100\n",
      "1/1 [==============================] - 0s 8ms/step - loss: 0.2348 - mae: 0.2348\n",
      "Epoch 88/100\n",
      "1/1 [==============================] - 0s 9ms/step - loss: 0.3084 - mae: 0.3084\n",
      "Epoch 89/100\n",
      "1/1 [==============================] - 0s 7ms/step - loss: 0.2646 - mae: 0.2646\n",
      "Epoch 90/100\n",
      "1/1 [==============================] - 0s 7ms/step - loss: 0.4549 - mae: 0.4549\n",
      "Epoch 91/100\n",
      "1/1 [==============================] - 0s 7ms/step - loss: 0.5428 - mae: 0.5428\n",
      "Epoch 92/100\n",
      "1/1 [==============================] - 0s 8ms/step - loss: 0.3941 - mae: 0.3941\n",
      "Epoch 93/100\n",
      "1/1 [==============================] - 0s 8ms/step - loss: 0.4130 - mae: 0.4130\n",
      "Epoch 94/100\n",
      "1/1 [==============================] - 0s 8ms/step - loss: 0.4574 - mae: 0.4574\n",
      "Epoch 95/100\n",
      "1/1 [==============================] - 0s 15ms/step - loss: 0.3435 - mae: 0.3435\n",
      "Epoch 96/100\n",
      "1/1 [==============================] - 0s 7ms/step - loss: 0.0917 - mae: 0.0917\n",
      "Epoch 97/100\n",
      "1/1 [==============================] - 0s 10ms/step - loss: 0.3493 - mae: 0.3493\n",
      "Epoch 98/100\n",
      "1/1 [==============================] - 0s 8ms/step - loss: 0.4441 - mae: 0.4441\n",
      "Epoch 99/100\n",
      "1/1 [==============================] - 0s 8ms/step - loss: 0.4011 - mae: 0.4011\n",
      "Epoch 100/100\n",
      "1/1 [==============================] - 0s 8ms/step - loss: 0.2944 - mae: 0.2944\n"
     ]
    },
    {
     "data": {
      "text/plain": [
       "<keras.callbacks.History at 0x2d4634fd0>"
      ]
     },
     "execution_count": 74,
     "metadata": {},
     "output_type": "execute_result"
    }
   ],
   "source": [
    "# Recreate model 2 with extra 100 layers\n",
    "\n",
    "model=tf.keras.Sequential([\n",
    "    tf.keras.layers.Dense(50,activation=None),\n",
    "    tf.keras.layers.Dense(1)\n",
    "])\n",
    "\n",
    "model.compile(\n",
    "    loss=\"mae\",\n",
    "    optimizer=tf.keras.optimizers.legacy.Adam(lr=0.01),\n",
    "    metrics=[\"mae\"]\n",
    "\n",
    ")\n",
    "\n",
    "model.fit(tf.expand_dims(X,axis=-1),y,epochs=100)\n",
    "\n"
   ]
  },
  {
   "cell_type": "code",
   "execution_count": 75,
   "metadata": {},
   "outputs": [
    {
     "name": "stdout",
     "output_type": "stream",
     "text": [
      "1/1 [==============================] - 0s 45ms/step\n"
     ]
    },
    {
     "data": {
      "text/plain": [
       "array([[27.817774]], dtype=float32)"
      ]
     },
     "execution_count": 75,
     "metadata": {},
     "output_type": "execute_result"
    }
   ],
   "source": [
    "model.predict([17])"
   ]
  },
  {
   "cell_type": "code",
   "execution_count": null,
   "metadata": {},
   "outputs": [],
   "source": []
  }
 ],
 "metadata": {
  "kernelspec": {
   "display_name": "base",
   "language": "python",
   "name": "python3"
  },
  "language_info": {
   "codemirror_mode": {
    "name": "ipython",
    "version": 3
   },
   "file_extension": ".py",
   "mimetype": "text/x-python",
   "name": "python",
   "nbconvert_exporter": "python",
   "pygments_lexer": "ipython3",
   "version": "3.10.9"
  },
  "orig_nbformat": 4
 },
 "nbformat": 4,
 "nbformat_minor": 2
}
