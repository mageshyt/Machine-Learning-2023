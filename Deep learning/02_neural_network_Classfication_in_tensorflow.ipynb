{
 "cells": [
  {
   "cell_type": "markdown",
   "metadata": {},
   "source": [
    "# Introductin to neural network classification with tensorflow\n",
    "\n",
    "# A neural network is a network of neurons, these neurons take an input and learn from certain features in the input and then produce an output\n",
    "\n",
    "in this notebook we're going to see how to write neural networks for classification problems\n",
    "\n",
    "**Classification problems**\n",
    "\n",
    "The goal of a classification problem is to classify something as one thing or another\n",
    "\n",
    "**Binary classification**\n",
    "\n",
    "The goal of a binary classification problem is to classify something as one thing or another\n",
    "\n",
    "**Multiclass classification**\n",
    "\n",
    "Multiclass classification is a type of classification problem where the goal is to predict the class of an input sample from a set of more than two possible classes.\n",
    "\n",
    "**Multilabel classification**\n",
    "\n",
    "Multilabel classification is commonly used in applications such as image classification, where an image may contain\n",
    "multiple obiects or attributes that need to be identified."
   ]
  },
  {
   "cell_type": "code",
   "execution_count": 1,
   "metadata": {},
   "outputs": [],
   "source": [
    "# Create data to view and fit\n",
    "\n",
    "from sklearn.datasets import make_circles\n",
    "\n",
    "# Make 1000 examples\n",
    "\n",
    "n_samples = 1000\n",
    "\n",
    "# Create circles\n",
    "\n",
    "X, y = make_circles(n_samples,\n",
    "                    noise=0.03,\n",
    "                    random_state=42)\n"
   ]
  },
  {
   "cell_type": "code",
   "execution_count": null,
   "metadata": {},
   "outputs": [],
   "source": []
  }
 ],
 "metadata": {
  "kernelspec": {
   "display_name": "base",
   "language": "python",
   "name": "python3"
  },
  "language_info": {
   "codemirror_mode": {
    "name": "ipython",
    "version": 3
   },
   "file_extension": ".py",
   "mimetype": "text/x-python",
   "name": "python",
   "nbconvert_exporter": "python",
   "pygments_lexer": "ipython3",
   "version": "3.10.9"
  },
  "orig_nbformat": 4
 },
 "nbformat": 4,
 "nbformat_minor": 2
}
