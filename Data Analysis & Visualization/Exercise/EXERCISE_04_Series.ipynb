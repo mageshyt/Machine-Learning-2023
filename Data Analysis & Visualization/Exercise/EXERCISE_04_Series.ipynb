{
 "cells": [
  {
   "cell_type": "markdown",
   "id": "fd53be39",
   "metadata": {},
   "source": [
    "# Series Basics Exercise\n",
    "\n",
    "**Work with the `bestsellers.csv` dataset to answer the following questions:**"
   ]
  },
  {
   "cell_type": "markdown",
   "id": "bf9e627e",
   "metadata": {},
   "source": [
    "## Part 1\n",
    "* Retrieve a series that contains the book Names\n",
    "* Retrieve a series that contains the User Ratings\n",
    "* Retrieve the first 8 Authors"
   ]
  },
  {
   "cell_type": "code",
   "execution_count": 3,
   "id": "aafe3c0c",
   "metadata": {},
   "outputs": [
    {
     "name": "stdout",
     "output_type": "stream",
     "text": [
      "0                          10-Day Green Smoothie Cleanse\n",
      "1                                      11/22/63: A Novel\n",
      "2                12 Rules for Life: An Antidote to Chaos\n",
      "3                                 1984 (Signet Classics)\n",
      "4      5,000 Awesome Facts (About Everything!) (Natio...\n",
      "                             ...                        \n",
      "545         Wrecking Ball (Diary of a Wimpy Kid Book 14)\n",
      "546    You Are a Badass: How to Stop Doubting Your Gr...\n",
      "547    You Are a Badass: How to Stop Doubting Your Gr...\n",
      "548    You Are a Badass: How to Stop Doubting Your Gr...\n",
      "549    You Are a Badass: How to Stop Doubting Your Gr...\n",
      "Name: Name, Length: 550, dtype: object\n",
      "0      4.7\n",
      "1      4.6\n",
      "2      4.7\n",
      "3      4.7\n",
      "4      4.8\n",
      "      ... \n",
      "545    4.9\n",
      "546    4.7\n",
      "547    4.7\n",
      "548    4.7\n",
      "549    4.7\n",
      "Name: User Rating, Length: 550, dtype: float64\n"
     ]
    },
    {
     "data": {
      "text/plain": [
       "0                    JJ Smith\n",
       "1                Stephen King\n",
       "2          Jordan B. Peterson\n",
       "3               George Orwell\n",
       "4    National Geographic Kids\n",
       "5         George R. R. Martin\n",
       "6         George R. R. Martin\n",
       "7                 Amor Towles\n",
       "Name: Author, dtype: object"
      ]
     },
     "execution_count": 3,
     "metadata": {},
     "output_type": "execute_result"
    }
   ],
   "source": [
    "import pandas as pd\n",
    "\n",
    "df=pd.read_csv('./data/bestsellers.csv')\n",
    "\n",
    "print(df['Name']) # Series with book name\n",
    "\n",
    "print(df['User Rating']) # Series with user rating\n",
    "\n",
    "df['Author'].head(8)"
   ]
  },
  {
   "cell_type": "markdown",
   "id": "2f778d1b",
   "metadata": {},
   "source": [
    "## Part 2\n",
    "* Find the unique Genres\n",
    "* Find the number of unique Authors\n",
    "* Find the average Price\n",
    "* Find the 10 highest prices"
   ]
  },
  {
   "cell_type": "code",
   "execution_count": 7,
   "id": "e78d09d2",
   "metadata": {},
   "outputs": [
    {
     "name": "stdout",
     "output_type": "stream",
     "text": [
      "['Non Fiction' 'Fiction']\n",
      "248\n",
      "average price 13.1\n",
      "average price 69     105\n",
      "70     105\n",
      "473     82\n",
      "151     54\n",
      "346     53\n",
      "159     52\n",
      "271     46\n",
      "272     46\n",
      "273     46\n",
      "274     46\n",
      "Name: Price, dtype: int64\n"
     ]
    }
   ],
   "source": [
    "print(df['Genre'].unique())\n",
    "print(df['Author'].nunique())\n",
    "\n",
    "print(\"average price\", df['Price'].mean())\n",
    "\n",
    "print(\"average price\", df['Price'].nlargest(10))"
   ]
  },
  {
   "cell_type": "markdown",
   "id": "0df37adf",
   "metadata": {},
   "source": [
    "## Part 3\n",
    "* Find the top 3 most common book titles in the dataset\n",
    "* Create a new dataframe with only Author and User Rating.\n",
    "* Using the new dataframe, find the most common combination of Author and User Rating Score."
   ]
  },
  {
   "cell_type": "code",
   "execution_count": 15,
   "id": "b5b1cde1",
   "metadata": {},
   "outputs": [
    {
     "data": {
      "text/plain": [
       "Author                              User Rating\n",
       "Jeff Kinney                         4.8            10\n",
       "American Psychological Association  4.5            10\n",
       "Gallup                              4.0             9\n",
       "Rick Riordan                        4.8             9\n",
       "Dr. Seuss                           4.9             8\n",
       "                                                   ..\n",
       "Ken Follett                         4.5             1\n",
       "Kevin Kwan                          4.3             1\n",
       "Khaled Hosseini                     4.3             1\n",
       "DK                                  4.5             1\n",
       "Jeff Kinney                         4.9             1\n",
       "Length: 301, dtype: int64"
      ]
     },
     "execution_count": 15,
     "metadata": {},
     "output_type": "execute_result"
    }
   ],
   "source": [
    "df['Name'].value_counts().head(5)\n",
    "\n",
    "new_df=pd.DataFrame(df[ [\"Author\",\"User Rating\"]]) \n",
    "\n",
    "# most common combination of author and user rating\n",
    "new_df.value_counts()\n"
   ]
  },
  {
   "cell_type": "markdown",
   "id": "ab43956b",
   "metadata": {},
   "source": [
    "## Part 4\n",
    "* Create a pie chart showing the total number of times each Genre appears in the dataset.\n",
    "* Find out the top 10 most prolific authors and plot their number of books as a bar plot\n",
    "* BONUS: create a histogram showing the distribution of User Rating scores"
   ]
  },
  {
   "cell_type": "code",
   "execution_count": 19,
   "id": "a0b7b790",
   "metadata": {},
   "outputs": [
    {
     "data": {
      "text/plain": [
       "<BarContainer object of 10 artists>"
      ]
     },
     "execution_count": 19,
     "metadata": {},
     "output_type": "execute_result"
    },
    {
     "data": {
      "image/png": "[encoded data removed]",
      "text/plain": [
       "<Figure size 1500x600 with 1 Axes>"
      ]
     },
     "metadata": {},
     "output_type": "display_data"
    }
   ],
   "source": [
    "import matplotlib.pyplot as plt\n",
    "\n",
    "# top most prolific authors\n",
    "\n",
    "plt.figure(figsize=(15, 6))\n",
    "\n",
    "authors = df['Author'].value_counts().head(10)\n",
    "\n",
    "plt.bar(authors.index, authors.values, color='green')\n",
    "\n"
   ]
  },
  {
   "cell_type": "code",
   "execution_count": null,
   "id": "350e58df",
   "metadata": {},
   "outputs": [],
   "source": []
  }
 ],
 "metadata": {
  "kernelspec": {
   "display_name": "Python 3",
   "language": "python",
   "name": "python3"
  },
  "language_info": {
   "codemirror_mode": {
    "name": "ipython",
    "version": 3
   },
   "file_extension": ".py",
   "mimetype": "text/x-python",
   "name": "python",
   "nbconvert_exporter": "python",
   "pygments_lexer": "ipython3",
   "version": "3.10.9"
  }
 },
 "nbformat": 4,
 "nbformat_minor": 5
}
