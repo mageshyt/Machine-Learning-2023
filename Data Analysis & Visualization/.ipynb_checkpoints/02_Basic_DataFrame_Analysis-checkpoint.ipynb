{
 "cells": [
  {
   "cell_type": "markdown",
   "metadata": {},
   "source": [
    "# Basic DataFrame Analysis \n",
    "\n",
    "* `sum`\n",
    "* `min`\n",
    "* `max`\n",
    "* `median`\n",
    "* `mean`\n",
    "* `count`\n",
    "* `describe`"
   ]
  },
  {
   "cell_type": "code",
   "execution_count": 2,
   "metadata": {},
   "outputs": [],
   "source": [
    "import pandas as pd\n",
    "\n",
    "kc_house=pd.read_csv(\"./data/kc_house_data.csv\")"
   ]
  },
  {
   "cell_type": "code",
   "execution_count": 3,
   "metadata": {},
   "outputs": [
    {
     "data": {
      "text/plain": [
       "id                       1000102\n",
       "date             20140502T000000\n",
       "price                    75000.0\n",
       "bedrooms                       0\n",
       "bathrooms                    0.0\n",
       "sqft_living                  290\n",
       "sqft_lot                     520\n",
       "floors                       1.0\n",
       "waterfront                     0\n",
       "view                           0\n",
       "condition                      1\n",
       "grade                          1\n",
       "sqft_above                   290\n",
       "sqft_basement                  0\n",
       "yr_built                    1900\n",
       "yr_renovated                   0\n",
       "zipcode                    98001\n",
       "lat                      47.1559\n",
       "long                    -122.519\n",
       "sqft_living15                399\n",
       "sqft_lot15                   651\n",
       "dtype: object"
      ]
     },
     "execution_count": 3,
     "metadata": {},
     "output_type": "execute_result"
    }
   ],
   "source": [
    "kc_house.min()"
   ]
  },
  {
   "cell_type": "code",
   "execution_count": 4,
   "metadata": {},
   "outputs": [
    {
     "data": {
      "text/plain": [
       "id                    9900000190\n",
       "date             20150527T000000\n",
       "price                  7700000.0\n",
       "bedrooms                      33\n",
       "bathrooms                    8.0\n",
       "sqft_living                13540\n",
       "sqft_lot                 1651359\n",
       "floors                       3.5\n",
       "waterfront                     1\n",
       "view                           4\n",
       "condition                      5\n",
       "grade                         13\n",
       "sqft_above                  9410\n",
       "sqft_basement               4820\n",
       "yr_built                    2015\n",
       "yr_renovated                2015\n",
       "zipcode                    98199\n",
       "lat                      47.7776\n",
       "long                    -121.315\n",
       "sqft_living15               6210\n",
       "sqft_lot15                871200\n",
       "dtype: object"
      ]
     },
     "execution_count": 4,
     "metadata": {},
     "output_type": "execute_result"
    }
   ],
   "source": [
    "kc_house.max()"
   ]
  },
  {
   "cell_type": "code",
   "execution_count": null,
   "metadata": {},
   "outputs": [],
   "source": []
  }
 ],
 "metadata": {
  "kernelspec": {
   "display_name": "Python 3 (ipykernel)",
   "language": "python",
   "name": "python3"
  },
  "language_info": {
   "codemirror_mode": {
    "name": "ipython",
    "version": 3
   },
   "file_extension": ".py",
   "mimetype": "text/x-python",
   "name": "python",
   "nbconvert_exporter": "python",
   "pygments_lexer": "ipython3",
   "version": "3.10.9"
  }
 },
 "nbformat": 4,
 "nbformat_minor": 2
}
